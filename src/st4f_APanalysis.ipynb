{
 "cells": [
  {
   "cell_type": "code",
   "execution_count": 1,
   "metadata": {},
   "outputs": [
    {
     "name": "stdout",
     "output_type": "stream",
     "text": [
      "Requirement already satisfied: linearmodels in ./envkkr/lib/python3.9/site-packages (5.4)\n",
      "Requirement already satisfied: numpy>=1.22.0 in ./envkkr/lib/python3.9/site-packages (from linearmodels) (1.26.4)\n",
      "Requirement already satisfied: pandas>=1.3.0 in ./envkkr/lib/python3.9/site-packages (from linearmodels) (2.2.2)\n",
      "Requirement already satisfied: scipy>=1.5.0 in ./envkkr/lib/python3.9/site-packages (from linearmodels) (1.12.0)\n",
      "Requirement already satisfied: statsmodels>=0.12.0 in ./envkkr/lib/python3.9/site-packages (from linearmodels) (0.14.1)\n",
      "Requirement already satisfied: mypy-extensions>=0.4 in ./envkkr/lib/python3.9/site-packages (from linearmodels) (1.0.0)\n",
      "Requirement already satisfied: Cython>=0.29.37 in ./envkkr/lib/python3.9/site-packages (from linearmodels) (3.0.9)\n",
      "Requirement already satisfied: pyhdfe>=0.1 in ./envkkr/lib/python3.9/site-packages (from linearmodels) (0.2.0)\n",
      "Requirement already satisfied: formulaic>=0.6.5 in ./envkkr/lib/python3.9/site-packages (from linearmodels) (1.0.1)\n",
      "Requirement already satisfied: setuptools-scm<9.0.0,>=8.0.0 in ./envkkr/lib/python3.9/site-packages (from setuptools-scm[toml]<9.0.0,>=8.0.0->linearmodels) (8.0.4)\n",
      "Requirement already satisfied: interface-meta>=1.2.0 in ./envkkr/lib/python3.9/site-packages (from formulaic>=0.6.5->linearmodels) (1.3.0)\n",
      "Requirement already satisfied: typing-extensions>=4.2.0 in ./envkkr/lib/python3.9/site-packages (from formulaic>=0.6.5->linearmodels) (4.9.0)\n",
      "Requirement already satisfied: wrapt>=1.0 in ./envkkr/lib/python3.9/site-packages (from formulaic>=0.6.5->linearmodels) (1.16.0)\n",
      "Requirement already satisfied: python-dateutil>=2.8.2 in ./envkkr/lib/python3.9/site-packages (from pandas>=1.3.0->linearmodels) (2.8.2)\n",
      "Requirement already satisfied: pytz>=2020.1 in ./envkkr/lib/python3.9/site-packages (from pandas>=1.3.0->linearmodels) (2024.1)\n",
      "Requirement already satisfied: tzdata>=2022.7 in ./envkkr/lib/python3.9/site-packages (from pandas>=1.3.0->linearmodels) (2023.4)\n",
      "Requirement already satisfied: packaging>=20 in ./envkkr/lib/python3.9/site-packages (from setuptools-scm<9.0.0,>=8.0.0->setuptools-scm[toml]<9.0.0,>=8.0.0->linearmodels) (23.2)\n",
      "Requirement already satisfied: setuptools in ./envkkr/lib/python3.9/site-packages (from setuptools-scm<9.0.0,>=8.0.0->setuptools-scm[toml]<9.0.0,>=8.0.0->linearmodels) (58.1.0)\n",
      "Requirement already satisfied: tomli>=1 in ./envkkr/lib/python3.9/site-packages (from setuptools-scm<9.0.0,>=8.0.0->setuptools-scm[toml]<9.0.0,>=8.0.0->linearmodels) (2.0.1)\n",
      "Requirement already satisfied: patsy>=0.5.4 in ./envkkr/lib/python3.9/site-packages (from statsmodels>=0.12.0->linearmodels) (0.5.6)\n",
      "Requirement already satisfied: six in ./envkkr/lib/python3.9/site-packages (from patsy>=0.5.4->statsmodels>=0.12.0->linearmodels) (1.16.0)\n",
      "Note: you may need to restart the kernel to use updated packages.\n"
     ]
    }
   ],
   "source": [
    "%pip install linearmodels"
   ]
  },
  {
   "cell_type": "code",
   "execution_count": 2,
   "metadata": {},
   "outputs": [
    {
     "name": "stdout",
     "output_type": "stream",
     "text": [
      "Requirement already satisfied: pandas in ./envkkr/lib/python3.9/site-packages (2.2.2)\n",
      "Requirement already satisfied: numpy>=1.22.4 in ./envkkr/lib/python3.9/site-packages (from pandas) (1.26.4)\n",
      "Requirement already satisfied: python-dateutil>=2.8.2 in ./envkkr/lib/python3.9/site-packages (from pandas) (2.8.2)\n",
      "Requirement already satisfied: pytz>=2020.1 in ./envkkr/lib/python3.9/site-packages (from pandas) (2024.1)\n",
      "Requirement already satisfied: tzdata>=2022.7 in ./envkkr/lib/python3.9/site-packages (from pandas) (2023.4)\n",
      "Requirement already satisfied: six>=1.5 in ./envkkr/lib/python3.9/site-packages (from python-dateutil>=2.8.2->pandas) (1.16.0)\n",
      "Note: you may need to restart the kernel to use updated packages.\n"
     ]
    }
   ],
   "source": [
    "# Install last version of Pandas:\n",
    "%pip install --upgrade pandas"
   ]
  },
  {
   "cell_type": "code",
   "execution_count": 3,
   "metadata": {},
   "outputs": [],
   "source": [
    "# Require Pandas version >= 2.2.2\n",
    "import pandas as pd\n",
    "#pd.__version__\n",
    "assert pd.__version__ >= '2.2.2', 'Please update Pandas to version 2.2.2 or newer'"
   ]
  },
  {
   "cell_type": "code",
   "execution_count": 4,
   "metadata": {},
   "outputs": [
    {
     "name": "stdout",
     "output_type": "stream",
     "text": [
      "2.2.2\n"
     ]
    }
   ],
   "source": [
    "import linearmodels\n",
    "import pandas as pd, os, pyreadr\n",
    "import warnings\n",
    "import time\n",
    "import numpy as  np\n",
    "import pandas as pd\n",
    "import random\n",
    "import pandas as pd\n",
    "import visualization as viz\n",
    "import data_loading as dl\n",
    "import risk_pricing as rp\n",
    "import statsmodels\n",
    "import statsmodels.api as sm\n",
    "import statsmodels.formula.api as smf\n",
    "from statsmodels.iolib.summary2 import summary_col\n",
    "print(pd.__version__)\n"
   ]
  },
  {
   "cell_type": "code",
   "execution_count": 5,
   "metadata": {},
   "outputs": [
    {
     "name": "stdout",
     "output_type": "stream",
     "text": [
      "Current Working Directory: /Users/pedrovallocci/Documents/PhD (local)/Research/Github/KnowledgeKRisk_10Ks/src\n",
      "New Working Directory: /Users/pedrovallocci/Documents/PhD (local)/Research/Github/KnowledgeKRisk_10Ks/src\n"
     ]
    }
   ],
   "source": [
    "#% PARAMETERS\n",
    "source_folder_path = \"/Users/pedrovallocci/Documents/PhD (local)/Research/Github/KnowledgeKRisk_10Ks/src/\"\n",
    "modelname = \"dicfullmc10thr10defnob5noa0_8_4t\" #\"dicfullmc10thr10defnob5noa0_8_4t\"\n",
    "quantiles = 4\n",
    "clean_again = False\n",
    "generate_plots = False\n",
    "warnings.filterwarnings(\"ignore\")\n",
    "print_kurtosis = False\n",
    "pfn = \"pf36_name\"\n",
    "mo_window = 12*5\n",
    "start_time = time.time()\n",
    "# print the current working directory (for reference)\n",
    "print(\"Current Working Directory:\", os.getcwd())\n",
    "os.chdir(source_folder_path)\n",
    "print(\"New Working Directory:\", os.getcwd())"
   ]
  },
  {
   "cell_type": "markdown",
   "metadata": {},
   "source": [
    "Variables created:\n",
    "\n",
    "- amazon_nov01_short:\n",
    "\n",
    "- cequity_mapper:\n",
    "\n",
    "- Fama-French factors: ff3fw, ff5fw, ff3fm, ff5fm\n",
    "\n",
    "- Topic_map_unlabeled\n",
    "\n",
    "- Stocks vectors: stoxmo_orig, stoxwe_orig\n",
    "\n",
    "- comparison_measures: a vector that calculates the average industry skill and firm patent intensity for each of the topics."
   ]
  },
  {
   "cell_type": "code",
   "execution_count": 6,
   "metadata": {},
   "outputs": [
    {
     "name": "stdout",
     "output_type": "stream",
     "text": [
      "Arruda é 45\n",
      "Tempo de execução depois de carregar os dados: 0.6179020404815674\n"
     ]
    }
   ],
   "source": [
    "# Creating the directory\n",
    "base_path = \"/Users/pedrovallocci/Documents/PhD (local)/Research/Github/KnowledgeKRisk_10Ks/text/\"\n",
    "dir_path = os.path.join(base_path, modelname)\n",
    "os.makedirs(dir_path, exist_ok=True)\n",
    "\n",
    "# Setting up the figure folder path\n",
    "figfolder = os.path.join(dir_path, \"\")\n",
    "\n",
    "# Loading the data from load_dataframes:\n",
    "amazon_nov01_short, cequity_mapper, ff3fw, ff5fw, \\\n",
    "  ff3fm, ff5fm, topic_map_unlabeled, \\\n",
    "    stoxmo_orig, comparison_measures, \\\n",
    "      stoxwe_orig = dl.load_dataframes(modelname, \\\n",
    "    source_folder_path, start_time, clean_again)"
   ]
  },
  {
   "cell_type": "markdown",
   "metadata": {},
   "source": [
    "A glimpse of the column in stoxmo_orig."
   ]
  },
  {
   "cell_type": "code",
   "execution_count": 7,
   "metadata": {},
   "outputs": [
    {
     "data": {
      "text/html": [
       "<div>\n",
       "<style scoped>\n",
       "    .dataframe tbody tr th:only-of-type {\n",
       "        vertical-align: middle;\n",
       "    }\n",
       "\n",
       "    .dataframe tbody tr th {\n",
       "        vertical-align: top;\n",
       "    }\n",
       "\n",
       "    .dataframe thead th {\n",
       "        text-align: right;\n",
       "    }\n",
       "</style>\n",
       "<table border=\"1\" class=\"dataframe\">\n",
       "  <thead>\n",
       "    <tr style=\"text-align: right;\">\n",
       "      <th></th>\n",
       "      <th>PERMNO</th>\n",
       "      <th>date</th>\n",
       "      <th>COMNAM</th>\n",
       "      <th>CUSIP</th>\n",
       "      <th>PRC</th>\n",
       "      <th>VOL</th>\n",
       "      <th>RET</th>\n",
       "      <th>TICKER</th>\n",
       "      <th>SHRCD</th>\n",
       "    </tr>\n",
       "  </thead>\n",
       "  <tbody>\n",
       "    <tr>\n",
       "      <th>0</th>\n",
       "      <td>10001.0</td>\n",
       "      <td>20000131.0</td>\n",
       "      <td>ENERGY WEST INC</td>\n",
       "      <td>36720410</td>\n",
       "      <td>8.12500</td>\n",
       "      <td>403.0</td>\n",
       "      <td>-0.044118</td>\n",
       "      <td>EWST</td>\n",
       "      <td>11.0</td>\n",
       "    </tr>\n",
       "    <tr>\n",
       "      <th>1</th>\n",
       "      <td>10001.0</td>\n",
       "      <td>20000229.0</td>\n",
       "      <td>ENERGY WEST INC</td>\n",
       "      <td>36720410</td>\n",
       "      <td>8.25000</td>\n",
       "      <td>222.0</td>\n",
       "      <td>0.015385</td>\n",
       "      <td>EWST</td>\n",
       "      <td>11.0</td>\n",
       "    </tr>\n",
       "    <tr>\n",
       "      <th>2</th>\n",
       "      <td>10001.0</td>\n",
       "      <td>20000331.0</td>\n",
       "      <td>ENERGY WEST INC</td>\n",
       "      <td>36720410</td>\n",
       "      <td>-8.00000</td>\n",
       "      <td>723.0</td>\n",
       "      <td>-0.015758</td>\n",
       "      <td>EWST</td>\n",
       "      <td>11.0</td>\n",
       "    </tr>\n",
       "    <tr>\n",
       "      <th>3</th>\n",
       "      <td>10001.0</td>\n",
       "      <td>20000428.0</td>\n",
       "      <td>ENERGY WEST INC</td>\n",
       "      <td>36720410</td>\n",
       "      <td>-8.09375</td>\n",
       "      <td>263.0</td>\n",
       "      <td>0.011719</td>\n",
       "      <td>EWST</td>\n",
       "      <td>11.0</td>\n",
       "    </tr>\n",
       "    <tr>\n",
       "      <th>4</th>\n",
       "      <td>10001.0</td>\n",
       "      <td>20000531.0</td>\n",
       "      <td>ENERGY WEST INC</td>\n",
       "      <td>36720410</td>\n",
       "      <td>-7.90625</td>\n",
       "      <td>221.0</td>\n",
       "      <td>-0.023166</td>\n",
       "      <td>EWST</td>\n",
       "      <td>11.0</td>\n",
       "    </tr>\n",
       "    <tr>\n",
       "      <th>...</th>\n",
       "      <td>...</td>\n",
       "      <td>...</td>\n",
       "      <td>...</td>\n",
       "      <td>...</td>\n",
       "      <td>...</td>\n",
       "      <td>...</td>\n",
       "      <td>...</td>\n",
       "      <td>...</td>\n",
       "      <td>...</td>\n",
       "    </tr>\n",
       "    <tr>\n",
       "      <th>1848816</th>\n",
       "      <td>93436.0</td>\n",
       "      <td>20200831.0</td>\n",
       "      <td>TESLA INC</td>\n",
       "      <td>88160R10</td>\n",
       "      <td>498.32001</td>\n",
       "      <td>4051970.0</td>\n",
       "      <td>0.741452</td>\n",
       "      <td>TSLA</td>\n",
       "      <td>11.0</td>\n",
       "    </tr>\n",
       "    <tr>\n",
       "      <th>1848817</th>\n",
       "      <td>93436.0</td>\n",
       "      <td>20200930.0</td>\n",
       "      <td>TESLA INC</td>\n",
       "      <td>88160R10</td>\n",
       "      <td>429.01001</td>\n",
       "      <td>17331954.0</td>\n",
       "      <td>-0.139087</td>\n",
       "      <td>TSLA</td>\n",
       "      <td>11.0</td>\n",
       "    </tr>\n",
       "    <tr>\n",
       "      <th>1848818</th>\n",
       "      <td>93436.0</td>\n",
       "      <td>20201030.0</td>\n",
       "      <td>TESLA INC</td>\n",
       "      <td>88160R10</td>\n",
       "      <td>388.04001</td>\n",
       "      <td>8330610.0</td>\n",
       "      <td>-0.095499</td>\n",
       "      <td>TSLA</td>\n",
       "      <td>11.0</td>\n",
       "    </tr>\n",
       "    <tr>\n",
       "      <th>1848819</th>\n",
       "      <td>93436.0</td>\n",
       "      <td>20201130.0</td>\n",
       "      <td>TESLA INC</td>\n",
       "      <td>88160R10</td>\n",
       "      <td>567.59998</td>\n",
       "      <td>7811501.0</td>\n",
       "      <td>0.462736</td>\n",
       "      <td>TSLA</td>\n",
       "      <td>11.0</td>\n",
       "    </tr>\n",
       "    <tr>\n",
       "      <th>1848820</th>\n",
       "      <td>93436.0</td>\n",
       "      <td>20201231.0</td>\n",
       "      <td>TESLA INC</td>\n",
       "      <td>88160R10</td>\n",
       "      <td>705.66998</td>\n",
       "      <td>11962716.0</td>\n",
       "      <td>0.243252</td>\n",
       "      <td>TSLA</td>\n",
       "      <td>11.0</td>\n",
       "    </tr>\n",
       "  </tbody>\n",
       "</table>\n",
       "<p>1848821 rows × 9 columns</p>\n",
       "</div>"
      ],
      "text/plain": [
       "          PERMNO        date           COMNAM     CUSIP        PRC  \\\n",
       "0        10001.0  20000131.0  ENERGY WEST INC  36720410    8.12500   \n",
       "1        10001.0  20000229.0  ENERGY WEST INC  36720410    8.25000   \n",
       "2        10001.0  20000331.0  ENERGY WEST INC  36720410   -8.00000   \n",
       "3        10001.0  20000428.0  ENERGY WEST INC  36720410   -8.09375   \n",
       "4        10001.0  20000531.0  ENERGY WEST INC  36720410   -7.90625   \n",
       "...          ...         ...              ...       ...        ...   \n",
       "1848816  93436.0  20200831.0        TESLA INC  88160R10  498.32001   \n",
       "1848817  93436.0  20200930.0        TESLA INC  88160R10  429.01001   \n",
       "1848818  93436.0  20201030.0        TESLA INC  88160R10  388.04001   \n",
       "1848819  93436.0  20201130.0        TESLA INC  88160R10  567.59998   \n",
       "1848820  93436.0  20201231.0        TESLA INC  88160R10  705.66998   \n",
       "\n",
       "                VOL        RET TICKER  SHRCD  \n",
       "0             403.0  -0.044118   EWST   11.0  \n",
       "1             222.0   0.015385   EWST   11.0  \n",
       "2             723.0  -0.015758   EWST   11.0  \n",
       "3             263.0   0.011719   EWST   11.0  \n",
       "4             221.0  -0.023166   EWST   11.0  \n",
       "...             ...        ...    ...    ...  \n",
       "1848816   4051970.0   0.741452   TSLA   11.0  \n",
       "1848817  17331954.0  -0.139087   TSLA   11.0  \n",
       "1848818   8330610.0  -0.095499   TSLA   11.0  \n",
       "1848819   7811501.0   0.462736   TSLA   11.0  \n",
       "1848820  11962716.0   0.243252   TSLA   11.0  \n",
       "\n",
       "[1848821 rows x 9 columns]"
      ]
     },
     "execution_count": 7,
     "metadata": {},
     "output_type": "execute_result"
    }
   ],
   "source": [
    "stoxmo_orig"
   ]
  },
  {
   "cell_type": "markdown",
   "metadata": {},
   "source": [
    "Below, I need to use a trick when creating quartiles of topic_kk to avoid ties. That's not the ideal situation. Even better, I should not overwrite the original value of topic_kk with the new one."
   ]
  },
  {
   "cell_type": "code",
   "execution_count": 8,
   "metadata": {},
   "outputs": [
    {
     "name": "stdout",
     "output_type": "stream",
     "text": [
      "Running time: 0.6443939208984375\n"
     ]
    }
   ],
   "source": [
    "# Pause execution of code and return to the command line:\n",
    "#topic_map, labels = viz.label_dicfullmc10thr10defnob40noa1_4t(topic_map_unlabeled)\n",
    "import visualization as viz\n",
    "topic_map = viz.label_topic_map(topic_map_unlabeled, modelname)\n",
    "# topic_dict = {\"dicfullmc10thr10defnob40noa1_4t\": {\"topic_0\": \"topic_kk\", \"topic_1\": \"topic_finl\", \"topic_2\": \"topic_sw\", \"topic_3\": \"topic_rawm\"},\n",
    "#                 \"dicfullmc10thr10defnob40noa0_8_4t\": {\"topic_0\": \"topic_0\", \"topic_1\": \"topic_1\", \"topic_2\": \"topic_2\", \"topic_3\": \"topic_kk\"},\n",
    "#                 \"dicfullmc10thr10defnob5noa1_4t\": {\"topic_0\": \"topic_0\", \"topic_1\": \"topic_1\", \"topic_2\": \"topic_2\", \"topic_3\": \"topic_kk\"},\n",
    "#                 \"dicfullmc10thr10defnob5noa0_8_4t\": {\"topic_0\": \"topic_0\", \"topic_1\": \"topic_1\", \"topic_2\": \"topic_2\", \"topic_3\": \"topic_kk\"},\n",
    "#                 \"dicfullmc10thr10defnob40noa0_9_4t\": {\"topic_0\": \"topic_0\", \"topic_1\": \"topic_1\", \"topic_2\": \"topic_2\", \"topic_3\": \"topic_kk\"}}   \n",
    "\n",
    "# topic_map_labeled = topic_map_unlabeled.copy()\n",
    "\n",
    "# topic_map_labeled.rename(columns = topic_dict[modelname], inplace=True)  \n",
    "# topic_map = topic_map_labeled  \n",
    "print(\"Running time:\", time.time() - start_time)\n",
    "\n",
    "#topic_kk = labels[0]\n",
    "\n",
    "# Add a random number from a uniform distribution from 0 to 1e-6 to avoid ties:\n",
    "topic_map['topic_kk_no_ties'] = topic_map['topic_kk'] # +  np.random.uniform(0, 1e-6, len(topic_map['topic_kk']))\n",
    "topic_map['ntile_topic_kk'] = (topic_map.\n",
    "    groupby('year')['topic_kk_no_ties'].\n",
    "    transform(lambda x: pd.qcut(x, [0, 0.40, 0.60, 0.80,  1], labels=False, duplicates='raise')))"
   ]
  },
  {
   "cell_type": "code",
   "execution_count": 9,
   "metadata": {},
   "outputs": [
    {
     "data": {
      "text/plain": [
       "Text(0, 0.5, 'Frequency')"
      ]
     },
     "execution_count": 9,
     "metadata": {},
     "output_type": "execute_result"
    },
    {
     "data": {
      "image/png": "[encoded data removed]",
      "text/plain": [
       "<Figure size 640x480 with 1 Axes>"
      ]
     },
     "metadata": {},
     "output_type": "display_data"
    }
   ],
   "source": [
    "# Create a histogram of the topic_kk variable in Seaborn:\n",
    "import seaborn as sns\n",
    "import matplotlib.pyplot as plt\n",
    "# Create new figure: \n",
    "sns.histplot(data=topic_map, x='topic_kk', bins=20, kde=False)  # Adjust bins as needed\n",
    "plt.title('Histogram of topic_kk')\n",
    "plt.xlabel('Values of topic_kk')\n",
    "plt.ylabel('Frequency')"
   ]
  },
  {
   "cell_type": "code",
   "execution_count": 10,
   "metadata": {},
   "outputs": [
    {
     "name": "stdout",
     "output_type": "stream",
     "text": [
      "Running time: 0.848945140838623\n"
     ]
    }
   ],
   "source": [
    "if generate_plots:\n",
    "    topic_map = viz.generate_plots(topic_map, figfolder, start_time, quantiles)\n",
    "    \n",
    "print(\"Running time:\", time.time() - start_time)\n",
    "stoxmo = dl.clean_stoxmo_ff5(stoxmo_orig, cequity_mapper, topic_map, ff5fm)  # Assuming this is already converted to Python\n",
    "stoxmo_with_pfs = rp.attribute_portfolios_mo(stoxmo)  # Adjusted the function name to Python convention"
   ]
  },
  {
   "cell_type": "code",
   "execution_count": 12,
   "metadata": {},
   "outputs": [
    {
     "data": {
      "text/html": [
       "<table class=\"simpletable\">\n",
       "<caption>FamaMacBeth Estimation Summary</caption>\n",
       "<tr>\n",
       "  <th>Dep. Variable:</th>              <td>eretw</td>           <th>  R-squared:         </th>     <td>0.0033</td>  \n",
       "</tr>\n",
       "<tr>\n",
       "  <th>Estimator:</th>               <td>FamaMacBeth</td>        <th>  R-squared (Between):</th>    <td>0.8549</td>  \n",
       "</tr>\n",
       "<tr>\n",
       "  <th>No. Observations:</th>           <td>23544</td>           <th>  R-squared (Within):</th>     <td>0.0005</td>  \n",
       "</tr>\n",
       "<tr>\n",
       "  <th>Date:</th>                 <td>Sat, Apr 20 2024</td>      <th>  R-squared (Overall):</th>    <td>0.0033</td>  \n",
       "</tr>\n",
       "<tr>\n",
       "  <th>Time:</th>                     <td>15:00:32</td>          <th>  Log-likelihood     </th>    <td>4.343e+04</td>\n",
       "</tr>\n",
       "<tr>\n",
       "  <th>Cov. Estimator:</th>   <td>Fama-MacBeth Standard Cov</td> <th>                     </th>        <td></td>     \n",
       "</tr>\n",
       "<tr>\n",
       "  <th></th>                              <td></td>              <th>  F-statistic:       </th>     <td>13.105</td>  \n",
       "</tr>\n",
       "<tr>\n",
       "  <th>Entities:</th>                    <td>36</td>             <th>  P-value            </th>     <td>0.0000</td>  \n",
       "</tr>\n",
       "<tr>\n",
       "  <th>Avg Obs:</th>                   <td>654.00</td>           <th>  Distribution:      </th>   <td>F(6,23538)</td>\n",
       "</tr>\n",
       "<tr>\n",
       "  <th>Min Obs:</th>                   <td>654.00</td>           <th>                     </th>        <td></td>     \n",
       "</tr>\n",
       "<tr>\n",
       "  <th>Max Obs:</th>                   <td>654.00</td>           <th>  F-statistic (robust):</th>   <td>4.2851</td>  \n",
       "</tr>\n",
       "<tr>\n",
       "  <th></th>                              <td></td>              <th>  P-value            </th>     <td>0.0003</td>  \n",
       "</tr>\n",
       "<tr>\n",
       "  <th>Time periods:</th>                <td>654</td>            <th>  Distribution:      </th>   <td>F(6,23538)</td>\n",
       "</tr>\n",
       "<tr>\n",
       "  <th>Avg Obs:</th>                   <td>36.000</td>           <th>                     </th>        <td></td>     \n",
       "</tr>\n",
       "<tr>\n",
       "  <th>Min Obs:</th>                   <td>36.000</td>           <th>                     </th>        <td></td>     \n",
       "</tr>\n",
       "<tr>\n",
       "  <th>Max Obs:</th>                   <td>36.000</td>           <th>                     </th>        <td></td>     \n",
       "</tr>\n",
       "<tr>\n",
       "  <th></th>                              <td></td>              <th>                     </th>        <td></td>     \n",
       "</tr>\n",
       "</table>\n",
       "<table class=\"simpletable\">\n",
       "<caption>Parameter Estimates</caption>\n",
       "<tr>\n",
       "     <td></td>    <th>Parameter</th> <th>Std. Err.</th> <th>T-stat</th>  <th>P-value</th> <th>Lower CI</th>  <th>Upper CI</th>\n",
       "</tr>\n",
       "<tr>\n",
       "  <th>MktRF</th>   <td>0.0022</td>    <td>0.0011</td>   <td>2.0142</td>  <td>0.0440</td>  <td>5.865e-05</td>  <td>0.0043</td> \n",
       "</tr>\n",
       "<tr>\n",
       "  <th>SMB</th>    <td>3.169e-05</td>  <td>0.0005</td>   <td>0.0579</td>  <td>0.9538</td>   <td>-0.0010</td>   <td>0.0011</td> \n",
       "</tr>\n",
       "<tr>\n",
       "  <th>HML</th>     <td>-0.0022</td>   <td>0.0008</td>   <td>-2.7894</td> <td>0.0053</td>   <td>-0.0037</td>   <td>-0.0006</td>\n",
       "</tr>\n",
       "<tr>\n",
       "  <th>CMA</th>     <td>-0.0012</td>   <td>0.0005</td>   <td>-2.5386</td> <td>0.0111</td>   <td>-0.0021</td>   <td>-0.0003</td>\n",
       "</tr>\n",
       "<tr>\n",
       "  <th>RMW</th>     <td>0.0002</td>    <td>0.0005</td>   <td>0.3464</td>  <td>0.7291</td>   <td>-0.0007</td>   <td>0.0010</td> \n",
       "</tr>\n",
       "<tr>\n",
       "  <th>kkrhml</th>  <td>-0.0024</td>   <td>0.0007</td>   <td>-3.2122</td> <td>0.0013</td>   <td>-0.0038</td>   <td>-0.0009</td>\n",
       "</tr>\n",
       "</table><br/>id: 0x7fa1375a0b80"
      ],
      "text/plain": [
       "                             FamaMacBeth Estimation Summary                            \n",
       "=======================================================================================\n",
       "Dep. Variable:                         eretw   R-squared:                        0.0033\n",
       "Estimator:                       FamaMacBeth   R-squared (Between):              0.8549\n",
       "No. Observations:                      23544   R-squared (Within):               0.0005\n",
       "Date:                       Sat, Apr 20 2024   R-squared (Overall):              0.0033\n",
       "Time:                               15:00:32   Log-likelihood                 4.343e+04\n",
       "Cov. Estimator:    Fama-MacBeth Standard Cov                                           \n",
       "                                               F-statistic:                      13.105\n",
       "Entities:                                 36   P-value                           0.0000\n",
       "Avg Obs:                              654.00   Distribution:                 F(6,23538)\n",
       "Min Obs:                              654.00                                           \n",
       "Max Obs:                              654.00   F-statistic (robust):             4.2851\n",
       "                                               P-value                           0.0003\n",
       "Time periods:                            654   Distribution:                 F(6,23538)\n",
       "Avg Obs:                              36.000                                           \n",
       "Min Obs:                              36.000                                           \n",
       "Max Obs:                              36.000                                           \n",
       "                                                                                       \n",
       "                             Parameter Estimates                              \n",
       "==============================================================================\n",
       "            Parameter  Std. Err.     T-stat    P-value    Lower CI    Upper CI\n",
       "------------------------------------------------------------------------------\n",
       "MktRF          0.0022     0.0011     2.0142     0.0440   5.865e-05      0.0043\n",
       "SMB         3.169e-05     0.0005     0.0579     0.9538     -0.0010      0.0011\n",
       "HML           -0.0022     0.0008    -2.7894     0.0053     -0.0037     -0.0006\n",
       "CMA           -0.0012     0.0005    -2.5386     0.0111     -0.0021     -0.0003\n",
       "RMW            0.0002     0.0005     0.3464     0.7291     -0.0007      0.0010\n",
       "kkrhml        -0.0024     0.0007    -3.2122     0.0013     -0.0038     -0.0009\n",
       "==============================================================================\n",
       "FamaMacBethResults, id: 0x7fa1375a0b80"
      ]
     },
     "execution_count": 12,
     "metadata": {},
     "output_type": "execute_result"
    }
   ],
   "source": [
    "import risk_pricing as rp\n",
    "fmb, indexed_df = rp.famaMacBethFull(stoxwe_orig, cequity_mapper, topic_map, ff5fw, \"pf36_name\", window_size = 104)\n",
    "fmb"
   ]
  },
  {
   "cell_type": "code",
   "execution_count": 20,
   "metadata": {},
   "outputs": [
    {
     "ename": "NameError",
     "evalue": "name 'eret_we' is not defined",
     "output_type": "error",
     "traceback": [
      "\u001b[0;31m---------------------------------------------------------------------------\u001b[0m",
      "\u001b[0;31mNameError\u001b[0m                                 Traceback (most recent call last)",
      "Cell \u001b[0;32mIn[20], line 5\u001b[0m\n\u001b[1;32m      2\u001b[0m \u001b[38;5;28;01mfrom\u001b[39;00m \u001b[38;5;21;01mstatsmodels\u001b[39;00m\u001b[38;5;21;01m.\u001b[39;00m\u001b[38;5;21;01mapi\u001b[39;00m \u001b[38;5;28;01mimport\u001b[39;00m add_constant\n\u001b[1;32m      3\u001b[0m \u001b[38;5;28;01mfrom\u001b[39;00m \u001b[38;5;21;01mlinearmodels\u001b[39;00m\u001b[38;5;21;01m.\u001b[39;00m\u001b[38;5;21;01mpanel\u001b[39;00m\u001b[38;5;21;01m.\u001b[39;00m\u001b[38;5;21;01mmodel\u001b[39;00m \u001b[38;5;28;01mimport\u001b[39;00m FamaMacBeth\n\u001b[0;32m----> 5\u001b[0m eret_we2 \u001b[38;5;241m=\u001b[39m add_constant(\u001b[43meret_we\u001b[49m, prepend\u001b[38;5;241m=\u001b[39m\u001b[38;5;28;01mFalse\u001b[39;00m)\n\u001b[1;32m      6\u001b[0m eret_we2\u001b[38;5;241m.\u001b[39mset_index(\u001b[38;5;124m'\u001b[39m\u001b[38;5;124myw\u001b[39m\u001b[38;5;124m'\u001b[39m, inplace\u001b[38;5;241m=\u001b[39m\u001b[38;5;28;01mTrue\u001b[39;00m)\n\u001b[1;32m      7\u001b[0m eret_we2\u001b[38;5;241m.\u001b[39mrename(columns\u001b[38;5;241m=\u001b[39m{\u001b[38;5;124m'\u001b[39m\u001b[38;5;124mconst\u001b[39m\u001b[38;5;124m'\u001b[39m: \u001b[38;5;124m'\u001b[39m\u001b[38;5;124malpha\u001b[39m\u001b[38;5;124m'\u001b[39m, \u001b[38;5;124m'\u001b[39m\u001b[38;5;124mMkt.RF\u001b[39m\u001b[38;5;124m'\u001b[39m: \u001b[38;5;124m'\u001b[39m\u001b[38;5;124mMktRF\u001b[39m\u001b[38;5;124m'\u001b[39m}, inplace\u001b[38;5;241m=\u001b[39m\u001b[38;5;28;01mTrue\u001b[39;00m)\n",
      "\u001b[0;31mNameError\u001b[0m: name 'eret_we' is not defined"
     ]
    }
   ],
   "source": [
    "from statsmodels.regression.rolling import RollingOLS\n",
    "from statsmodels.api import add_constant\n",
    "from linearmodels.panel.model import FamaMacBeth\n",
    "\n",
    "eret_we2 = add_constant(eret_we, prepend=False)\n",
    "eret_we2.set_index('yw', inplace=True)\n",
    "eret_we2.rename(columns={'const': 'alpha', 'Mkt.RF': 'MktRF'}, inplace=True)\n",
    "# mod = RollingOLS.from_formula('eretw ~ MktRF + SMB + HML + kkrhml', data=eret_we2, window=52, expanding=True, subset=eret_we2.pf36_name == 11)\n",
    "# rres = mod.fit()\n",
    "# rres.params\n",
    "results_list = []\n",
    "\n",
    "# Iterate over each unique value of pf36_name\n",
    "for pf_name in eret_we2['pf36_name'].unique():\n",
    "    # Subset the DataFrame for the current pf36_name\n",
    "    subset_data = eret_we2[eret_we2['pf36_name'] == pf_name]\n",
    "    \n",
    "    # Initialize and fit the RollingOLS model\n",
    "    mod = RollingOLS.from_formula('eretw ~ MktRF + SMB + HML + kkrhml', data=subset_data, window=52, expanding=False)\n",
    "    rres = mod.fit(cov_type=\"HC0\", method=\"pinv\", params_only=True)\n",
    "    \n",
    "    # Assuming your DataFrame's index contains the time window identifier 'yw'\n",
    "    # Extract coefficients for each window and create a DataFrame\n",
    "    for idx, params in rres.params.iterrows():\n",
    "        results_list.append([idx, pf_name, params['Intercept'], params['MktRF'], params['SMB'], params['HML'], params['kkrhml']])\n",
    "\n",
    "# Convert the list of results into a DataFrame\n",
    "results_df = pd.DataFrame(results_list, columns=['yw', 'pf36_name', 'Intercept', 'MktRF', 'SMB', 'HML', 'kkrhml'])\n",
    "results_df = results_df.merge(eret_we[['yw', 'pf36_name', 'eretw']], on=['yw', 'pf36_name'], how='left')\n",
    "\n",
    "indexed_df = results_df.set_index(['pf36_name', 'yw'], inplace=False)\n",
    "dog = FamaMacBeth.from_formula('eretw ~ MktRF + SMB + HML + kkrhml', indexed_df).fit()\n",
    "dog.summary"
   ]
  },
  {
   "cell_type": "code",
   "execution_count": 21,
   "metadata": {},
   "outputs": [
    {
     "ename": "NameError",
     "evalue": "name 'eret_we' is not defined",
     "output_type": "error",
     "traceback": [
      "\u001b[0;31m---------------------------------------------------------------------------\u001b[0m",
      "\u001b[0;31mNameError\u001b[0m                                 Traceback (most recent call last)",
      "Cell \u001b[0;32mIn[21], line 22\u001b[0m\n\u001b[1;32m     19\u001b[0m \u001b[38;5;66;03m# Assuming `eret_we` is your DataFrame and `formula` is a string representing your regression formula\u001b[39;00m\n\u001b[1;32m     20\u001b[0m \u001b[38;5;66;03m# Replace `pfn` with the actual column name you intend to use\u001b[39;00m\n\u001b[1;32m     21\u001b[0m formula \u001b[38;5;241m=\u001b[39m \u001b[38;5;124m'\u001b[39m\u001b[38;5;124meretw ~ kkrhml + HML + SMB + MktRF\u001b[39m\u001b[38;5;124m'\u001b[39m\n\u001b[0;32m---> 22\u001b[0m eret_we \u001b[38;5;241m=\u001b[39m \u001b[43meret_we\u001b[49m\u001b[38;5;241m.\u001b[39mrename(columns\u001b[38;5;241m=\u001b[39m{\u001b[38;5;124m'\u001b[39m\u001b[38;5;124mMkt.RF\u001b[39m\u001b[38;5;124m'\u001b[39m: \u001b[38;5;124m'\u001b[39m\u001b[38;5;124mMktRF\u001b[39m\u001b[38;5;124m'\u001b[39m})\n\u001b[1;32m     23\u001b[0m pfn \u001b[38;5;241m=\u001b[39m \u001b[38;5;124m\"\u001b[39m\u001b[38;5;124mpf36_name\u001b[39m\u001b[38;5;124m\"\u001b[39m\n\u001b[1;32m     24\u001b[0m \u001b[38;5;28mprint\u001b[39m(\u001b[38;5;124m\"\u001b[39m\u001b[38;5;124mDeu tudo certo até aqui\u001b[39m\u001b[38;5;124m\"\u001b[39m)\n",
      "\u001b[0;31mNameError\u001b[0m: name 'eret_we' is not defined"
     ]
    }
   ],
   "source": [
    "def regress_and_summarize(group):\n",
    "    model = smf.ols(formula, data=group).fit(cov_type= \"HAC\", cov_kwds={'maxlags': 4})\n",
    "    # Breusch-Pagan test:\n",
    "    #test_result = statsmodels.stats.api.het_breuschpagan(model.resid, model.model.exog)\n",
    "    #print(statsmodels.compat.lzip(['Lagrange multiplier statistic', 'p-value', 'f-value', 'f p-value'], test_result))\n",
    "    return pd.Series({\n",
    "        'eretw': group['eretw'].mean(),\n",
    "        't': len(group),\n",
    "        '(Intercept)': model.params['Intercept'],\n",
    "        'kkrhml': model.params['kkrhml'],\n",
    "        'HML': model.params['HML'],\n",
    "        'SMB': model.params['SMB'],\n",
    "        'CMA': model.params.get('CMA', np.nan),\n",
    "        'RMW': model.params.get('RMW', np.nan),\n",
    "        'MktRF': model.params['MktRF'],\n",
    "        'sigmae': len(group) * model.bse['Intercept']**2\n",
    "    })\n",
    "\n",
    "# Assuming `eret_we` is your DataFrame and `formula` is a string representing your regression formula\n",
    "# Replace `pfn` with the actual column name you intend to use\n",
    "formula = 'eretw ~ kkrhml + HML + SMB + MktRF'\n",
    "eret_we = eret_we.rename(columns={'Mkt.RF': 'MktRF'})\n",
    "pfn = \"pf36_name\"\n",
    "print(\"Deu tudo certo até aqui\")\n",
    "\n",
    "first_stage1 = eret_we.groupby(pfn).apply(regress_and_summarize).reset_index()\n",
    "\n",
    "# Getting sigmae for intercept\n",
    "get_sigmae = (first_stage1[['sigmae', pfn]]\n",
    "              .dropna())\n",
    "first_stage2 = first_stage1\n",
    "\n",
    "X = first_stage2[['kkrhml', 'HML', 'SMB', 'MktRF']]\n",
    "X = sm.add_constant(X)  # Adds a constant term to the predictor\n",
    "y = first_stage2['eretw']\n",
    "\n",
    "# Define the weights\n",
    "weights = first_stage2['sigmae']\n",
    "\n",
    "# Fit the weighted least squares model\n",
    "#model_wls = statsmodels.regression.linear_model.WLS(y, X).fit()\n",
    "model_wls = statsmodels.regression.linear_model.WLS(y, X).fit()\n",
    "#model_wls = statsmodels.regression.linear_model.GLS(y, X, sigma= ).fit()\n",
    "\n",
    "# Print the summary of the model\n",
    "print(model_wls.summary())"
   ]
  },
  {
   "cell_type": "code",
   "execution_count": null,
   "metadata": {},
   "outputs": [],
   "source": [
    "from linearmodels import FamaMacBeth\n",
    "from linearmodels.panel import generate_panel_data\n",
    "panel_data = generate_panel_data()\n",
    "dog = panel_data.data\n",
    "mod = FamaMacBeth.from_formula(\"y ~ 1 + x1\", panel_data.data)\n",
    "res = mod.fit()\n"
   ]
  },
  {
   "cell_type": "code",
   "execution_count": null,
   "metadata": {},
   "outputs": [
    {
     "ename": "ValueError",
     "evalue": "Model cannot be estimated. All blocks of time-series observations are rank deficient, and so it is not possible to estimate anycross-sectional regressions.",
     "output_type": "error",
     "traceback": [
      "\u001b[0;31m---------------------------------------------------------------------------\u001b[0m",
      "\u001b[0;31mValueError\u001b[0m                                Traceback (most recent call last)",
      "Cell \u001b[0;32mIn[13], line 6\u001b[0m\n\u001b[1;32m      2\u001b[0m eret_we[\u001b[38;5;124m'\u001b[39m\u001b[38;5;124myw_date\u001b[39m\u001b[38;5;124m'\u001b[39m] \u001b[38;5;241m=\u001b[39m pd\u001b[38;5;241m.\u001b[39mto_datetime(eret_we[\u001b[38;5;124m'\u001b[39m\u001b[38;5;124myw\u001b[39m\u001b[38;5;124m'\u001b[39m]\u001b[38;5;241m*\u001b[39m\u001b[38;5;241m10\u001b[39m\u001b[38;5;241m+\u001b[39m\u001b[38;5;241m1\u001b[39m, \u001b[38;5;28mformat\u001b[39m\u001b[38;5;241m=\u001b[39m\u001b[38;5;124m\"\u001b[39m\u001b[38;5;132;01m%G\u001b[39;00m\u001b[38;5;124m%\u001b[39m\u001b[38;5;124mV\u001b[39m\u001b[38;5;132;01m%u\u001b[39;00m\u001b[38;5;124m\"\u001b[39m)\n\u001b[1;32m      4\u001b[0m panel_data \u001b[38;5;241m=\u001b[39m (eret_we\u001b[38;5;241m.\u001b[39m\n\u001b[1;32m      5\u001b[0m             set_index([\u001b[38;5;124m'\u001b[39m\u001b[38;5;124mpf36_name\u001b[39m\u001b[38;5;124m'\u001b[39m, \u001b[38;5;124m'\u001b[39m\u001b[38;5;124myw_date\u001b[39m\u001b[38;5;124m'\u001b[39m]))\n\u001b[0;32m----> 6\u001b[0m mod \u001b[38;5;241m=\u001b[39m \u001b[43mFamaMacBeth\u001b[49m\u001b[38;5;241;43m.\u001b[39;49m\u001b[43mfrom_formula\u001b[49m\u001b[43m(\u001b[49m\u001b[38;5;124;43m'\u001b[39;49m\u001b[38;5;124;43meretw ~ kkrhml + HML + SMB + MktRF\u001b[39;49m\u001b[38;5;124;43m'\u001b[39;49m\u001b[43m,\u001b[49m\u001b[43m \u001b[49m\u001b[43mpanel_data\u001b[49m\u001b[43m,\u001b[49m\u001b[43m \u001b[49m\u001b[43mcheck_rank\u001b[49m\u001b[38;5;241;43m=\u001b[39;49m\u001b[38;5;28;43;01mFalse\u001b[39;49;00m\u001b[43m)\u001b[49m\n\u001b[1;32m      7\u001b[0m res \u001b[38;5;241m=\u001b[39m mod\u001b[38;5;241m.\u001b[39mfit()\n",
      "File \u001b[0;32m~/Documents/PhD (local)/Research/Github/KnowledgeKRisk_10Ks/src/envkkr/lib/python3.9/site-packages/linearmodels/panel/model.py:3174\u001b[0m, in \u001b[0;36mFamaMacBeth.from_formula\u001b[0;34m(cls, formula, data, weights, check_rank)\u001b[0m\n\u001b[1;32m   3172\u001b[0m parser \u001b[38;5;241m=\u001b[39m PanelFormulaParser(formula, data, context\u001b[38;5;241m=\u001b[39mcapture_context(\u001b[38;5;241m1\u001b[39m))\n\u001b[1;32m   3173\u001b[0m dependent, exog \u001b[38;5;241m=\u001b[39m parser\u001b[38;5;241m.\u001b[39mdata\n\u001b[0;32m-> 3174\u001b[0m mod \u001b[38;5;241m=\u001b[39m \u001b[38;5;28;43mcls\u001b[39;49m\u001b[43m(\u001b[49m\u001b[43mdependent\u001b[49m\u001b[43m,\u001b[49m\u001b[43m \u001b[49m\u001b[43mexog\u001b[49m\u001b[43m,\u001b[49m\u001b[43m \u001b[49m\u001b[43mweights\u001b[49m\u001b[38;5;241;43m=\u001b[39;49m\u001b[43mweights\u001b[49m\u001b[43m,\u001b[49m\u001b[43m \u001b[49m\u001b[43mcheck_rank\u001b[49m\u001b[38;5;241;43m=\u001b[39;49m\u001b[43mcheck_rank\u001b[49m\u001b[43m)\u001b[49m\n\u001b[1;32m   3175\u001b[0m mod\u001b[38;5;241m.\u001b[39mformula \u001b[38;5;241m=\u001b[39m formula\n\u001b[1;32m   3176\u001b[0m \u001b[38;5;28;01mreturn\u001b[39;00m mod\n",
      "File \u001b[0;32m~/Documents/PhD (local)/Research/Github/KnowledgeKRisk_10Ks/src/envkkr/lib/python3.9/site-packages/linearmodels/panel/model.py:2906\u001b[0m, in \u001b[0;36mFamaMacBeth.__init__\u001b[0;34m(self, dependent, exog, weights, check_rank)\u001b[0m\n\u001b[1;32m   2897\u001b[0m \u001b[38;5;28;01mdef\u001b[39;00m \u001b[38;5;21m__init__\u001b[39m(\n\u001b[1;32m   2898\u001b[0m     \u001b[38;5;28mself\u001b[39m,\n\u001b[1;32m   2899\u001b[0m     dependent: PanelDataLike,\n\u001b[0;32m   (...)\u001b[0m\n\u001b[1;32m   2903\u001b[0m     check_rank: \u001b[38;5;28mbool\u001b[39m \u001b[38;5;241m=\u001b[39m \u001b[38;5;28;01mTrue\u001b[39;00m,\n\u001b[1;32m   2904\u001b[0m ):\n\u001b[1;32m   2905\u001b[0m     \u001b[38;5;28msuper\u001b[39m()\u001b[38;5;241m.\u001b[39m\u001b[38;5;21m__init__\u001b[39m(dependent, exog, weights\u001b[38;5;241m=\u001b[39mweights, check_rank\u001b[38;5;241m=\u001b[39mcheck_rank)\n\u001b[0;32m-> 2906\u001b[0m     \u001b[38;5;28;43mself\u001b[39;49m\u001b[38;5;241;43m.\u001b[39;49m\u001b[43m_validate_blocks\u001b[49m\u001b[43m(\u001b[49m\u001b[43m)\u001b[49m\n",
      "File \u001b[0;32m~/Documents/PhD (local)/Research/Github/KnowledgeKRisk_10Ks/src/envkkr/lib/python3.9/site-packages/linearmodels/panel/model.py:2934\u001b[0m, in \u001b[0;36mFamaMacBeth._validate_blocks\u001b[0;34m(self)\u001b[0m\n\u001b[1;32m   2928\u001b[0m \u001b[38;5;28;01mif\u001b[39;00m \u001b[38;5;129;01mnot\u001b[39;00m valid_blocks\u001b[38;5;241m.\u001b[39many():\n\u001b[1;32m   2929\u001b[0m     err \u001b[38;5;241m=\u001b[39m (\n\u001b[1;32m   2930\u001b[0m         \u001b[38;5;124m\"\u001b[39m\u001b[38;5;124mModel cannot be estimated. All blocks of time-series observations \u001b[39m\u001b[38;5;124m\"\u001b[39m\n\u001b[1;32m   2931\u001b[0m         \u001b[38;5;124m\"\u001b[39m\u001b[38;5;124mare rank deficient, and so it is not possible to estimate any\u001b[39m\u001b[38;5;124m\"\u001b[39m\n\u001b[1;32m   2932\u001b[0m         \u001b[38;5;124m\"\u001b[39m\u001b[38;5;124mcross-sectional regressions.\u001b[39m\u001b[38;5;124m\"\u001b[39m\n\u001b[1;32m   2933\u001b[0m     )\n\u001b[0;32m-> 2934\u001b[0m     \u001b[38;5;28;01mraise\u001b[39;00m \u001b[38;5;167;01mValueError\u001b[39;00m(err)\n\u001b[1;32m   2935\u001b[0m \u001b[38;5;28;01mif\u001b[39;00m valid_blocks\u001b[38;5;241m.\u001b[39msum() \u001b[38;5;241m<\u001b[39m exog\u001b[38;5;241m.\u001b[39mshape[\u001b[38;5;241m1\u001b[39m]:\n\u001b[1;32m   2936\u001b[0m     \u001b[38;5;28;01mimport\u001b[39;00m \u001b[38;5;21;01mwarnings\u001b[39;00m\n",
      "\u001b[0;31mValueError\u001b[0m: Model cannot be estimated. All blocks of time-series observations are rank deficient, and so it is not possible to estimate anycross-sectional regressions."
     ]
    }
   ],
   "source": [
    "from linearmodels.panel.model import FamaMacBeth\n",
    "eret_we['yw_date'] = pd.to_datetime(eret_we['yw']*10+1, format=\"%G%V%u\")\n",
    "\n",
    "panel_data = (eret_we.\n",
    "            set_index(['pf36_name', 'yw_date']))\n",
    "mod = FamaMacBeth.from_formula('eretw ~ kkrhml + HML + SMB + MktRF', panel_data, check_rank=False)\n",
    "res = mod.fit()"
   ]
  },
  {
   "cell_type": "markdown",
   "metadata": {},
   "source": []
  },
  {
   "cell_type": "markdown",
   "metadata": {},
   "source": []
  },
  {
   "cell_type": "code",
   "execution_count": null,
   "metadata": {},
   "outputs": [
    {
     "data": {
      "text/plain": [
       "1     -94.013942\n",
       "2      46.287168\n",
       "3    -410.114622\n",
       "4     309.714591\n",
       "5    -249.311215\n",
       "6    -164.048956\n",
       "7     -13.180357\n",
       "8      14.304773\n",
       "9     455.394095\n",
       "10    -17.268927\n",
       "11    -39.055043\n",
       "12   -155.549974\n",
       "13    -85.671308\n",
       "14    341.931514\n",
       "15   -206.757825\n",
       "dtype: float64"
      ]
     },
     "execution_count": 9,
     "metadata": {},
     "output_type": "execute_result"
    }
   ],
   "source": [
    "data = sm.datasets.longley.load()\n",
    "data.exog = sm.add_constant(data.exog)\n",
    "ols_resid = sm.OLS(data.endog, data.exog).fit().resid\n",
    "#res_fit = sm.OLS(ols_resid[1:], ols_resid[:-1]).fit()\n",
    "\n",
    "ols_resid[:-1]\n",
    "ols_resid[1:]"
   ]
  },
  {
   "cell_type": "code",
   "execution_count": null,
   "metadata": {},
   "outputs": [
    {
     "ename": "PatsyError",
     "evalue": "Error evaluating factor: NameError: name 'Mkt' is not defined\n    eretw ~ kkrhml + HML + SMB + Mkt.RF\n                                 ^^^^^^",
     "output_type": "error",
     "traceback": [
      "\u001b[0;31m---------------------------------------------------------------------------\u001b[0m",
      "\u001b[0;31mNameError\u001b[0m                                 Traceback (most recent call last)",
      "File \u001b[0;32m~/Documents/PhD (local)/Research/Github/KnowledgeKRisk_10Ks/src/envkkr/lib/python3.9/site-packages/patsy/compat.py:36\u001b[0m, in \u001b[0;36mcall_and_wrap_exc\u001b[0;34m(msg, origin, f, *args, **kwargs)\u001b[0m\n\u001b[1;32m     35\u001b[0m \u001b[38;5;28;01mtry\u001b[39;00m:\n\u001b[0;32m---> 36\u001b[0m     \u001b[38;5;28;01mreturn\u001b[39;00m \u001b[43mf\u001b[49m\u001b[43m(\u001b[49m\u001b[38;5;241;43m*\u001b[39;49m\u001b[43margs\u001b[49m\u001b[43m,\u001b[49m\u001b[43m \u001b[49m\u001b[38;5;241;43m*\u001b[39;49m\u001b[38;5;241;43m*\u001b[39;49m\u001b[43mkwargs\u001b[49m\u001b[43m)\u001b[49m\n\u001b[1;32m     37\u001b[0m \u001b[38;5;28;01mexcept\u001b[39;00m \u001b[38;5;167;01mException\u001b[39;00m \u001b[38;5;28;01mas\u001b[39;00m e:\n",
      "File \u001b[0;32m~/Documents/PhD (local)/Research/Github/KnowledgeKRisk_10Ks/src/envkkr/lib/python3.9/site-packages/patsy/eval.py:169\u001b[0m, in \u001b[0;36mEvalEnvironment.eval\u001b[0;34m(self, expr, source_name, inner_namespace)\u001b[0m\n\u001b[1;32m    168\u001b[0m code \u001b[38;5;241m=\u001b[39m \u001b[38;5;28mcompile\u001b[39m(expr, source_name, \u001b[38;5;124m\"\u001b[39m\u001b[38;5;124meval\u001b[39m\u001b[38;5;124m\"\u001b[39m, \u001b[38;5;28mself\u001b[39m\u001b[38;5;241m.\u001b[39mflags, \u001b[38;5;28;01mFalse\u001b[39;00m)\n\u001b[0;32m--> 169\u001b[0m \u001b[38;5;28;01mreturn\u001b[39;00m \u001b[38;5;28;43meval\u001b[39;49m\u001b[43m(\u001b[49m\u001b[43mcode\u001b[49m\u001b[43m,\u001b[49m\u001b[43m \u001b[49m\u001b[43m{\u001b[49m\u001b[43m}\u001b[49m\u001b[43m,\u001b[49m\u001b[43m \u001b[49m\u001b[43mVarLookupDict\u001b[49m\u001b[43m(\u001b[49m\u001b[43m[\u001b[49m\u001b[43minner_namespace\u001b[49m\u001b[43m]\u001b[49m\n\u001b[1;32m    170\u001b[0m \u001b[43m                                    \u001b[49m\u001b[38;5;241;43m+\u001b[39;49m\u001b[43m \u001b[49m\u001b[38;5;28;43mself\u001b[39;49m\u001b[38;5;241;43m.\u001b[39;49m\u001b[43m_namespaces\u001b[49m\u001b[43m)\u001b[49m\u001b[43m)\u001b[49m\n",
      "File \u001b[0;32m<string>:1\u001b[0m\n",
      "\u001b[0;31mNameError\u001b[0m: name 'Mkt' is not defined",
      "\nThe above exception was the direct cause of the following exception:\n",
      "\u001b[0;31mPatsyError\u001b[0m                                Traceback (most recent call last)",
      "Cell \u001b[0;32mIn[10], line 5\u001b[0m\n\u001b[1;32m      3\u001b[0m results \u001b[38;5;241m=\u001b[39m []\n\u001b[1;32m      4\u001b[0m \u001b[38;5;28;01mfor\u001b[39;00m name, group \u001b[38;5;129;01min\u001b[39;00m grouped:\n\u001b[0;32m----> 5\u001b[0m     model \u001b[38;5;241m=\u001b[39m \u001b[43msmf\u001b[49m\u001b[38;5;241;43m.\u001b[39;49m\u001b[43mols\u001b[49m\u001b[43m(\u001b[49m\u001b[43mformula\u001b[49m\u001b[43m,\u001b[49m\u001b[43m \u001b[49m\u001b[43mdata\u001b[49m\u001b[38;5;241;43m=\u001b[39;49m\u001b[43mgroup\u001b[49m\u001b[43m)\u001b[49m\u001b[38;5;241m.\u001b[39mfit()\n\u001b[1;32m      6\u001b[0m     summary \u001b[38;5;241m=\u001b[39m model\u001b[38;5;241m.\u001b[39msummary2()\u001b[38;5;241m.\u001b[39mtables[\u001b[38;5;241m1\u001b[39m]\n\u001b[1;32m      7\u001b[0m     summary[\u001b[38;5;124m'\u001b[39m\u001b[38;5;124mgroup\u001b[39m\u001b[38;5;124m'\u001b[39m] \u001b[38;5;241m=\u001b[39m name\n",
      "File \u001b[0;32m~/Documents/PhD (local)/Research/Github/KnowledgeKRisk_10Ks/src/envkkr/lib/python3.9/site-packages/statsmodels/base/model.py:203\u001b[0m, in \u001b[0;36mModel.from_formula\u001b[0;34m(cls, formula, data, subset, drop_cols, *args, **kwargs)\u001b[0m\n\u001b[1;32m    200\u001b[0m \u001b[38;5;28;01mif\u001b[39;00m missing \u001b[38;5;241m==\u001b[39m \u001b[38;5;124m'\u001b[39m\u001b[38;5;124mnone\u001b[39m\u001b[38;5;124m'\u001b[39m:  \u001b[38;5;66;03m# with patsy it's drop or raise. let's raise.\u001b[39;00m\n\u001b[1;32m    201\u001b[0m     missing \u001b[38;5;241m=\u001b[39m \u001b[38;5;124m'\u001b[39m\u001b[38;5;124mraise\u001b[39m\u001b[38;5;124m'\u001b[39m\n\u001b[0;32m--> 203\u001b[0m tmp \u001b[38;5;241m=\u001b[39m \u001b[43mhandle_formula_data\u001b[49m\u001b[43m(\u001b[49m\u001b[43mdata\u001b[49m\u001b[43m,\u001b[49m\u001b[43m \u001b[49m\u001b[38;5;28;43;01mNone\u001b[39;49;00m\u001b[43m,\u001b[49m\u001b[43m \u001b[49m\u001b[43mformula\u001b[49m\u001b[43m,\u001b[49m\u001b[43m \u001b[49m\u001b[43mdepth\u001b[49m\u001b[38;5;241;43m=\u001b[39;49m\u001b[43meval_env\u001b[49m\u001b[43m,\u001b[49m\n\u001b[1;32m    204\u001b[0m \u001b[43m                          \u001b[49m\u001b[43mmissing\u001b[49m\u001b[38;5;241;43m=\u001b[39;49m\u001b[43mmissing\u001b[49m\u001b[43m)\u001b[49m\n\u001b[1;32m    205\u001b[0m ((endog, exog), missing_idx, design_info) \u001b[38;5;241m=\u001b[39m tmp\n\u001b[1;32m    206\u001b[0m max_endog \u001b[38;5;241m=\u001b[39m \u001b[38;5;28mcls\u001b[39m\u001b[38;5;241m.\u001b[39m_formula_max_endog\n",
      "File \u001b[0;32m~/Documents/PhD (local)/Research/Github/KnowledgeKRisk_10Ks/src/envkkr/lib/python3.9/site-packages/statsmodels/formula/formulatools.py:63\u001b[0m, in \u001b[0;36mhandle_formula_data\u001b[0;34m(Y, X, formula, depth, missing)\u001b[0m\n\u001b[1;32m     61\u001b[0m \u001b[38;5;28;01melse\u001b[39;00m:\n\u001b[1;32m     62\u001b[0m     \u001b[38;5;28;01mif\u001b[39;00m data_util\u001b[38;5;241m.\u001b[39m_is_using_pandas(Y, \u001b[38;5;28;01mNone\u001b[39;00m):\n\u001b[0;32m---> 63\u001b[0m         result \u001b[38;5;241m=\u001b[39m \u001b[43mdmatrices\u001b[49m\u001b[43m(\u001b[49m\u001b[43mformula\u001b[49m\u001b[43m,\u001b[49m\u001b[43m \u001b[49m\u001b[43mY\u001b[49m\u001b[43m,\u001b[49m\u001b[43m \u001b[49m\u001b[43mdepth\u001b[49m\u001b[43m,\u001b[49m\u001b[43m \u001b[49m\u001b[43mreturn_type\u001b[49m\u001b[38;5;241;43m=\u001b[39;49m\u001b[38;5;124;43m'\u001b[39;49m\u001b[38;5;124;43mdataframe\u001b[39;49m\u001b[38;5;124;43m'\u001b[39;49m\u001b[43m,\u001b[49m\n\u001b[1;32m     64\u001b[0m \u001b[43m                           \u001b[49m\u001b[43mNA_action\u001b[49m\u001b[38;5;241;43m=\u001b[39;49m\u001b[43mna_action\u001b[49m\u001b[43m)\u001b[49m\n\u001b[1;32m     65\u001b[0m     \u001b[38;5;28;01melse\u001b[39;00m:\n\u001b[1;32m     66\u001b[0m         result \u001b[38;5;241m=\u001b[39m dmatrices(formula, Y, depth, return_type\u001b[38;5;241m=\u001b[39m\u001b[38;5;124m'\u001b[39m\u001b[38;5;124mdataframe\u001b[39m\u001b[38;5;124m'\u001b[39m,\n\u001b[1;32m     67\u001b[0m                            NA_action\u001b[38;5;241m=\u001b[39mna_action)\n",
      "File \u001b[0;32m~/Documents/PhD (local)/Research/Github/KnowledgeKRisk_10Ks/src/envkkr/lib/python3.9/site-packages/patsy/highlevel.py:309\u001b[0m, in \u001b[0;36mdmatrices\u001b[0;34m(formula_like, data, eval_env, NA_action, return_type)\u001b[0m\n\u001b[1;32m    299\u001b[0m \u001b[38;5;250m\u001b[39m\u001b[38;5;124;03m\"\"\"Construct two design matrices given a formula_like and data.\u001b[39;00m\n\u001b[1;32m    300\u001b[0m \n\u001b[1;32m    301\u001b[0m \u001b[38;5;124;03mThis function is identical to :func:`dmatrix`, except that it requires\u001b[39;00m\n\u001b[0;32m   (...)\u001b[0m\n\u001b[1;32m    306\u001b[0m \u001b[38;5;124;03mSee :func:`dmatrix` for details.\u001b[39;00m\n\u001b[1;32m    307\u001b[0m \u001b[38;5;124;03m\"\"\"\u001b[39;00m\n\u001b[1;32m    308\u001b[0m eval_env \u001b[38;5;241m=\u001b[39m EvalEnvironment\u001b[38;5;241m.\u001b[39mcapture(eval_env, reference\u001b[38;5;241m=\u001b[39m\u001b[38;5;241m1\u001b[39m)\n\u001b[0;32m--> 309\u001b[0m (lhs, rhs) \u001b[38;5;241m=\u001b[39m \u001b[43m_do_highlevel_design\u001b[49m\u001b[43m(\u001b[49m\u001b[43mformula_like\u001b[49m\u001b[43m,\u001b[49m\u001b[43m \u001b[49m\u001b[43mdata\u001b[49m\u001b[43m,\u001b[49m\u001b[43m \u001b[49m\u001b[43meval_env\u001b[49m\u001b[43m,\u001b[49m\n\u001b[1;32m    310\u001b[0m \u001b[43m                                  \u001b[49m\u001b[43mNA_action\u001b[49m\u001b[43m,\u001b[49m\u001b[43m \u001b[49m\u001b[43mreturn_type\u001b[49m\u001b[43m)\u001b[49m\n\u001b[1;32m    311\u001b[0m \u001b[38;5;28;01mif\u001b[39;00m lhs\u001b[38;5;241m.\u001b[39mshape[\u001b[38;5;241m1\u001b[39m] \u001b[38;5;241m==\u001b[39m \u001b[38;5;241m0\u001b[39m:\n\u001b[1;32m    312\u001b[0m     \u001b[38;5;28;01mraise\u001b[39;00m PatsyError(\u001b[38;5;124m\"\u001b[39m\u001b[38;5;124mmodel is missing required outcome variables\u001b[39m\u001b[38;5;124m\"\u001b[39m)\n",
      "File \u001b[0;32m~/Documents/PhD (local)/Research/Github/KnowledgeKRisk_10Ks/src/envkkr/lib/python3.9/site-packages/patsy/highlevel.py:164\u001b[0m, in \u001b[0;36m_do_highlevel_design\u001b[0;34m(formula_like, data, eval_env, NA_action, return_type)\u001b[0m\n\u001b[1;32m    162\u001b[0m \u001b[38;5;28;01mdef\u001b[39;00m \u001b[38;5;21mdata_iter_maker\u001b[39m():\n\u001b[1;32m    163\u001b[0m     \u001b[38;5;28;01mreturn\u001b[39;00m \u001b[38;5;28miter\u001b[39m([data])\n\u001b[0;32m--> 164\u001b[0m design_infos \u001b[38;5;241m=\u001b[39m \u001b[43m_try_incr_builders\u001b[49m\u001b[43m(\u001b[49m\u001b[43mformula_like\u001b[49m\u001b[43m,\u001b[49m\u001b[43m \u001b[49m\u001b[43mdata_iter_maker\u001b[49m\u001b[43m,\u001b[49m\u001b[43m \u001b[49m\u001b[43meval_env\u001b[49m\u001b[43m,\u001b[49m\n\u001b[1;32m    165\u001b[0m \u001b[43m                                  \u001b[49m\u001b[43mNA_action\u001b[49m\u001b[43m)\u001b[49m\n\u001b[1;32m    166\u001b[0m \u001b[38;5;28;01mif\u001b[39;00m design_infos \u001b[38;5;129;01mis\u001b[39;00m \u001b[38;5;129;01mnot\u001b[39;00m \u001b[38;5;28;01mNone\u001b[39;00m:\n\u001b[1;32m    167\u001b[0m     \u001b[38;5;28;01mreturn\u001b[39;00m build_design_matrices(design_infos, data,\n\u001b[1;32m    168\u001b[0m                                  NA_action\u001b[38;5;241m=\u001b[39mNA_action,\n\u001b[1;32m    169\u001b[0m                                  return_type\u001b[38;5;241m=\u001b[39mreturn_type)\n",
      "File \u001b[0;32m~/Documents/PhD (local)/Research/Github/KnowledgeKRisk_10Ks/src/envkkr/lib/python3.9/site-packages/patsy/highlevel.py:66\u001b[0m, in \u001b[0;36m_try_incr_builders\u001b[0;34m(formula_like, data_iter_maker, eval_env, NA_action)\u001b[0m\n\u001b[1;32m     64\u001b[0m \u001b[38;5;28;01mif\u001b[39;00m \u001b[38;5;28misinstance\u001b[39m(formula_like, ModelDesc):\n\u001b[1;32m     65\u001b[0m     \u001b[38;5;28;01massert\u001b[39;00m \u001b[38;5;28misinstance\u001b[39m(eval_env, EvalEnvironment)\n\u001b[0;32m---> 66\u001b[0m     \u001b[38;5;28;01mreturn\u001b[39;00m \u001b[43mdesign_matrix_builders\u001b[49m\u001b[43m(\u001b[49m\u001b[43m[\u001b[49m\u001b[43mformula_like\u001b[49m\u001b[38;5;241;43m.\u001b[39;49m\u001b[43mlhs_termlist\u001b[49m\u001b[43m,\u001b[49m\n\u001b[1;32m     67\u001b[0m \u001b[43m                                   \u001b[49m\u001b[43mformula_like\u001b[49m\u001b[38;5;241;43m.\u001b[39;49m\u001b[43mrhs_termlist\u001b[49m\u001b[43m]\u001b[49m\u001b[43m,\u001b[49m\n\u001b[1;32m     68\u001b[0m \u001b[43m                                  \u001b[49m\u001b[43mdata_iter_maker\u001b[49m\u001b[43m,\u001b[49m\n\u001b[1;32m     69\u001b[0m \u001b[43m                                  \u001b[49m\u001b[43meval_env\u001b[49m\u001b[43m,\u001b[49m\n\u001b[1;32m     70\u001b[0m \u001b[43m                                  \u001b[49m\u001b[43mNA_action\u001b[49m\u001b[43m)\u001b[49m\n\u001b[1;32m     71\u001b[0m \u001b[38;5;28;01melse\u001b[39;00m:\n\u001b[1;32m     72\u001b[0m     \u001b[38;5;28;01mreturn\u001b[39;00m \u001b[38;5;28;01mNone\u001b[39;00m\n",
      "File \u001b[0;32m~/Documents/PhD (local)/Research/Github/KnowledgeKRisk_10Ks/src/envkkr/lib/python3.9/site-packages/patsy/build.py:693\u001b[0m, in \u001b[0;36mdesign_matrix_builders\u001b[0;34m(termlists, data_iter_maker, eval_env, NA_action)\u001b[0m\n\u001b[1;32m    689\u001b[0m factor_states \u001b[38;5;241m=\u001b[39m _factors_memorize(all_factors, data_iter_maker, eval_env)\n\u001b[1;32m    690\u001b[0m \u001b[38;5;66;03m# Now all the factors have working eval methods, so we can evaluate them\u001b[39;00m\n\u001b[1;32m    691\u001b[0m \u001b[38;5;66;03m# on some data to find out what type of data they return.\u001b[39;00m\n\u001b[1;32m    692\u001b[0m (num_column_counts,\n\u001b[0;32m--> 693\u001b[0m  cat_levels_contrasts) \u001b[38;5;241m=\u001b[39m \u001b[43m_examine_factor_types\u001b[49m\u001b[43m(\u001b[49m\u001b[43mall_factors\u001b[49m\u001b[43m,\u001b[49m\n\u001b[1;32m    694\u001b[0m \u001b[43m                                               \u001b[49m\u001b[43mfactor_states\u001b[49m\u001b[43m,\u001b[49m\n\u001b[1;32m    695\u001b[0m \u001b[43m                                               \u001b[49m\u001b[43mdata_iter_maker\u001b[49m\u001b[43m,\u001b[49m\n\u001b[1;32m    696\u001b[0m \u001b[43m                                               \u001b[49m\u001b[43mNA_action\u001b[49m\u001b[43m)\u001b[49m\n\u001b[1;32m    697\u001b[0m \u001b[38;5;66;03m# Now we need the factor infos, which encapsulate the knowledge of\u001b[39;00m\n\u001b[1;32m    698\u001b[0m \u001b[38;5;66;03m# how to turn any given factor into a chunk of data:\u001b[39;00m\n\u001b[1;32m    699\u001b[0m factor_infos \u001b[38;5;241m=\u001b[39m {}\n",
      "File \u001b[0;32m~/Documents/PhD (local)/Research/Github/KnowledgeKRisk_10Ks/src/envkkr/lib/python3.9/site-packages/patsy/build.py:443\u001b[0m, in \u001b[0;36m_examine_factor_types\u001b[0;34m(factors, factor_states, data_iter_maker, NA_action)\u001b[0m\n\u001b[1;32m    441\u001b[0m \u001b[38;5;28;01mfor\u001b[39;00m data \u001b[38;5;129;01min\u001b[39;00m data_iter_maker():\n\u001b[1;32m    442\u001b[0m     \u001b[38;5;28;01mfor\u001b[39;00m factor \u001b[38;5;129;01min\u001b[39;00m \u001b[38;5;28mlist\u001b[39m(examine_needed):\n\u001b[0;32m--> 443\u001b[0m         value \u001b[38;5;241m=\u001b[39m \u001b[43mfactor\u001b[49m\u001b[38;5;241;43m.\u001b[39;49m\u001b[43meval\u001b[49m\u001b[43m(\u001b[49m\u001b[43mfactor_states\u001b[49m\u001b[43m[\u001b[49m\u001b[43mfactor\u001b[49m\u001b[43m]\u001b[49m\u001b[43m,\u001b[49m\u001b[43m \u001b[49m\u001b[43mdata\u001b[49m\u001b[43m)\u001b[49m\n\u001b[1;32m    444\u001b[0m         \u001b[38;5;28;01mif\u001b[39;00m factor \u001b[38;5;129;01min\u001b[39;00m cat_sniffers \u001b[38;5;129;01mor\u001b[39;00m guess_categorical(value):\n\u001b[1;32m    445\u001b[0m             \u001b[38;5;28;01mif\u001b[39;00m factor \u001b[38;5;129;01mnot\u001b[39;00m \u001b[38;5;129;01min\u001b[39;00m cat_sniffers:\n",
      "File \u001b[0;32m~/Documents/PhD (local)/Research/Github/KnowledgeKRisk_10Ks/src/envkkr/lib/python3.9/site-packages/patsy/eval.py:568\u001b[0m, in \u001b[0;36mEvalFactor.eval\u001b[0;34m(self, memorize_state, data)\u001b[0m\n\u001b[1;32m    567\u001b[0m \u001b[38;5;28;01mdef\u001b[39;00m \u001b[38;5;21meval\u001b[39m(\u001b[38;5;28mself\u001b[39m, memorize_state, data):\n\u001b[0;32m--> 568\u001b[0m     \u001b[38;5;28;01mreturn\u001b[39;00m \u001b[38;5;28;43mself\u001b[39;49m\u001b[38;5;241;43m.\u001b[39;49m\u001b[43m_eval\u001b[49m\u001b[43m(\u001b[49m\u001b[43mmemorize_state\u001b[49m\u001b[43m[\u001b[49m\u001b[38;5;124;43m\"\u001b[39;49m\u001b[38;5;124;43meval_code\u001b[39;49m\u001b[38;5;124;43m\"\u001b[39;49m\u001b[43m]\u001b[49m\u001b[43m,\u001b[49m\n\u001b[1;32m    569\u001b[0m \u001b[43m                      \u001b[49m\u001b[43mmemorize_state\u001b[49m\u001b[43m,\u001b[49m\n\u001b[1;32m    570\u001b[0m \u001b[43m                      \u001b[49m\u001b[43mdata\u001b[49m\u001b[43m)\u001b[49m\n",
      "File \u001b[0;32m~/Documents/PhD (local)/Research/Github/KnowledgeKRisk_10Ks/src/envkkr/lib/python3.9/site-packages/patsy/eval.py:551\u001b[0m, in \u001b[0;36mEvalFactor._eval\u001b[0;34m(self, code, memorize_state, data)\u001b[0m\n\u001b[1;32m    549\u001b[0m \u001b[38;5;28;01mdef\u001b[39;00m \u001b[38;5;21m_eval\u001b[39m(\u001b[38;5;28mself\u001b[39m, code, memorize_state, data):\n\u001b[1;32m    550\u001b[0m     inner_namespace \u001b[38;5;241m=\u001b[39m VarLookupDict([data, memorize_state[\u001b[38;5;124m\"\u001b[39m\u001b[38;5;124mtransforms\u001b[39m\u001b[38;5;124m\"\u001b[39m]])\n\u001b[0;32m--> 551\u001b[0m     \u001b[38;5;28;01mreturn\u001b[39;00m \u001b[43mcall_and_wrap_exc\u001b[49m\u001b[43m(\u001b[49m\u001b[38;5;124;43m\"\u001b[39;49m\u001b[38;5;124;43mError evaluating factor\u001b[39;49m\u001b[38;5;124;43m\"\u001b[39;49m\u001b[43m,\u001b[49m\n\u001b[1;32m    552\u001b[0m \u001b[43m                             \u001b[49m\u001b[38;5;28;43mself\u001b[39;49m\u001b[43m,\u001b[49m\n\u001b[1;32m    553\u001b[0m \u001b[43m                             \u001b[49m\u001b[43mmemorize_state\u001b[49m\u001b[43m[\u001b[49m\u001b[38;5;124;43m\"\u001b[39;49m\u001b[38;5;124;43meval_env\u001b[39;49m\u001b[38;5;124;43m\"\u001b[39;49m\u001b[43m]\u001b[49m\u001b[38;5;241;43m.\u001b[39;49m\u001b[43meval\u001b[49m\u001b[43m,\u001b[49m\n\u001b[1;32m    554\u001b[0m \u001b[43m                             \u001b[49m\u001b[43mcode\u001b[49m\u001b[43m,\u001b[49m\n\u001b[1;32m    555\u001b[0m \u001b[43m                             \u001b[49m\u001b[43minner_namespace\u001b[49m\u001b[38;5;241;43m=\u001b[39;49m\u001b[43minner_namespace\u001b[49m\u001b[43m)\u001b[49m\n",
      "File \u001b[0;32m~/Documents/PhD (local)/Research/Github/KnowledgeKRisk_10Ks/src/envkkr/lib/python3.9/site-packages/patsy/compat.py:43\u001b[0m, in \u001b[0;36mcall_and_wrap_exc\u001b[0;34m(msg, origin, f, *args, **kwargs)\u001b[0m\n\u001b[1;32m     39\u001b[0m     new_exc \u001b[38;5;241m=\u001b[39m PatsyError(\u001b[38;5;124m\"\u001b[39m\u001b[38;5;132;01m%s\u001b[39;00m\u001b[38;5;124m: \u001b[39m\u001b[38;5;132;01m%s\u001b[39;00m\u001b[38;5;124m: \u001b[39m\u001b[38;5;132;01m%s\u001b[39;00m\u001b[38;5;124m\"\u001b[39m\n\u001b[1;32m     40\u001b[0m                          \u001b[38;5;241m%\u001b[39m (msg, e\u001b[38;5;241m.\u001b[39m\u001b[38;5;18m__class__\u001b[39m\u001b[38;5;241m.\u001b[39m\u001b[38;5;18m__name__\u001b[39m, e),\n\u001b[1;32m     41\u001b[0m                          origin)\n\u001b[1;32m     42\u001b[0m     \u001b[38;5;66;03m# Use 'exec' to hide this syntax from the Python 2 parser:\u001b[39;00m\n\u001b[0;32m---> 43\u001b[0m     \u001b[43mexec\u001b[49m\u001b[43m(\u001b[49m\u001b[38;5;124;43m\"\u001b[39;49m\u001b[38;5;124;43mraise new_exc from e\u001b[39;49m\u001b[38;5;124;43m\"\u001b[39;49m\u001b[43m)\u001b[49m\n\u001b[1;32m     44\u001b[0m \u001b[38;5;28;01melse\u001b[39;00m:\n\u001b[1;32m     45\u001b[0m     \u001b[38;5;66;03m# In python 2, we just let the original exception escape -- better\u001b[39;00m\n\u001b[1;32m     46\u001b[0m     \u001b[38;5;66;03m# than destroying the traceback. But if it's a PatsyError, we can\u001b[39;00m\n\u001b[1;32m     47\u001b[0m     \u001b[38;5;66;03m# at least set the origin properly.\u001b[39;00m\n\u001b[1;32m     48\u001b[0m     \u001b[38;5;28;01mif\u001b[39;00m \u001b[38;5;28misinstance\u001b[39m(e, PatsyError):\n",
      "File \u001b[0;32m<string>:1\u001b[0m\n",
      "\u001b[0;31mPatsyError\u001b[0m: Error evaluating factor: NameError: name 'Mkt' is not defined\n    eretw ~ kkrhml + HML + SMB + Mkt.RF\n                                 ^^^^^^"
     ]
    }
   ],
   "source": [
    "formula = 'eretw ~ kkrhml + HML + SMB + Mkt.RF'\n",
    "grouped = eret_we.groupby(pfn)\n",
    "results = []\n",
    "for name, group in grouped:\n",
    "    model = smf.ols(formula, data=group).fit()\n",
    "    summary = model.summary2().tables[1]\n",
    "    summary['group'] = name\n",
    "    summary['eretw_mean'] = group['eretw'].mean()\n",
    "    summary['t'] = len(group)\n",
    "    results.append(summary.reset_index())\n",
    "\n",
    "first_stage1 = pd.concat(results)\n",
    "\n",
    "# Calculate sigma_e\n",
    "get_sigmae = first_stage1[first_stage1['index'] == 'Intercept'].copy()\n",
    "get_sigmae['sigmae'] = get_sigmae['t'] * get_sigmae['Std.Err.']**2\n",
    "get_sigmae = get_sigmae[[pfn, 'sigmae']].dropna()\n",
    "\n",
    "# Prepare final dataframe\n",
    "first_stage1 = first_stage1.pivot(index='group', columns='index', values='Coef.').reset_index()\n",
    "first_stage1.rename(columns={'group': pfn}, inplace=True)\n",
    "first_stage2 = pd.merge(first_stage1, get_sigmae, on=pfn, how='left').dropna()"
   ]
  },
  {
   "cell_type": "code",
   "execution_count": null,
   "metadata": {},
   "outputs": [],
   "source": [
    "# Calculate portfolio returns\n",
    "pf_ret = (stoxmo_with_pfs.dropna(subset=['eretm', 'me'])\n",
    "          .groupby(['ym', pfn])\n",
    "          .agg(eret=('eretm', lambda x: np.average(x, weights=stoxmo_with_pfs.loc[x.index, 'me'])),\n",
    "                Mkt_RF=('Mkt-RF', 'mean'),\n",
    "                SMB=('SMB', 'mean'),\n",
    "                HML=('HML', 'mean'),\n",
    "                RMW=('RMW', 'mean'),\n",
    "                CMA=('CMA', 'mean'),\n",
    "                RF=('RF', 'mean'))\n",
    "          .reset_index())\n",
    "\n",
    "# Calculate kkrhml returns\n",
    "def calc_returns(group):\n",
    "    weights = group['me']\n",
    "    return np.nansum(group['eretm'] * weights) / np.sum(weights)\n",
    "\n",
    "kkrhml_ret = (stoxmo_with_pfs\n",
    "              .dropna(subset=['topic_kk'])\n",
    "              .groupby(['ym', 'ntile_topic_kk'])\n",
    "              .apply(calc_returns)\n",
    "              .unstack(level='ntile_topic_kk')\n",
    "              .rename(columns=lambda x: f'kk{x}')\n",
    "              .assign(kkrhml=lambda x: x['kk4'] - x['kk1'])\n",
    "              .reset_index()[['ym', 'kkrhml']])\n",
    "\n",
    "# Assume kkpt_ntile calculation is similar to kkrhml_ret\n",
    "# This section would be adjusted based on actual logic for kkpt_ntile\n",
    "\n",
    "# Join and finalize eret_mo dataframe\n",
    "eret_mo = pf_ret.merge(kkrhml_ret, on='ym', how='inner')  # Assuming kkpthml_ret joins similarly\n",
    "eret_mo = eret_mo.rename(columns={'eret': 'eretm'}).dropna().reset_index(drop=True)\n",
    "    \n",
    "#eret_mo, stoxmo_with_pfs = rp.create_eret_mo_panel_ff5(stoxmo_orig, cequity_mapper, topic_map, ff5fm, pfn)\n"
   ]
  },
  {
   "cell_type": "code",
   "execution_count": null,
   "metadata": {},
   "outputs": [],
   "source": [
    "eret_we, stoxwe_with_pfs = rp.create_eret_we_panel_ff5(stoxwe_orig, cequity_mapper, topic_map, pfn)\n",
    "first_stage_rollwin_mo, second_stage_rollwin_mo = rp.fama_macbeth(mo_window, pfn)\n",
    "\n",
    "first_stage2 = rp.first_stage(first_stage_rollwin_mo, pfn)\n",
    "\n",
    "rp.run_regression_models(first_stage2)\n",
    "\n",
    "viz.plot_returns()\n",
    "\n",
    "viz.descriptive_statistics(topic_map, figfolder)\n",
    "\n",
    "viz.amazon_graph(amazon_nov01_short, figfolder)\n",
    "\n",
    "viz.filecounter(figfolder)\n",
    "\n",
    "viz.stargaze_comparison(comparison_measures, figfolder)\n",
    "\n",
    "\n",
    "if print_kurtosis:\n",
    "  viz.plot_kurtosis(stoxda_orig, cequity_mapper, topic_map)"
   ]
  }
 ],
 "metadata": {
  "kernelspec": {
   "display_name": "envkkr",
   "language": "python",
   "name": "python3"
  },
  "language_info": {
   "codemirror_mode": {
    "name": "ipython",
    "version": 3
   },
   "file_extension": ".py",
   "mimetype": "text/x-python",
   "name": "python",
   "nbconvert_exporter": "python",
   "pygments_lexer": "ipython3",
   "version": "3.9.13"
  }
 },
 "nbformat": 4,
 "nbformat_minor": 2
}
