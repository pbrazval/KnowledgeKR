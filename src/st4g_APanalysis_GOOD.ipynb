{
 "cells": [
  {
   "cell_type": "code",
   "execution_count": 1,
   "metadata": {},
   "outputs": [
    {
     "name": "stdout",
     "output_type": "stream",
     "text": [
      "Requirement already satisfied: pandas in /Users/pedrovallocci/opt/anaconda3/envs/ds39/lib/python3.9/site-packages (2.2.2)\n",
      "Requirement already satisfied: numpy>=1.22.4 in /Users/pedrovallocci/opt/anaconda3/envs/ds39/lib/python3.9/site-packages (from pandas) (1.24.4)\n",
      "Requirement already satisfied: python-dateutil>=2.8.2 in /Users/pedrovallocci/opt/anaconda3/envs/ds39/lib/python3.9/site-packages (from pandas) (2.8.2)\n",
      "Requirement already satisfied: pytz>=2020.1 in /Users/pedrovallocci/opt/anaconda3/envs/ds39/lib/python3.9/site-packages (from pandas) (2022.7)\n",
      "Requirement already satisfied: tzdata>=2022.7 in /Users/pedrovallocci/opt/anaconda3/envs/ds39/lib/python3.9/site-packages (from pandas) (2024.1)\n",
      "Requirement already satisfied: six>=1.5 in /Users/pedrovallocci/opt/anaconda3/envs/ds39/lib/python3.9/site-packages (from python-dateutil>=2.8.2->pandas) (1.16.0)\n",
      "Note: you may need to restart the kernel to use updated packages.\n"
     ]
    }
   ],
   "source": [
    "# %pip install linearmodels\n",
    "# Install last version of Pandas:\n",
    "%pip install --upgrade pandas\n",
    "# %pip install plotnine\n",
    "# Run in the virtual environment:\n",
    "# source envkkr/bin/activate\n",
    "# %pip install numba"
   ]
  },
  {
   "cell_type": "code",
   "execution_count": 2,
   "metadata": {},
   "outputs": [
    {
     "name": "stderr",
     "output_type": "stream",
     "text": [
      "/Users/pedrovallocci/opt/anaconda3/envs/ds39/lib/python3.9/site-packages/pandas/core/arrays/masked.py:60: UserWarning: Pandas requires version '1.3.6' or newer of 'bottleneck' (version '1.3.5' currently installed).\n",
      "  from pandas.core import (\n"
     ]
    },
    {
     "name": "stdout",
     "output_type": "stream",
     "text": [
      "Current Working Directory: /Users/pedrovallocci/Documents/PhD (local)/Research/Github/KnowledgeKRisk_10Ks/src\n",
      "New Working Directory: /Users/pedrovallocci/Documents/PhD (local)/Research/Github/KnowledgeKRisk_10Ks/src\n"
     ]
    }
   ],
   "source": [
    "# Require Pandas version >= 2.2.2\n",
    "import pandas as pd\n",
    "#pd.__version__\n",
    "assert pd.__version__ >= '2.2.2', 'Please update Pandas to version 2.2.2 or newer'\n",
    "import linearmodels\n",
    "import pandas as pd, os, pyreadr\n",
    "import warnings\n",
    "import time\n",
    "import numpy as  np\n",
    "import pandas as pd\n",
    "import random\n",
    "import pandas as pd\n",
    "import visualization as viz\n",
    "import data_loading as dl\n",
    "import risk_pricing as rp\n",
    "import statsmodels\n",
    "import statsmodels.api as sm\n",
    "import statsmodels.formula.api as smf\n",
    "import importlib\n",
    "importlib.reload(rp)\n",
    "importlib.reload(viz)\n",
    "importlib.reload(dl)\n",
    "#print(pd.__version__)\n",
    "#% PARAMETERS\n",
    "source_folder_path = \"/Users/pedrovallocci/Documents/PhD (local)/Research/Github/KnowledgeKRisk_10Ks/src/\"\n",
    "modelname = \"embeddings_km10_ipcs\" # \"dicfullmc10thr10defnob40noa0_8_hdp\" # Don't forget to clean again when modelname changes\n",
    "quantiles = 4\n",
    "clean_again = True # Don't forget to clean again when modelname changes\n",
    "generate_plots = True\n",
    "warnings.filterwarnings(\"ignore\")\n",
    "print_kurtosis = False\n",
    "pfn = \"pf36_name\"\n",
    "mo_window = 12*5\n",
    "start_time = time.time()\n",
    "# print the current working directory (for reference)\n",
    "print(\"Current Working Directory:\", os.getcwd())\n",
    "os.chdir(source_folder_path)\n",
    "print(\"New Working Directory:\", os.getcwd())\n",
    "# Creating the directory\n",
    "base_path = \"/Users/pedrovallocci/Documents/PhD (local)/Research/Github/KnowledgeKRisk_10Ks/text/\"\n",
    "dir_path = os.path.join(base_path, modelname + \"_py\")\n",
    "os.makedirs(dir_path, exist_ok=True)\n",
    "\n",
    "# Setting up the figure folder path\n",
    "figfolder = os.path.join(dir_path, \"\")\n"
   ]
  },
  {
   "cell_type": "code",
   "execution_count": 3,
   "metadata": {},
   "outputs": [
    {
     "name": "stdout",
     "output_type": "stream",
     "text": [
      "Tempo de execução: 35.17463803291321\n",
      "Tempo de execução: 37.66182994842529\n",
      "Tempo de execução: 37.688371896743774\n",
      "Tempo de execução: 37.715137004852295\n",
      "Tempo de execução: 37.864099979400635\n",
      "Tempo de execução: 58.02453279495239\n"
     ]
    }
   ],
   "source": [
    "# Loading the data from load_dataframes:\n",
    "amazon_nov01_short, cequity_mapper, ff3fw, ff5fw, ff3fm, ff5fm, topic_map_unlabeled, comparison_measures, stoxmo_orig, stoxda_orig, stoxwe_orig = dl.load_dataframes(modelname, source_folder_path, start_time, clean_again)"
   ]
  },
  {
   "cell_type": "code",
   "execution_count": 4,
   "metadata": {},
   "outputs": [
    {
     "data": {
      "text/html": [
       "<div>\n",
       "<style scoped>\n",
       "    .dataframe tbody tr th:only-of-type {\n",
       "        vertical-align: middle;\n",
       "    }\n",
       "\n",
       "    .dataframe tbody tr th {\n",
       "        vertical-align: top;\n",
       "    }\n",
       "\n",
       "    .dataframe thead th {\n",
       "        text-align: right;\n",
       "    }\n",
       "</style>\n",
       "<table border=\"1\" class=\"dataframe\">\n",
       "  <thead>\n",
       "    <tr style=\"text-align: right;\">\n",
       "      <th></th>\n",
       "      <th>max_topic</th>\n",
       "      <th>topic_kk</th>\n",
       "      <th>year</th>\n",
       "      <th>CIK</th>\n",
       "      <th>CUSIP8</th>\n",
       "      <th>LPERMNO</th>\n",
       "      <th>sic</th>\n",
       "      <th>cik</th>\n",
       "      <th>gvkey</th>\n",
       "      <th>conm</th>\n",
       "      <th>...</th>\n",
       "      <th>at</th>\n",
       "      <th>prcc_f</th>\n",
       "      <th>prcc_c</th>\n",
       "      <th>ppegt</th>\n",
       "      <th>csho</th>\n",
       "      <th>ceq</th>\n",
       "      <th>cusip</th>\n",
       "      <th>exchg</th>\n",
       "      <th>xir_cumsum</th>\n",
       "      <th>xir_total</th>\n",
       "    </tr>\n",
       "  </thead>\n",
       "  <tbody>\n",
       "    <tr>\n",
       "      <th>0</th>\n",
       "      <td>6</td>\n",
       "      <td>0.229141</td>\n",
       "      <td>2006</td>\n",
       "      <td>1750</td>\n",
       "      <td>00036110</td>\n",
       "      <td>54594.0</td>\n",
       "      <td>5080.0</td>\n",
       "      <td>1750.0</td>\n",
       "      <td>1004.0</td>\n",
       "      <td>AAR CORP</td>\n",
       "      <td>...</td>\n",
       "      <td>1067.633</td>\n",
       "      <td>32.50</td>\n",
       "      <td>29.19</td>\n",
       "      <td>405.685</td>\n",
       "      <td>37.729</td>\n",
       "      <td>494.243</td>\n",
       "      <td>000361105</td>\n",
       "      <td>11.0</td>\n",
       "      <td>0.000000</td>\n",
       "      <td>0.000000</td>\n",
       "    </tr>\n",
       "    <tr>\n",
       "      <th>1</th>\n",
       "      <td>6</td>\n",
       "      <td>0.216411</td>\n",
       "      <td>2007</td>\n",
       "      <td>1750</td>\n",
       "      <td>00036110</td>\n",
       "      <td>54594.0</td>\n",
       "      <td>5080.0</td>\n",
       "      <td>1750.0</td>\n",
       "      <td>1004.0</td>\n",
       "      <td>AAR CORP</td>\n",
       "      <td>...</td>\n",
       "      <td>1362.010</td>\n",
       "      <td>19.28</td>\n",
       "      <td>38.03</td>\n",
       "      <td>476.463</td>\n",
       "      <td>38.773</td>\n",
       "      <td>585.255</td>\n",
       "      <td>000361105</td>\n",
       "      <td>11.0</td>\n",
       "      <td>0.000000</td>\n",
       "      <td>0.000000</td>\n",
       "    </tr>\n",
       "    <tr>\n",
       "      <th>2</th>\n",
       "      <td>6</td>\n",
       "      <td>0.204073</td>\n",
       "      <td>2009</td>\n",
       "      <td>1750</td>\n",
       "      <td>00036110</td>\n",
       "      <td>54594.0</td>\n",
       "      <td>5080.0</td>\n",
       "      <td>1750.0</td>\n",
       "      <td>1004.0</td>\n",
       "      <td>AAR CORP</td>\n",
       "      <td>...</td>\n",
       "      <td>1501.042</td>\n",
       "      <td>19.70</td>\n",
       "      <td>22.98</td>\n",
       "      <td>528.569</td>\n",
       "      <td>39.484</td>\n",
       "      <td>746.906</td>\n",
       "      <td>000361105</td>\n",
       "      <td>11.0</td>\n",
       "      <td>0.021185</td>\n",
       "      <td>0.002789</td>\n",
       "    </tr>\n",
       "    <tr>\n",
       "      <th>3</th>\n",
       "      <td>6</td>\n",
       "      <td>0.217021</td>\n",
       "      <td>2010</td>\n",
       "      <td>1750</td>\n",
       "      <td>00036110</td>\n",
       "      <td>54594.0</td>\n",
       "      <td>5080.0</td>\n",
       "      <td>1750.0</td>\n",
       "      <td>1004.0</td>\n",
       "      <td>AAR CORP</td>\n",
       "      <td>...</td>\n",
       "      <td>1703.727</td>\n",
       "      <td>26.39</td>\n",
       "      <td>27.47</td>\n",
       "      <td>652.862</td>\n",
       "      <td>39.781</td>\n",
       "      <td>835.845</td>\n",
       "      <td>000361105</td>\n",
       "      <td>11.0</td>\n",
       "      <td>0.024258</td>\n",
       "      <td>0.005593</td>\n",
       "    </tr>\n",
       "    <tr>\n",
       "      <th>4</th>\n",
       "      <td>6</td>\n",
       "      <td>0.214188</td>\n",
       "      <td>2011</td>\n",
       "      <td>1750</td>\n",
       "      <td>00036110</td>\n",
       "      <td>54594.0</td>\n",
       "      <td>5080.0</td>\n",
       "      <td>1750.0</td>\n",
       "      <td>1004.0</td>\n",
       "      <td>AAR CORP</td>\n",
       "      <td>...</td>\n",
       "      <td>2195.653</td>\n",
       "      <td>12.05</td>\n",
       "      <td>19.17</td>\n",
       "      <td>754.451</td>\n",
       "      <td>40.273</td>\n",
       "      <td>864.649</td>\n",
       "      <td>000361105</td>\n",
       "      <td>11.0</td>\n",
       "      <td>0.019856</td>\n",
       "      <td>0.001033</td>\n",
       "    </tr>\n",
       "  </tbody>\n",
       "</table>\n",
       "<p>5 rows × 29 columns</p>\n",
       "</div>"
      ],
      "text/plain": [
       "   max_topic  topic_kk  year   CIK    CUSIP8  LPERMNO     sic     cik   gvkey  \\\n",
       "0          6  0.229141  2006  1750  00036110  54594.0  5080.0  1750.0  1004.0   \n",
       "1          6  0.216411  2007  1750  00036110  54594.0  5080.0  1750.0  1004.0   \n",
       "2          6  0.204073  2009  1750  00036110  54594.0  5080.0  1750.0  1004.0   \n",
       "3          6  0.217021  2010  1750  00036110  54594.0  5080.0  1750.0  1004.0   \n",
       "4          6  0.214188  2011  1750  00036110  54594.0  5080.0  1750.0  1004.0   \n",
       "\n",
       "       conm  ...        at prcc_f  prcc_c    ppegt    csho      ceq  \\\n",
       "0  AAR CORP  ...  1067.633  32.50   29.19  405.685  37.729  494.243   \n",
       "1  AAR CORP  ...  1362.010  19.28   38.03  476.463  38.773  585.255   \n",
       "2  AAR CORP  ...  1501.042  19.70   22.98  528.569  39.484  746.906   \n",
       "3  AAR CORP  ...  1703.727  26.39   27.47  652.862  39.781  835.845   \n",
       "4  AAR CORP  ...  2195.653  12.05   19.17  754.451  40.273  864.649   \n",
       "\n",
       "       cusip  exchg  xir_cumsum  xir_total  \n",
       "0  000361105   11.0    0.000000   0.000000  \n",
       "1  000361105   11.0    0.000000   0.000000  \n",
       "2  000361105   11.0    0.021185   0.002789  \n",
       "3  000361105   11.0    0.024258   0.005593  \n",
       "4  000361105   11.0    0.019856   0.001033  \n",
       "\n",
       "[5 rows x 29 columns]"
      ]
     },
     "execution_count": 4,
     "metadata": {},
     "output_type": "execute_result"
    }
   ],
   "source": [
    "topic_map_unlabeled.head()"
   ]
  },
  {
   "cell_type": "code",
   "execution_count": 5,
   "metadata": {},
   "outputs": [],
   "source": [
    "# Pause execution of code and return to the command line:\n",
    "importlib.reload(viz)\n",
    "if modelname == \"embeddings_km10\":\n",
    "    topic_map_unlabeled[\"ntile_kk\"] = 0\n",
    "    topic_map_unlabeled[\"topic_kk\"] = 0\n",
    "    topic_map_unlabeled.loc[topic_map_unlabeled[\"max_topic\"] == 3, \"ntile_kk\"] = 1\n",
    "    topic_map_unlabeled.loc[topic_map_unlabeled[\"max_topic\"] == 3, \"topic_kk\"] = 1\n",
    "    topic_map = topic_map_unlabeled\n",
    "else:\n",
    "    topic_map = viz.label_topic_map(topic_map_unlabeled, modelname, cuts = [0, 0.33, 0.67, 1])"
   ]
  },
  {
   "cell_type": "code",
   "execution_count": 6,
   "metadata": {},
   "outputs": [
    {
     "name": "stdout",
     "output_type": "stream",
     "text": [
      "Agora com mudança no kki\n"
     ]
    },
    {
     "data": {
      "text/html": [
       "<table class=\"simpletable\">\n",
       "<caption>FamaMacBeth Estimation Summary</caption>\n",
       "<tr>\n",
       "  <th>Dep. Variable:</th>             <td>eretw</td>          <th>  R-squared:         </th>     <td>0.0028</td>  \n",
       "</tr>\n",
       "<tr>\n",
       "  <th>Estimator:</th>              <td>FamaMacBeth</td>       <th>  R-squared (Between):</th>    <td>0.8864</td>  \n",
       "</tr>\n",
       "<tr>\n",
       "  <th>No. Observations:</th>          <td>29430</td>          <th>  R-squared (Within):</th>     <td>-0.0004</td> \n",
       "</tr>\n",
       "<tr>\n",
       "  <th>Date:</th>                <td>Wed, May 22 2024</td>     <th>  R-squared (Overall):</th>    <td>0.0028</td>  \n",
       "</tr>\n",
       "<tr>\n",
       "  <th>Time:</th>                    <td>08:09:04</td>         <th>  Log-likelihood     </th>    <td>5.497e+04</td>\n",
       "</tr>\n",
       "<tr>\n",
       "  <th>Cov. Estimator:</th>   <td>Fama-MacBeth Kernel Cov</td> <th>                     </th>        <td></td>     \n",
       "</tr>\n",
       "<tr>\n",
       "  <th></th>                             <td></td>             <th>  F-statistic:       </th>     <td>20.966</td>  \n",
       "</tr>\n",
       "<tr>\n",
       "  <th>Entities:</th>                   <td>45</td>            <th>  P-value            </th>     <td>0.0000</td>  \n",
       "</tr>\n",
       "<tr>\n",
       "  <th>Avg Obs:</th>                  <td>654.00</td>          <th>  Distribution:      </th>   <td>F(4,29426)</td>\n",
       "</tr>\n",
       "<tr>\n",
       "  <th>Min Obs:</th>                  <td>654.00</td>          <th>                     </th>        <td></td>     \n",
       "</tr>\n",
       "<tr>\n",
       "  <th>Max Obs:</th>                  <td>654.00</td>          <th>  F-statistic (robust):</th>   <td>5.7983</td>  \n",
       "</tr>\n",
       "<tr>\n",
       "  <th></th>                             <td></td>             <th>  P-value            </th>     <td>0.0001</td>  \n",
       "</tr>\n",
       "<tr>\n",
       "  <th>Time periods:</th>               <td>654</td>           <th>  Distribution:      </th>   <td>F(4,29426)</td>\n",
       "</tr>\n",
       "<tr>\n",
       "  <th>Avg Obs:</th>                  <td>45.000</td>          <th>                     </th>        <td></td>     \n",
       "</tr>\n",
       "<tr>\n",
       "  <th>Min Obs:</th>                  <td>45.000</td>          <th>                     </th>        <td></td>     \n",
       "</tr>\n",
       "<tr>\n",
       "  <th>Max Obs:</th>                  <td>45.000</td>          <th>                     </th>        <td></td>     \n",
       "</tr>\n",
       "<tr>\n",
       "  <th></th>                             <td></td>             <th>                     </th>        <td></td>     \n",
       "</tr>\n",
       "</table>\n",
       "<table class=\"simpletable\">\n",
       "<caption>Parameter Estimates</caption>\n",
       "<tr>\n",
       "     <td></td>    <th>Parameter</th> <th>Std. Err.</th> <th>T-stat</th>  <th>P-value</th>  <th>Lower CI</th>  <th>Upper CI</th>\n",
       "</tr>\n",
       "<tr>\n",
       "  <th>MktRF</th>   <td>0.0021</td>    <td>0.0011</td>   <td>1.9500</td>  <td>0.0512</td>  <td>-1.064e-05</td>  <td>0.0042</td> \n",
       "</tr>\n",
       "<tr>\n",
       "  <th>SMB</th>     <td>0.0002</td>    <td>0.0005</td>   <td>0.4870</td>  <td>0.6263</td>    <td>-0.0007</td>   <td>0.0012</td> \n",
       "</tr>\n",
       "<tr>\n",
       "  <th>HML</th>     <td>-0.0022</td>   <td>0.0007</td>   <td>-3.0451</td> <td>0.0023</td>    <td>-0.0036</td>   <td>-0.0008</td>\n",
       "</tr>\n",
       "<tr>\n",
       "  <th>kkrhml</th>  <td>0.0013</td>    <td>0.0006</td>   <td>2.1091</td>  <td>0.0349</td>   <td>8.955e-05</td>  <td>0.0024</td> \n",
       "</tr>\n",
       "</table>"
      ],
      "text/latex": [
       "\\begin{center}\n",
       "\\begin{tabular}{lclc}\n",
       "\\toprule\n",
       "\\textbf{Dep. Variable:}    &          eretw          & \\textbf{  R-squared:         }   &      0.0028      \\\\\n",
       "\\textbf{Estimator:}        &       FamaMacBeth       & \\textbf{  R-squared (Between):}  &      0.8864      \\\\\n",
       "\\textbf{No. Observations:} &          29430          & \\textbf{  R-squared (Within):}   &     -0.0004      \\\\\n",
       "\\textbf{Date:}             &     Wed, May 22 2024    & \\textbf{  R-squared (Overall):}  &      0.0028      \\\\\n",
       "\\textbf{Time:}             &         08:09:04        & \\textbf{  Log-likelihood     }   &    5.497e+04     \\\\\n",
       "\\textbf{Cov. Estimator:}   & Fama-MacBeth Kernel Cov & \\textbf{                     }   &                  \\\\\n",
       "\\textbf{}                  &                         & \\textbf{  F-statistic:       }   &      20.966      \\\\\n",
       "\\textbf{Entities:}         &            45           & \\textbf{  P-value            }   &      0.0000      \\\\\n",
       "\\textbf{Avg Obs:}          &          654.00         & \\textbf{  Distribution:      }   &    F(4,29426)    \\\\\n",
       "\\textbf{Min Obs:}          &          654.00         & \\textbf{                     }   &                  \\\\\n",
       "\\textbf{Max Obs:}          &          654.00         & \\textbf{  F-statistic (robust):} &      5.7983      \\\\\n",
       "\\textbf{}                  &                         & \\textbf{  P-value            }   &      0.0001      \\\\\n",
       "\\textbf{Time periods:}     &           654           & \\textbf{  Distribution:      }   &    F(4,29426)    \\\\\n",
       "\\textbf{Avg Obs:}          &          45.000         & \\textbf{                     }   &                  \\\\\n",
       "\\textbf{Min Obs:}          &          45.000         & \\textbf{                     }   &                  \\\\\n",
       "\\textbf{Max Obs:}          &          45.000         & \\textbf{                     }   &                  \\\\\n",
       "\\textbf{}                  &                         & \\textbf{                     }   &                  \\\\\n",
       "\\bottomrule\n",
       "\\end{tabular}\n",
       "\\begin{tabular}{lcccccc}\n",
       "                & \\textbf{Parameter} & \\textbf{Std. Err.} & \\textbf{T-stat} & \\textbf{P-value} & \\textbf{Lower CI} & \\textbf{Upper CI}  \\\\\n",
       "\\midrule\n",
       "\\textbf{MktRF}  &       0.0021       &       0.0011       &      1.9500     &      0.0512      &     -1.064e-05    &       0.0042       \\\\\n",
       "\\textbf{SMB}    &       0.0002       &       0.0005       &      0.4870     &      0.6263      &      -0.0007      &       0.0012       \\\\\n",
       "\\textbf{HML}    &      -0.0022       &       0.0007       &     -3.0451     &      0.0023      &      -0.0036      &      -0.0008       \\\\\n",
       "\\textbf{kkrhml} &       0.0013       &       0.0006       &      2.1091     &      0.0349      &     8.955e-05     &       0.0024       \\\\\n",
       "\\bottomrule\n",
       "\\end{tabular}\n",
       "%\\caption{FamaMacBeth Estimation Summary}\n",
       "\\end{center}"
      ],
      "text/plain": [
       "<class 'linearmodels.compat.statsmodels.Summary'>\n",
       "\"\"\"\n",
       "                            FamaMacBeth Estimation Summary                           \n",
       "=====================================================================================\n",
       "Dep. Variable:                       eretw   R-squared:                        0.0028\n",
       "Estimator:                     FamaMacBeth   R-squared (Between):              0.8864\n",
       "No. Observations:                    29430   R-squared (Within):              -0.0004\n",
       "Date:                     Wed, May 22 2024   R-squared (Overall):              0.0028\n",
       "Time:                             08:09:04   Log-likelihood                 5.497e+04\n",
       "Cov. Estimator:    Fama-MacBeth Kernel Cov                                           \n",
       "                                             F-statistic:                      20.966\n",
       "Entities:                               45   P-value                           0.0000\n",
       "Avg Obs:                            654.00   Distribution:                 F(4,29426)\n",
       "Min Obs:                            654.00                                           \n",
       "Max Obs:                            654.00   F-statistic (robust):             5.7983\n",
       "                                             P-value                           0.0001\n",
       "Time periods:                          654   Distribution:                 F(4,29426)\n",
       "Avg Obs:                            45.000                                           \n",
       "Min Obs:                            45.000                                           \n",
       "Max Obs:                            45.000                                           \n",
       "                                                                                     \n",
       "                             Parameter Estimates                              \n",
       "==============================================================================\n",
       "            Parameter  Std. Err.     T-stat    P-value    Lower CI    Upper CI\n",
       "------------------------------------------------------------------------------\n",
       "MktRF          0.0021     0.0011     1.9500     0.0512  -1.064e-05      0.0042\n",
       "SMB            0.0002     0.0005     0.4870     0.6263     -0.0007      0.0012\n",
       "HML           -0.0022     0.0007    -3.0451     0.0023     -0.0036     -0.0008\n",
       "kkrhml         0.0013     0.0006     2.1091     0.0349   8.955e-05      0.0024\n",
       "==============================================================================\n",
       "\"\"\""
      ]
     },
     "execution_count": 6,
     "metadata": {},
     "output_type": "execute_result"
    }
   ],
   "source": [
    "import risk_pricing as rp\n",
    "import importlib\n",
    "importlib.reload(rp)\n",
    "pfname = \"pfkki3me3mb\" #'pfkk3me3mb', 'pf2me3mb', 'pf5me5mb', 'pfkk2me3mb', 'pfkki3me3mb'\n",
    "fmb, indexed_df, eret_we, stoxwe_add = rp.famaMacBethFull(stoxwe_orig, cequity_mapper, topic_map, ff3fw, pfname, window_size = 52*2, add_innerkk_pf = True)\n",
    "fmb.summary"
   ]
  },
  {
   "cell_type": "markdown",
   "metadata": {},
   "source": [
    "Variables created:\n",
    "\n",
    "- amazon_nov01_short:\n",
    "\n",
    "- cequity_mapper:\n",
    "\n",
    "- Fama-French factors: ff3fw, ff5fw, ff3fm, ff5fm\n",
    "\n",
    "- Topic_map_unlabeled\n",
    "\n",
    "- Stocks vectors: stoxmo_orig, stoxwe_orig\n",
    "\n",
    "- comparison_measures: a vector that calculates the average industry skill and firm patent intensity for each of the topics."
   ]
  },
  {
   "cell_type": "code",
   "execution_count": null,
   "metadata": {},
   "outputs": [
    {
     "name": "stdout",
     "output_type": "stream",
     "text": [
      "Executing fig_mean_tiy...\n",
      "Executing tex_average_topic_loadings_by_high_tech...\n",
      "Executing tex_sample_topic_loadings...\n",
      "Executing df_skill_correlations...\n",
      "Executing df_patent_correlations...\n",
      "Executing fig_share_dominant_kk_by_ind...\n",
      "Executing fig_heatmap_topicvskkpt...\n",
      "Executing fig_heatmap_topicvsikpt...\n",
      "Executing fig_histogram_kk...\n",
      "Executing fig_histogram_kk_by_ind12...\n",
      "Finished!\n",
      "Executing explore_fmb...\n",
      "Executing tex_summary...\n",
      "Executing fig_h1b_vs_smb_kkhml...\n",
      "Executing tex_kkrhml_vs_mktrf...\n",
      "Executing tex_compare_kk_measures...\n",
      "Executing plot_returns...\n",
      "Executing amazon_graph...\n",
      "Executing filecounter...\n"
     ]
    },
    {
     "data": {
      "text/plain": [
       "<Figure size 640x480 with 0 Axes>"
      ]
     },
     "metadata": {},
     "output_type": "display_data"
    },
    {
     "data": {
      "text/plain": [
       "<Figure size 640x480 with 0 Axes>"
      ]
     },
     "metadata": {},
     "output_type": "display_data"
    },
    {
     "data": {
      "text/plain": [
       "<Figure size 640x480 with 0 Axes>"
      ]
     },
     "metadata": {},
     "output_type": "display_data"
    },
    {
     "data": {
      "text/plain": [
       "<Figure size 640x480 with 0 Axes>"
      ]
     },
     "metadata": {},
     "output_type": "display_data"
    },
    {
     "data": {
      "text/plain": [
       "<Figure size 640x480 with 0 Axes>"
      ]
     },
     "metadata": {},
     "output_type": "display_data"
    },
    {
     "data": {
      "text/plain": [
       "<Figure size 640x480 with 0 Axes>"
      ]
     },
     "metadata": {},
     "output_type": "display_data"
    }
   ],
   "source": [
    "import visualization as viz\n",
    "import importlib\n",
    "importlib.reload(viz)\n",
    "#import visualization as viz\n",
    "viz.explore_topic_map(topic_map, figfolder, generate_plots)\n",
    "viz.explore_fmb(fmb, figfolder)\n",
    "viz.explore_eret_we(eret_we, figfolder)\n",
    "viz.tex_compare_kk_measures(comparison_measures, figfolder)\n",
    "viz.plot_returns(stoxwe_add, figfolder)\n",
    "viz.amazon_graph(amazon_nov01_short, figfolder)\n",
    "viz.filecounter(figfolder)"
   ]
  },
  {
   "cell_type": "code",
   "execution_count": 7,
   "metadata": {},
   "outputs": [
    {
     "data": {
      "text/plain": [
       "<Figure size 640x480 with 0 Axes>"
      ]
     },
     "metadata": {},
     "output_type": "display_data"
    }
   ],
   "source": [
    "import importlib\n",
    "importlib.reload(viz)\n",
    "viz.explore_stoxda(stoxda_orig, cequity_mapper, topic_map, figfolder)"
   ]
  },
  {
   "cell_type": "code",
   "execution_count": 8,
   "metadata": {},
   "outputs": [
    {
     "data": {
      "text/plain": [
       "<Figure size 640x480 with 0 Axes>"
      ]
     },
     "metadata": {},
     "output_type": "display_data"
    }
   ],
   "source": [
    "import importlib\n",
    "importlib.reload(viz)\n",
    "viz.plot_moment(stoxda_orig, cequity_mapper, topic_map, figfolder, \"kurtosis\", \"Y\", \"max_topic\")"
   ]
  }
 ],
 "metadata": {
  "kernelspec": {
   "display_name": "envkkr",
   "language": "python",
   "name": "python3"
  },
  "language_info": {
   "codemirror_mode": {
    "name": "ipython",
    "version": 3
   },
   "file_extension": ".py",
   "mimetype": "text/x-python",
   "name": "python",
   "nbconvert_exporter": "python",
   "pygments_lexer": "ipython3",
   "version": "3.9.16"
  }
 },
 "nbformat": 4,
 "nbformat_minor": 2
}
