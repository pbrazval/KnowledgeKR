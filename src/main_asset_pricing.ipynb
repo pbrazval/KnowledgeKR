{
 "cells": [
  {
   "cell_type": "code",
   "execution_count": 1,
   "metadata": {},
   "outputs": [
    {
     "name": "stdout",
     "output_type": "stream",
     "text": [
      "Current Working Directory: /Users/pedrovallocci/Documents/PhD (local)/Research/Github/KnowledgeKRisk_10Ks/src\n",
      "New Working Directory: /Users/pedrovallocci/Documents/PhD (local)/Research/Github/KnowledgeKRisk_10Ks/src\n"
     ]
    }
   ],
   "source": [
    "# Require Pandas version >= 2.2.2\n",
    "import pandas as pd\n",
    "assert pd.__version__ >= '2.2.2', 'Please update Pandas to version 2.2.2 or newer'\n",
    "import pandas as pd, os, pyreadr\n",
    "import warnings\n",
    "import time\n",
    "import numpy as  np\n",
    "import pandas as pd\n",
    "import pandas as pd\n",
    "import visualization as viz\n",
    "import data_loading as dl\n",
    "import risk_pricing as rp\n",
    "import statsmodels.api as sm\n",
    "import statsmodels.formula.api as smf\n",
    "import importlib\n",
    "importlib.reload(rp)\n",
    "importlib.reload(viz)\n",
    "importlib.reload(dl)\n",
    "warnings.filterwarnings(\"ignore\")\n",
    "source_folder_path = \"/Users/pedrovallocci/Documents/PhD (local)/Research/Github/KnowledgeKRisk_10Ks/src/\"\n",
    "modelname = \"embeddings_km10_ipcs\" # \"dicfullmc10thr10defnob40noa0_8_hdp\" # Don't forget to clean again when modelname changes\n",
    "start_time = time.time()\n",
    "# print the current working directory (for reference)\n",
    "print(\"Current Working Directory:\", os.getcwd())\n",
    "os.chdir(source_folder_path)\n",
    "print(\"New Working Directory:\", os.getcwd())"
   ]
  },
  {
   "cell_type": "code",
   "execution_count": 2,
   "metadata": {},
   "outputs": [],
   "source": [
    "# # Creating additional models\n",
    "# import matplotlib.pyplot as plt\n",
    "# embeddings = Embeddings()\n",
    "# EmbeddingsHKRModel.plot_cosine_similarity([\"intellectual property\", \"patent\", \"knowledge capital\", \"research and development\", \"key talent\"])\n",
    "# Save last plot:\n",
    "# plt.savefig(\"cosine_similarity.png\")\n",
    "# base_path = \"/Users/pedrovallocci/Documents/PhD (local)/Research/Github/KnowledgeKRisk_10Ks/text/\"\n",
    "# dir_path = os.path.join(base_path)\n",
    "# os.makedirs(dir_path, exist_ok=True)\n",
    "# figfolder = os.path.join(dir_path, \"\")\n",
    "# # Save to the folder:\n",
    "# plt.savefig(figfolder + \"cosine_similarity_terms.png\")\n",
    "# EmbeddingsHKRModel().from_topic_similarity(embeddings, \"emb_knocap\", \"knowledge capital\", to_csv = True)\n",
    "# EmbeddingsHKRModel().from_topic_similarity(embeddings, \"emb_patents\", \"patents\", to_csv = True)\n",
    "# EmbeddingsHKRModel().from_topic_similarity(embeddings, \"emb_intcap\", \"intangible capital\", to_csv = True)"
   ]
  },
  {
   "cell_type": "code",
   "execution_count": 3,
   "metadata": {},
   "outputs": [],
   "source": [
    "# Loading the data from load_dataframes:\n"
   ]
  },
  {
   "cell_type": "code",
   "execution_count": 4,
   "metadata": {},
   "outputs": [
    {
     "name": "stdout",
     "output_type": "stream",
     "text": [
      "Tempo de execução depois de carregar os dados: 11.001140117645264\n",
      "Executing label_topic_map...\n",
      "Running Fama-MacBeth regressions: 5 factors\n"
     ]
    },
    {
     "name": "stderr",
     "output_type": "stream",
     "text": [
      "/Users/pedrovallocci/Documents/PhD (local)/Research/Github/KnowledgeKRisk_10Ks/src/risk_pricing/risk_pricing.py:399: DeprecationWarning: DataFrameGroupBy.apply operated on the grouping columns. This behavior is deprecated, and in a future version of pandas the grouping columns will be excluded from the operation. Either pass `include_groups=False` to exclude the groupings or explicitly select the grouping columns after groupby to silence this warning.\n",
      "/Users/pedrovallocci/Documents/PhD (local)/Research/Github/KnowledgeKRisk_10Ks/src/risk_pricing/risk_pricing.py:425: DeprecationWarning: DataFrameGroupBy.apply operated on the grouping columns. This behavior is deprecated, and in a future version of pandas the grouping columns will be excluded from the operation. Either pass `include_groups=False` to exclude the groupings or explicitly select the grouping columns after groupby to silence this warning.\n",
      "/Users/pedrovallocci/Documents/PhD (local)/Research/Github/KnowledgeKRisk_10Ks/src/risk_pricing/risk_pricing.py:425: DeprecationWarning: DataFrameGroupBy.apply operated on the grouping columns. This behavior is deprecated, and in a future version of pandas the grouping columns will be excluded from the operation. Either pass `include_groups=False` to exclude the groupings or explicitly select the grouping columns after groupby to silence this warning.\n",
      "/Users/pedrovallocci/Documents/PhD (local)/Research/Github/KnowledgeKRisk_10Ks/src/risk_pricing/risk_pricing.py:478: DeprecationWarning: DataFrameGroupBy.apply operated on the grouping columns. This behavior is deprecated, and in a future version of pandas the grouping columns will be excluded from the operation. Either pass `include_groups=False` to exclude the groupings or explicitly select the grouping columns after groupby to silence this warning.\n",
      "/Users/pedrovallocci/Documents/PhD (local)/Research/Github/KnowledgeKRisk_10Ks/src/risk_pricing/risk_pricing.py:496: DeprecationWarning: DataFrameGroupBy.apply operated on the grouping columns. This behavior is deprecated, and in a future version of pandas the grouping columns will be excluded from the operation. Either pass `include_groups=False` to exclude the groupings or explicitly select the grouping columns after groupby to silence this warning.\n",
      "/Users/pedrovallocci/Documents/PhD (local)/Research/Github/KnowledgeKRisk_10Ks/src/risk_pricing/risk_pricing.py:507: DeprecationWarning: DataFrameGroupBy.apply operated on the grouping columns. This behavior is deprecated, and in a future version of pandas the grouping columns will be excluded from the operation. Either pass `include_groups=False` to exclude the groupings or explicitly select the grouping columns after groupby to silence this warning.\n"
     ]
    },
    {
     "name": "stdout",
     "output_type": "stream",
     "text": [
      "Finished processing stoxwe\n",
      "New kernel\n",
      "Finished Fama-MacBeth\n"
     ]
    },
    {
     "name": "stderr",
     "output_type": "stream",
     "text": [
      "/Users/pedrovallocci/Documents/PhD (local)/Research/Github/KnowledgeKRisk_10Ks/src/risk_pricing/risk_pricing.py:399: DeprecationWarning: DataFrameGroupBy.apply operated on the grouping columns. This behavior is deprecated, and in a future version of pandas the grouping columns will be excluded from the operation. Either pass `include_groups=False` to exclude the groupings or explicitly select the grouping columns after groupby to silence this warning.\n",
      "/Users/pedrovallocci/Documents/PhD (local)/Research/Github/KnowledgeKRisk_10Ks/src/risk_pricing/risk_pricing.py:425: DeprecationWarning: DataFrameGroupBy.apply operated on the grouping columns. This behavior is deprecated, and in a future version of pandas the grouping columns will be excluded from the operation. Either pass `include_groups=False` to exclude the groupings or explicitly select the grouping columns after groupby to silence this warning.\n",
      "/Users/pedrovallocci/Documents/PhD (local)/Research/Github/KnowledgeKRisk_10Ks/src/risk_pricing/risk_pricing.py:425: DeprecationWarning: DataFrameGroupBy.apply operated on the grouping columns. This behavior is deprecated, and in a future version of pandas the grouping columns will be excluded from the operation. Either pass `include_groups=False` to exclude the groupings or explicitly select the grouping columns after groupby to silence this warning.\n",
      "/Users/pedrovallocci/Documents/PhD (local)/Research/Github/KnowledgeKRisk_10Ks/src/risk_pricing/risk_pricing.py:467: DeprecationWarning: DataFrameGroupBy.apply operated on the grouping columns. This behavior is deprecated, and in a future version of pandas the grouping columns will be excluded from the operation. Either pass `include_groups=False` to exclude the groupings or explicitly select the grouping columns after groupby to silence this warning.\n",
      "/Users/pedrovallocci/Documents/PhD (local)/Research/Github/KnowledgeKRisk_10Ks/src/risk_pricing/risk_pricing.py:496: DeprecationWarning: DataFrameGroupBy.apply operated on the grouping columns. This behavior is deprecated, and in a future version of pandas the grouping columns will be excluded from the operation. Either pass `include_groups=False` to exclude the groupings or explicitly select the grouping columns after groupby to silence this warning.\n",
      "/Users/pedrovallocci/Documents/PhD (local)/Research/Github/KnowledgeKRisk_10Ks/src/risk_pricing/risk_pricing.py:507: DeprecationWarning: DataFrameGroupBy.apply operated on the grouping columns. This behavior is deprecated, and in a future version of pandas the grouping columns will be excluded from the operation. Either pass `include_groups=False` to exclude the groupings or explicitly select the grouping columns after groupby to silence this warning.\n"
     ]
    },
    {
     "name": "stdout",
     "output_type": "stream",
     "text": [
      "Finished processing stoxwe\n",
      "New kernel\n",
      "Finished Fama-MacBeth\n",
      "New kernel\n",
      "Running Fama-MacBeth regressions: 1 factor\n",
      "Executing explore_fmb...\n",
      "Special case for FamaMacBethResults\n",
      "Special case for FamaMacBethResults\n",
      "Special case for FamaMacBethResults\n",
      "Executing fig_h1b_vs_smb_kkhml...\n",
      "Executing tex_HKR_vs_mktrf...\n",
      "Now using pseudo-monthly returns\n",
      "Finished using pseudo-monthly returns!\n",
      "Executing tex_fmb_results_statistics...\n",
      "Executing tex_compare_kk_measures...\n",
      "Executing plot_returns...\n"
     ]
    },
    {
     "name": "stderr",
     "output_type": "stream",
     "text": [
      "/Users/pedrovallocci/Documents/PhD (local)/Research/Github/KnowledgeKRisk_10Ks/src/visualization/visualization.py:760: DeprecationWarning: DataFrameGroupBy.apply operated on the grouping columns. This behavior is deprecated, and in a future version of pandas the grouping columns will be excluded from the operation. Either pass `include_groups=False` to exclude the groupings or explicitly select the grouping columns after groupby to silence this warning.\n",
      "/Users/pedrovallocci/Documents/PhD (local)/Research/Github/KnowledgeKRisk_10Ks/src/visualization/visualization.py:777: DeprecationWarning: DataFrameGroupBy.apply operated on the grouping columns. This behavior is deprecated, and in a future version of pandas the grouping columns will be excluded from the operation. Either pass `include_groups=False` to exclude the groupings or explicitly select the grouping columns after groupby to silence this warning.\n"
     ]
    },
    {
     "name": "stdout",
     "output_type": "stream",
     "text": [
      "Executing preprocess_stoxda...\n"
     ]
    }
   ],
   "source": [
    "import risk_pricing as rp\n",
    "import importlib\n",
    "import embedding_tools as et\n",
    "import visualization as viz\n",
    "from embedding_tools import Embeddings\n",
    "from embedding_tools import EmbeddingsHKRModel\n",
    "importlib.reload(rp)\n",
    "importlib.reload(viz)\n",
    "quantiles = 10\n",
    "# embeddings = Embeddings()\n",
    "# EmbeddingsHKRModel().from_topic_similarity(embeddings, \"emb_kt\", \"key talent\", to_csv = True)\n",
    "cases_list = [(\"dicfullmc10thr10defnob40noa0_8_hdp\", \"pfkk2me3mb\", 5),\n",
    "              (\"dicfullmc10thr10defnob40noa0_8_4t\", \"pfkk2me3mb\", 5),\n",
    "              (\"embeddings_km10_ipcs\", \"pfkki3me3mb\", 3),\n",
    "              (\"embeddings_km10_ipcs\", \"pfkk2me3mb\", 3),\n",
    "              (\"embeddings_km10_ipcs\", \"pfkki3me3mb\", 10),\n",
    "              (\"embeddings_km10_ipcs\", \"pfkk2me3mb\", 10), \n",
    "              (\"emb_patents\", \"pfkki3me3mb\", 3)\n",
    "              ]\n",
    "for modelname, pfname, quantiles in cases_list:\n",
    "    add_innerkk_pf = not modelname.startswith(\"dicfull\")\n",
    "    amazon_nov01_short, cequity_mapper, ff3fw, ff5fw, ff3fm, ff5fm, topic_map_unlabeled, comparison_measures, stoxmo_orig, stoxda_orig, stoxwe_orig = \\\n",
    "        dl.load_dataframes(modelname, start_time, clean_again = False)\n",
    "    cuts = np.linspace(0, 1, quantiles+1).tolist()\n",
    "    topic_map = viz.label_topic_map(topic_map_unlabeled, modelname, cuts = cuts)\n",
    "    print(\"Running Fama-MacBeth regressions: 5 factors\")\n",
    "    fmb_5, df_betas, eret_we, stoxwe_add = rp.famaMacBethFull(stoxwe_orig, cequity_mapper, topic_map, ff5fw, pfname, kki_cuts = cuts, window_size = 52*2, add_innerkk_pf = add_innerkk_pf)\n",
    "    fmb_3, _, _, _ = rp.famaMacBethFull(stoxwe_orig, cequity_mapper, topic_map, ff3fw, pfname, kki_cuts = cuts, window_size = 52*2, add_innerkk_pf = add_innerkk_pf)\n",
    "    fmb_1, _ = rp.famaMacBeth(eret_we, pfname, formula = \"eretw ~ 1 + MktRF + HKR\", window_size=52*2)\n",
    "    print(\"Running Fama-MacBeth regressions: 1 factor\")\n",
    "    #import visualization as viz\n",
    "    base_path = \"/Users/pedrovallocci/Documents/PhD (local)/Research/Github/KnowledgeKRisk_10Ks/text/\"\n",
    "    dir_path = os.path.join(base_path, f\"{modelname}_{quantiles}tiles_{pfname}_HKR_SB\")\n",
    "    os.makedirs(dir_path, exist_ok=True)\n",
    "    figfolder = os.path.join(dir_path, \"\")\n",
    "    generate_plots = True\n",
    "    ##\n",
    "    #viz.explore_topic_map(topic_map, figfolder, generate_plots)\n",
    "    viz.explore_fmb([fmb_1, fmb_3, fmb_5], figfolder)\n",
    "    viz.explore_eret_we(eret_we, figfolder)\n",
    "    viz.tex_compare_kk_measures(comparison_measures, figfolder)\n",
    "    viz.plot_returns(stoxwe_add, figfolder)\n",
    "    # viz.amazon_graph(amazon_nov01_short, figfolder)\n",
    "    # viz.filecounter(figfolder)\n",
    "    viz.explore_stoxda(stoxda_orig, cequity_mapper, topic_map, figfolder)\n",
    "    viz.explore_betas(df_betas, quantiles, figfolder)"
   ]
  },
  {
   "cell_type": "markdown",
   "metadata": {},
   "source": []
  }
 ],
 "metadata": {
  "kernelspec": {
   "display_name": "Python (envkkr)",
   "language": "python",
   "name": "envkkr"
  },
  "language_info": {
   "codemirror_mode": {
    "name": "ipython",
    "version": 3
   },
   "file_extension": ".py",
   "mimetype": "text/x-python",
   "name": "python",
   "nbconvert_exporter": "python",
   "pygments_lexer": "ipython3",
   "version": "3.9.13"
  }
 },
 "nbformat": 4,
 "nbformat_minor": 2
}
