{
 "cells": [
  {
   "cell_type": "code",
   "execution_count": 11,
   "metadata": {},
   "outputs": [
    {
     "name": "stdout",
     "output_type": "stream",
     "text": [
      "Current Working Directory: /Users/pedrovallocci/Documents/PhD (local)/Research/Github/KnowledgeKRisk_10Ks/src\n",
      "New Working Directory: /Users/pedrovallocci/Documents/PhD (local)/Research/Github/KnowledgeKRisk_10Ks/src\n"
     ]
    }
   ],
   "source": [
    "# Require Pandas version >= 2.2.2\n",
    "import pandas as pd\n",
    "assert pd.__version__ >= '2.2.2', 'Please update Pandas to version 2.2.2 or newer'\n",
    "import pandas as pd, os, pyreadr\n",
    "import warnings\n",
    "import time\n",
    "import numpy as  np\n",
    "import pandas as pd\n",
    "import pandas as pd\n",
    "import visualization as viz\n",
    "import data_loading as dl\n",
    "import risk_pricing as rp\n",
    "import statsmodels.api as sm\n",
    "import statsmodels.formula.api as smf\n",
    "import importlib\n",
    "importlib.reload(rp)\n",
    "importlib.reload(viz)\n",
    "importlib.reload(dl)\n",
    "warnings.filterwarnings(\"ignore\")\n",
    "source_folder_path = \"/Users/pedrovallocci/Documents/PhD (local)/Research/Github/KnowledgeKRisk_10Ks/src/\"\n",
    "modelname = \"embeddings_km10_ipcs\" # \"dicfullmc10thr10defnob40noa0_8_hdp\" # Don't forget to clean again when modelname changes\n",
    "start_time = time.time()\n",
    "# print the current working directory (for reference)\n",
    "print(\"Current Working Directory:\", os.getcwd())\n",
    "os.chdir(source_folder_path)\n",
    "print(\"New Working Directory:\", os.getcwd())"
   ]
  },
  {
   "cell_type": "code",
   "execution_count": 12,
   "metadata": {},
   "outputs": [],
   "source": [
    "# # Creating additional models\n",
    "# import matplotlib.pyplot as plt\n",
    "# embeddings = Embeddings()\n",
    "# EmbeddingsHKRModel.plot_cosine_similarity([\"intellectual property\", \"patent\", \"knowledge capital\", \"research and development\", \"key talent\"])\n",
    "# Save last plot:\n",
    "# plt.savefig(\"cosine_similarity.png\")\n",
    "# base_path = \"/Users/pedrovallocci/Documents/PhD (local)/Research/Github/KnowledgeKRisk_10Ks/text/\"\n",
    "# dir_path = os.path.join(base_path)\n",
    "# os.makedirs(dir_path, exist_ok=True)\n",
    "# figfolder = os.path.join(dir_path, \"\")\n",
    "# # Save to the folder:\n",
    "# plt.savefig(figfolder + \"cosine_similarity_terms.png\")\n",
    "# EmbeddingsHKRModel().from_topic_similarity(embeddings, \"emb_knocap\", \"knowledge capital\", to_csv = True)\n",
    "# EmbeddingsHKRModel().from_topic_similarity(embeddings, \"emb_patents\", \"patents\", to_csv = True)\n",
    "# EmbeddingsHKRModel().from_topic_similarity(embeddings, \"emb_intcap\", \"intangible capital\", to_csv = True)"
   ]
  },
  {
   "cell_type": "code",
   "execution_count": 13,
   "metadata": {},
   "outputs": [],
   "source": [
    "# Loading the data from load_dataframes:\n"
   ]
  },
  {
   "cell_type": "code",
   "execution_count": 14,
   "metadata": {},
   "outputs": [
    {
     "name": "stdout",
     "output_type": "stream",
     "text": [
      "Tempo de execução depois de carregar os dados: 12.31749415397644\n",
      "Running Fama-MacBeth regressions: 5 factors\n",
      "Finished processing stoxwe\n",
      "New kernel\n",
      "Finished Fama-MacBeth\n",
      "Finished processing stoxwe\n",
      "New kernel\n",
      "Finished Fama-MacBeth\n",
      "New kernel\n",
      "Running Fama-MacBeth regressions: 1 factor\n",
      "Executing fig_mean_tiy...\n",
      "Executing tex_average_topic_loadings_by_high_tech...\n",
      "Executing tex_sample_topic_loadings...\n",
      "Executing df_skill_correlations...\n",
      "Executing df_patent_correlations...\n",
      "Executing fig_share_dominant_kk_by_ind...\n",
      "Executing fig_heatmap_topicvskkpt...\n",
      "Executing fig_heatmap_topicvsikpt...\n",
      "Executing fig_histogram_kk...\n",
      "Executing fig_histogram_kk_by_ind12...\n",
      "Finished!\n",
      "Executing explore_fmb...\n",
      "Special case for FamaMacBethResults\n",
      "Special case for FamaMacBethResults\n",
      "Special case for FamaMacBethResults\n",
      "Executing fig_h1b_vs_smb_kkhml...\n",
      "Executing tex_HKR_vs_mktrf...\n",
      "Now using pseudo-monthly returns\n",
      "Finished using pseudo-monthly returns!\n",
      "Executing tex_summary_statistics...\n",
      "Executing tex_compare_kk_measures...\n",
      "Executing plot_returns...\n",
      "Executing preprocess_stoxda...\n",
      "Executing plot_moment...\n",
      "Executing plot_moment...\n",
      "Executing plot_moment...\n"
     ]
    },
    {
     "data": {
      "text/plain": [
       "<Figure size 640x480 with 0 Axes>"
      ]
     },
     "metadata": {},
     "output_type": "display_data"
    },
    {
     "data": {
      "text/plain": [
       "<Figure size 640x480 with 0 Axes>"
      ]
     },
     "metadata": {},
     "output_type": "display_data"
    },
    {
     "data": {
      "text/plain": [
       "<Figure size 640x480 with 0 Axes>"
      ]
     },
     "metadata": {},
     "output_type": "display_data"
    },
    {
     "data": {
      "text/plain": [
       "<Figure size 640x480 with 0 Axes>"
      ]
     },
     "metadata": {},
     "output_type": "display_data"
    },
    {
     "data": {
      "text/plain": [
       "<Figure size 640x480 with 0 Axes>"
      ]
     },
     "metadata": {},
     "output_type": "display_data"
    }
   ],
   "source": [
    "import risk_pricing as rp\n",
    "import importlib\n",
    "import embedding_tools as et\n",
    "from embedding_tools import Embeddings\n",
    "from embedding_tools import EmbeddingsHKRModel\n",
    "importlib.reload(rp)\n",
    "importlib.reload(viz)\n",
    "quantiles = 10\n",
    "# embeddings = Embeddings()\n",
    "# EmbeddingsHKRModel().from_topic_similarity(embeddings, \"emb_kt\", \"key talent\", to_csv = True)\n",
    "for quantiles in [10]:\n",
    "    for modelname in [\"embeddings_km10_ipcs\"]:\n",
    "        for pfname in [\"pfkki3me3mb\"]:\n",
    "            amazon_nov01_short, cequity_mapper, ff3fw, ff5fw, ff3fm, ff5fm, topic_map_unlabeled, comparison_measures, stoxmo_orig, stoxda_orig, stoxwe_orig = \\\n",
    "                dl.load_dataframes(modelname, start_time, clean_again = False)\n",
    "            cuts = np.linspace(0, 1, quantiles+1).tolist()\n",
    "            topic_map = viz.label_topic_map(topic_map_unlabeled, modelname, cuts = cuts)\n",
    "            print(\"Running Fama-MacBeth regressions: 5 factors\")\n",
    "            fmb_5, indexed_df, eret_we, stoxwe_add = rp.famaMacBethFull(stoxwe_orig, cequity_mapper, topic_map, ff5fw, pfname, kki_cuts = cuts, window_size = 52*2, add_innerkk_pf = True)\n",
    "            fmb_3, _, _, _ = rp.famaMacBethFull(stoxwe_orig, cequity_mapper, topic_map, ff3fw, pfname, kki_cuts = cuts, window_size = 52*2, add_innerkk_pf = True)\n",
    "            fmb_1, indexed_df = rp.famaMacBeth(eret_we, pfname, formula = \"eretw ~ 1 + MktRF + HKR\", window_size=52*2)\n",
    "            print(\"Running Fama-MacBeth regressions: 1 factor\")\n",
    "            #import visualization as viz\n",
    "            base_path = \"/Users/pedrovallocci/Documents/PhD (local)/Research/Github/KnowledgeKRisk_10Ks/text/\"\n",
    "            dir_path = os.path.join(base_path, f\"{modelname}_{quantiles}tiles_{pfname}_HKR_SB\")\n",
    "            os.makedirs(dir_path, exist_ok=True)\n",
    "            figfolder = os.path.join(dir_path, \"\")\n",
    "            generate_plots = True\n",
    "            ##\n",
    "            viz.explore_topic_map(topic_map, figfolder, generate_plots)\n",
    "            viz.explore_fmb([fmb_1, fmb_3, fmb_5], figfolder)\n",
    "            viz.explore_eret_we(eret_we, figfolder)\n",
    "            viz.tex_compare_kk_measures(comparison_measures, figfolder)\n",
    "            viz.plot_returns(stoxwe_add, figfolder)\n",
    "            #viz.amazon_graph(amazon_nov01_short, figfolder)\n",
    "            #viz.filecounter(figfolder)\n",
    "            viz.explore_stoxda(stoxda_orig, cequity_mapper, topic_map, figfolder)"
   ]
  },
  {
   "cell_type": "markdown",
   "metadata": {},
   "source": []
  },
  {
   "cell_type": "code",
   "execution_count": 15,
   "metadata": {},
   "outputs": [],
   "source": [
    "eret_we_agg = (eret_we\n",
    "        .groupby('yw')\n",
    "        .mean())\n",
    "eret_we_agg = eret_we_agg.reset_index()\n",
    "eret_we_agg.yw = eret_we_agg.yw.astype(int)\n",
    "def convert_yw_to_date(yw):\n",
    "    year = yw // 100\n",
    "    week = yw % 100\n",
    "    # Create a date corresponding to the first day of the year\n",
    "    date = pd.to_datetime(year.astype(str) + '0101', format='%Y%m%d')\n",
    "    # Add the number of weeks to get the first day of the week\n",
    "    return date + pd.to_timedelta((week - 1) * 7, unit='D')\n",
    "\n",
    "# Apply the function to the yw column\n",
    "eret_we_agg['date'] = convert_yw_to_date(eret_we_agg['yw'])\n",
    "# Keep only columns whose names match one of the set: date, eretw, Mkt.RF, SMB, HML, RMW, CMA, RF, HKR, HKR_NSB\n",
    "columns_to_keep = {'date', 'eretw', 'Mkt.RF', 'SMB', 'HML', 'RMW', 'CMA', 'RF', 'HKR', 'HKR_NSB'}\n",
    "# Drop columns index, yw, and any other column whose name is not in columns_to_keep\n",
    "eret_we_agg = eret_we_agg[eret_we_agg.columns.intersection(columns_to_keep)]\n",
    "\n",
    "columns_to_aggregate = ['eretw', 'Mkt.RF', 'SMB', 'HML', 'RMW', 'CMA', 'RF', 'HKR', 'HKR_NSB']\n",
    "\n",
    "# Define a function to aggregate groups of 4 rows\n",
    "def aggregate_groups(df):\n",
    "    # Create a grouping variable\n",
    "    df['group'] = df.index // 4\n",
    "    \n",
    "    # Define aggregation rules\n",
    "    agg_rules = {'date': ('date', 'last')}\n",
    "    \n",
    "    for col in columns_to_aggregate:\n",
    "        if col in df.columns:\n",
    "            agg_rules[col] = (col, 'sum')\n",
    "    \n",
    "    # Aggregate the groups\n",
    "    pseudo_monthly = df.groupby('group').agg(**agg_rules).reset_index(drop=True)\n",
    "    \n",
    "    return pseudo_monthly\n",
    "\n",
    "# Apply the aggregation function\n",
    "pseudo_monthly = aggregate_groups(eret_we_agg)\n"
   ]
  },
  {
   "cell_type": "code",
   "execution_count": 16,
   "metadata": {},
   "outputs": [
    {
     "ename": "ImportError",
     "evalue": "cannot import name 'ret_nwks_ahead' from 'risk_pricing' (/Users/pedrovallocci/Documents/PhD (local)/Research/Github/KnowledgeKRisk_10Ks/src/risk_pricing/__init__.py)",
     "output_type": "error",
     "traceback": [
      "\u001b[0;31m---------------------------------------------------------------------------\u001b[0m",
      "\u001b[0;31mImportError\u001b[0m                               Traceback (most recent call last)",
      "Cell \u001b[0;32mIn[16], line 2\u001b[0m\n\u001b[1;32m      1\u001b[0m \u001b[38;5;28;01mfrom\u001b[39;00m \u001b[38;5;21;01mstatsmodels\u001b[39;00m\u001b[38;5;21;01m.\u001b[39;00m\u001b[38;5;21;01miolib\u001b[39;00m\u001b[38;5;21;01m.\u001b[39;00m\u001b[38;5;21;01msummary2\u001b[39;00m \u001b[38;5;28;01mimport\u001b[39;00m summary_col\n\u001b[0;32m----> 2\u001b[0m \u001b[38;5;28;01mfrom\u001b[39;00m \u001b[38;5;21;01mrisk_pricing\u001b[39;00m \u001b[38;5;28;01mimport\u001b[39;00m ret_nwks_ahead\n\u001b[1;32m      5\u001b[0m eret_we_agg \u001b[38;5;241m=\u001b[39m eret_we_agg[eret_we_agg\u001b[38;5;241m.\u001b[39myw \u001b[38;5;241m>\u001b[39m \u001b[38;5;241m200900\u001b[39m]\n\u001b[1;32m      6\u001b[0m eret_we_agg \u001b[38;5;241m=\u001b[39m eret_we_agg[eret_we_agg\u001b[38;5;241m.\u001b[39myw \u001b[38;5;241m<\u001b[39m \u001b[38;5;241m202012\u001b[39m]\n",
      "\u001b[0;31mImportError\u001b[0m: cannot import name 'ret_nwks_ahead' from 'risk_pricing' (/Users/pedrovallocci/Documents/PhD (local)/Research/Github/KnowledgeKRisk_10Ks/src/risk_pricing/__init__.py)"
     ]
    }
   ],
   "source": [
    "from statsmodels.iolib.summary2 import summary_col\n",
    "from risk_pricing import ret_nwks_ahead\n",
    "\n",
    "\n",
    "eret_we_agg = eret_we_agg[eret_we_agg.yw > 200900]\n",
    "eret_we_agg = eret_we_agg[eret_we_agg.yw < 202012]\n",
    "eret_we_agg = ret_nwks_ahead(eret_we_agg, 4)\n",
    "eret_we_agg = ret_nwks_ahead(eret_we_agg, 12)\n",
    "eret_we_agg = ret_nwks_ahead(eret_we_agg, 52)\n",
    "eret_we_agg = ret_nwks_ahead(eret_we_agg, 104)\n",
    "eret_we_agg = ret_nwks_ahead(eret_we_agg, 156)\n",
    "#eret_we_agg = ret_nwks_ahead(eret_we_agg, 52*4)\n",
    "#eret_we_agg = ret_nwks_ahead(eret_we_agg, 52*5)\n",
    "\n",
    "eret_we_agg.rename(columns = {'Mkt.RF_4w': 'MktRF_4w', \n",
    "                            'Mkt.RF_12w': 'MktRF_12w', \n",
    "                            'Mkt.RF_52w': 'MktRF_52w', \n",
    "                            'Mkt.RF_104w': 'MktRF_104w', \n",
    "                            'Mkt.RF_156w': 'MktRF_156w'#, 'Mkt.RF_208w': 'MktRF_208w', 'Mkt.RF_260w': 'MktRF_260w', \n",
    "                            }, inplace=True)\n",
    "\n",
    "summary = (summary_col([smf.ols(formula=\"MktRF_4w ~ HKR\", data=eret_we_agg).fit(cov_type='HAC', cov_kwds={'maxlags': 4}),  # cov_type='HAC', cov_kwds={'maxlags': 4}: Should be added?\n",
    "                        smf.ols(formula=\"MktRF_12w ~ HKR\", data=eret_we_agg).fit(cov_type='HAC', cov_kwds={'maxlags': 12}),#fit(cov_type='HAC', cov_kwds={'maxlags': 12}), \n",
    "                        smf.ols(formula=\"MktRF_52w ~ HKR\", data=eret_we_agg).fit(cov_type='HAC', cov_kwds={'maxlags': 52}),#fit(cov_type='HAC', cov_kwds={'maxlags': 52}), \n",
    "                        smf.ols(formula=\"MktRF_104w ~ HKR\", data=eret_we_agg).fit(cov_type='HAC', cov_kwds={'maxlags': 104}),#fit(cov_type='HAC', cov_kwds={'maxlags': 104}), \n",
    "                        smf.ols(formula=\"MktRF_156w ~ HKR\", data=eret_we_agg).fit(cov_type='HAC', cov_kwds={'maxlags': 156}),#fit(cov_type='HAC', cov_kwds={'maxlags': 156})#, sm.formula.ols(formula=\"MktRF_208w ~ HKR\", data=eret_we_agg).fit(), sm.formula.ols(formula=\"MktRF_260w ~ HKR\", data=eret_we_agg)\n",
    "                        ],  # List of regression result objects\n",
    "                    model_names=['4wa', '12wa', '52wa', '104wa', '156wa'],#, '208wa', '260wa'],  # Names for each model\n",
    "                    stars=True,  # Include significance stars\n",
    "                    float_format='%0.4f',  # Format for displaying coefficients\n",
    "                    regressor_order=['HKR', 'SMB', 'HML'],  # Order of variables in the table\n",
    "                    drop_omitted=True))  # Drop omitted variables\n",
    "    # fig_h1b_vs_smb_kkhml(eret_we_agg, figfolder)\n",
    "    # tex_HKR_vs_mktrf(eret_we_agg, figfolder)\n",
    "    # tex_summary_statistics(eret_we_agg, figfolder)\n",
    "summary"
   ]
  },
  {
   "cell_type": "code",
   "execution_count": null,
   "metadata": {},
   "outputs": [
    {
     "data": {
      "text/html": [
       "<table class=\"simpletable\">\n",
       "<tr>\n",
       "         <td></td>           <th>4wa</th>     <th>12wa</th>     <th>52wa</th>     <th>104wa</th>    <th>156wa</th> \n",
       "</tr>\n",
       "<tr>\n",
       "  <th>SMB</th>             <td>0.0217</td>   <td>0.0940</td>   <td>-0.0574</td>  <td>-0.2265</td>  <td>-0.3702</td>\n",
       "</tr>\n",
       "<tr>\n",
       "  <th></th>               <td>(0.1650)</td> <td>(0.2457)</td> <td>(0.2854)</td> <td>(0.3161)</td> <td>(0.2791)</td>\n",
       "</tr>\n",
       "<tr>\n",
       "  <th>HML</th>             <td>0.1575</td>   <td>-0.1136</td>  <td>0.2038</td>   <td>-0.0826</td>  <td>-0.4292</td>\n",
       "</tr>\n",
       "<tr>\n",
       "  <th></th>               <td>(0.1670)</td> <td>(0.2261)</td> <td>(0.3223)</td> <td>(0.3273)</td> <td>(0.2990)</td>\n",
       "</tr>\n",
       "<tr>\n",
       "  <th>R-squared</th>       <td>0.0027</td>   <td>0.0016</td>   <td>0.0008</td>   <td>0.0006</td>   <td>0.0062</td> \n",
       "</tr>\n",
       "<tr>\n",
       "  <th>R-squared Adj.</th>  <td>-0.0025</td>  <td>-0.0037</td>  <td>-0.0048</td>  <td>-0.0057</td>  <td>-0.0009</td>\n",
       "</tr>\n",
       "</table><br/>\n",
       "Standard errors in parentheses.<br/>\n",
       "* p<.1, ** p<.05, ***p<.01"
      ],
      "text/latex": [
       "\\begin{table}\n",
       "\\caption{}\n",
       "\\label{}\n",
       "\\begin{center}\n",
       "\\begin{tabular}{llllll}\n",
       "\\hline\n",
       "               & 4wa      & 12wa     & 52wa     & 104wa    & 156wa     \\\\\n",
       "\\hline\n",
       "SMB            & 0.0217   & 0.0940   & -0.0574  & -0.2265  & -0.3702   \\\\\n",
       "               & (0.1650) & (0.2457) & (0.2854) & (0.3161) & (0.2791)  \\\\\n",
       "HML            & 0.1575   & -0.1136  & 0.2038   & -0.0826  & -0.4292   \\\\\n",
       "               & (0.1670) & (0.2261) & (0.3223) & (0.3273) & (0.2990)  \\\\\n",
       "R-squared      & 0.0027   & 0.0016   & 0.0008   & 0.0006   & 0.0062    \\\\\n",
       "R-squared Adj. & -0.0025  & -0.0037  & -0.0048  & -0.0057  & -0.0009   \\\\\n",
       "\\hline\n",
       "\\end{tabular}\n",
       "\\end{center}\n",
       "\\end{table}\n",
       "\\bigskip\n",
       "Standard errors in parentheses. \\newline \n",
       "* p<.1, ** p<.05, ***p<.01"
      ],
      "text/plain": [
       "<class 'statsmodels.iolib.summary2.Summary'>\n",
       "\"\"\"\n",
       "\n",
       "===========================================================\n",
       "                 4wa      12wa     52wa    104wa    156wa  \n",
       "-----------------------------------------------------------\n",
       "SMB            0.0217   0.0940   -0.0574  -0.2265  -0.3702 \n",
       "               (0.1650) (0.2457) (0.2854) (0.3161) (0.2791)\n",
       "HML            0.1575   -0.1136  0.2038   -0.0826  -0.4292 \n",
       "               (0.1670) (0.2261) (0.3223) (0.3273) (0.2990)\n",
       "R-squared      0.0027   0.0016   0.0008   0.0006   0.0062  \n",
       "R-squared Adj. -0.0025  -0.0037  -0.0048  -0.0057  -0.0009 \n",
       "===========================================================\n",
       "Standard errors in parentheses.\n",
       "* p<.1, ** p<.05, ***p<.01\n",
       "\"\"\""
      ]
     },
     "execution_count": 18,
     "metadata": {},
     "output_type": "execute_result"
    }
   ],
   "source": [
    "summary"
   ]
  }
 ],
 "metadata": {
  "kernelspec": {
   "display_name": "Python (envkkr)",
   "language": "python",
   "name": "envkkr"
  },
  "language_info": {
   "codemirror_mode": {
    "name": "ipython",
    "version": 3
   },
   "file_extension": ".py",
   "mimetype": "text/x-python",
   "name": "python",
   "nbconvert_exporter": "python",
   "pygments_lexer": "ipython3",
   "version": "3.9.13"
  }
 },
 "nbformat": 4,
 "nbformat_minor": 2
}
