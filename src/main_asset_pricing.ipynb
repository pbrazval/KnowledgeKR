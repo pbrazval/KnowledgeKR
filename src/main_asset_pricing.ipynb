{
 "cells": [
  {
   "cell_type": "code",
   "execution_count": 1,
   "metadata": {},
   "outputs": [],
   "source": [
    "# Require Pandas version >= 2.2.2\n",
    "import pandas as pd\n",
    "assert pd.__version__ >= '2.2.2', 'Please update Pandas to version 2.2.2 or newer'\n",
    "import pandas as pd, os, pyreadr\n",
    "import warnings\n",
    "import time\n",
    "import numpy as  np\n",
    "import pandas as pd\n",
    "import pandas as pd\n",
    "import visualization as viz\n",
    "import data_loading as dl\n",
    "import risk_pricing as rp\n",
    "import statsmodels.api as sm\n",
    "import statsmodels.formula.api as smf\n",
    "import importlib\n",
    "importlib.reload(rp)\n",
    "importlib.reload(viz)\n",
    "importlib.reload(dl)\n",
    "warnings.filterwarnings(\"ignore\")\n",
    "start_time = time.time()\n",
    "source_folder_path = \"/Users/pedrovallocci/Documents/PhD (local)/Research/Github/KnowledgeKRisk_10Ks/src/\""
   ]
  },
  {
   "cell_type": "code",
   "execution_count": 2,
   "metadata": {},
   "outputs": [],
   "source": [
    "# # Creating additional models\n",
    "# import matplotlib.pyplot as plt\n",
    "# embeddings = Embeddings()\n",
    "# EmbeddingsHKRModel.plot_cosine_similarity([\"intellectual property\", \"patent\", \"knowledge capital\", \"research and development\", \"key talent\"])\n",
    "# Save last plot:\n",
    "# plt.savefig(\"cosine_similarity.png\")\n",
    "# base_path = \"/Users/pedrovallocci/Documents/PhD (local)/Research/Github/KnowledgeKRisk_10Ks/text/\"\n",
    "# dir_path = os.path.join(base_path)\n",
    "# os.makedirs(dir_path, exist_ok=True)\n",
    "# figfolder = os.path.join(dir_path, \"\")\n",
    "# # Save to the folder:\n",
    "# plt.savefig(figfolder + \"cosine_similarity_terms.png\")\n",
    "# EmbeddingsHKRModel().from_topic_similarity(embeddings, \"emb_knocap\", \"knowledge capital\", to_csv = True)\n",
    "# EmbeddingsHKRModel().from_topic_similarity(embeddings, \"emb_patents\", \"patents\", to_csv = True)\n",
    "# EmbeddingsHKRModel().from_topic_similarity(embeddings, \"emb_intcap\", \"intangible capital\", to_csv = True)"
   ]
  },
  {
   "cell_type": "code",
   "execution_count": 3,
   "metadata": {},
   "outputs": [
    {
     "name": "stdout",
     "output_type": "stream",
     "text": [
      "Running model embeddings_km10_ipcs with 3 quantiles and pfkki3me3mb portfolio\n",
      "Executing label_topic_map...\n",
      "Running Fama-MacBeth regressions: 5 factors\n"
     ]
    },
    {
     "name": "stderr",
     "output_type": "stream",
     "text": [
      "/Users/pedrovallocci/Documents/PhD (local)/Research/Github/KnowledgeKRisk_10Ks/src/risk_pricing/risk_pricing.py:59: DeprecationWarning: DataFrameGroupBy.apply operated on the grouping columns. This behavior is deprecated, and in a future version of pandas the grouping columns will be excluded from the operation. Either pass `include_groups=False` to exclude the groupings or explicitly select the grouping columns after groupby to silence this warning.\n",
      "/Users/pedrovallocci/Documents/PhD (local)/Research/Github/KnowledgeKRisk_10Ks/src/risk_pricing/risk_pricing.py:85: DeprecationWarning: DataFrameGroupBy.apply operated on the grouping columns. This behavior is deprecated, and in a future version of pandas the grouping columns will be excluded from the operation. Either pass `include_groups=False` to exclude the groupings or explicitly select the grouping columns after groupby to silence this warning.\n",
      "/Users/pedrovallocci/Documents/PhD (local)/Research/Github/KnowledgeKRisk_10Ks/src/risk_pricing/risk_pricing.py:85: DeprecationWarning: DataFrameGroupBy.apply operated on the grouping columns. This behavior is deprecated, and in a future version of pandas the grouping columns will be excluded from the operation. Either pass `include_groups=False` to exclude the groupings or explicitly select the grouping columns after groupby to silence this warning.\n",
      "/Users/pedrovallocci/Documents/PhD (local)/Research/Github/KnowledgeKRisk_10Ks/src/risk_pricing/risk_pricing.py:138: DeprecationWarning: DataFrameGroupBy.apply operated on the grouping columns. This behavior is deprecated, and in a future version of pandas the grouping columns will be excluded from the operation. Either pass `include_groups=False` to exclude the groupings or explicitly select the grouping columns after groupby to silence this warning.\n",
      "/Users/pedrovallocci/Documents/PhD (local)/Research/Github/KnowledgeKRisk_10Ks/src/risk_pricing/risk_pricing.py:156: DeprecationWarning: DataFrameGroupBy.apply operated on the grouping columns. This behavior is deprecated, and in a future version of pandas the grouping columns will be excluded from the operation. Either pass `include_groups=False` to exclude the groupings or explicitly select the grouping columns after groupby to silence this warning.\n",
      "/Users/pedrovallocci/Documents/PhD (local)/Research/Github/KnowledgeKRisk_10Ks/src/risk_pricing/risk_pricing.py:167: DeprecationWarning: DataFrameGroupBy.apply operated on the grouping columns. This behavior is deprecated, and in a future version of pandas the grouping columns will be excluded from the operation. Either pass `include_groups=False` to exclude the groupings or explicitly select the grouping columns after groupby to silence this warning.\n"
     ]
    },
    {
     "name": "stdout",
     "output_type": "stream",
     "text": [
      "Finished processing stoxwe\n",
      "New kernel\n",
      "Finished Fama-MacBeth\n",
      "Running Fama-MacBeth regressions: 3 factors\n"
     ]
    },
    {
     "name": "stderr",
     "output_type": "stream",
     "text": [
      "/Users/pedrovallocci/Documents/PhD (local)/Research/Github/KnowledgeKRisk_10Ks/src/risk_pricing/risk_pricing.py:59: DeprecationWarning: DataFrameGroupBy.apply operated on the grouping columns. This behavior is deprecated, and in a future version of pandas the grouping columns will be excluded from the operation. Either pass `include_groups=False` to exclude the groupings or explicitly select the grouping columns after groupby to silence this warning.\n",
      "/Users/pedrovallocci/Documents/PhD (local)/Research/Github/KnowledgeKRisk_10Ks/src/risk_pricing/risk_pricing.py:85: DeprecationWarning: DataFrameGroupBy.apply operated on the grouping columns. This behavior is deprecated, and in a future version of pandas the grouping columns will be excluded from the operation. Either pass `include_groups=False` to exclude the groupings or explicitly select the grouping columns after groupby to silence this warning.\n",
      "/Users/pedrovallocci/Documents/PhD (local)/Research/Github/KnowledgeKRisk_10Ks/src/risk_pricing/risk_pricing.py:85: DeprecationWarning: DataFrameGroupBy.apply operated on the grouping columns. This behavior is deprecated, and in a future version of pandas the grouping columns will be excluded from the operation. Either pass `include_groups=False` to exclude the groupings or explicitly select the grouping columns after groupby to silence this warning.\n",
      "/Users/pedrovallocci/Documents/PhD (local)/Research/Github/KnowledgeKRisk_10Ks/src/risk_pricing/risk_pricing.py:127: DeprecationWarning: DataFrameGroupBy.apply operated on the grouping columns. This behavior is deprecated, and in a future version of pandas the grouping columns will be excluded from the operation. Either pass `include_groups=False` to exclude the groupings or explicitly select the grouping columns after groupby to silence this warning.\n",
      "/Users/pedrovallocci/Documents/PhD (local)/Research/Github/KnowledgeKRisk_10Ks/src/risk_pricing/risk_pricing.py:156: DeprecationWarning: DataFrameGroupBy.apply operated on the grouping columns. This behavior is deprecated, and in a future version of pandas the grouping columns will be excluded from the operation. Either pass `include_groups=False` to exclude the groupings or explicitly select the grouping columns after groupby to silence this warning.\n",
      "/Users/pedrovallocci/Documents/PhD (local)/Research/Github/KnowledgeKRisk_10Ks/src/risk_pricing/risk_pricing.py:167: DeprecationWarning: DataFrameGroupBy.apply operated on the grouping columns. This behavior is deprecated, and in a future version of pandas the grouping columns will be excluded from the operation. Either pass `include_groups=False` to exclude the groupings or explicitly select the grouping columns after groupby to silence this warning.\n"
     ]
    },
    {
     "name": "stdout",
     "output_type": "stream",
     "text": [
      "Finished processing stoxwe\n",
      "New kernel\n",
      "Finished Fama-MacBeth\n",
      "New kernel\n",
      "Running Fama-MacBeth regressions: 1 factor\n",
      "Executing explore_topic_map...\n",
      "Executing tex_calculate_correlation_matrix...\n",
      "Executing tex_descriptive_statistics...\n",
      "Executing fig_mean_tiy...\n",
      "Executing tex_average_topic_loadings_by_high_tech...\n",
      "Executing tex_sample_topic_loadings...\n",
      "Executing df_skill_correlations...\n",
      "Executing df_patent_correlations...\n",
      "Executing fig_share_dominant_kk_by_ind...\n",
      "Executing fig_heatmap_topicvskkpt...\n"
     ]
    },
    {
     "name": "stderr",
     "output_type": "stream",
     "text": [
      "/Users/pedrovallocci/Documents/PhD (local)/Research/Github/KnowledgeKRisk_10Ks/src/envkkr/lib/python3.9/site-packages/matplotlib_inline/config.py:68: DeprecationWarning: InlineBackend._figure_format_changed is deprecated in traitlets 4.1: use @observe and @unobserve instead.\n"
     ]
    },
    {
     "name": "stdout",
     "output_type": "stream",
     "text": [
      "Executing fig_heatmap_topicvsikpt...\n",
      "Executing fig_histogram_kk...\n",
      "Executing fig_histogram_kk_by_ind12...\n",
      "Finished!\n",
      "Executing explore_fmb...\n",
      "Special case for FamaMacBethResults\n",
      "Special case for FamaMacBethResults\n",
      "Special case for FamaMacBethResults\n",
      "Executing fig_h1b_vs_smb_kkhml...\n",
      "Executing tex_HKR_vs_mktrf...\n",
      "Now using pseudo-monthly returns\n",
      "Finished using pseudo-monthly returns!\n",
      "Executing tex_fmb_results_statistics...\n",
      "Iteration: 0, Objective: 226.26499754151607\n",
      "Iteration: 10, Objective: 147.31678546545817\n",
      "Iteration: 20, Objective: 124.24570582938448\n",
      "Iteration: 30, Objective: 116.9387300585327\n",
      "Iteration: 40, Objective: 110.93938741400821\n",
      "Iteration: 50, Objective: 86.67295952427291\n",
      "Iteration: 60, Objective: 67.94623250562145\n",
      "         Current function value: 66.314713\n",
      "         Iterations: 65\n",
      "         Function evaluations: 6383\n",
      "         Gradient evaluations: 108\n",
      "Iteration: 0, Objective: 82.41798819500436\n",
      "Iteration: 10, Objective: 69.14204961608391\n",
      "Iteration: 20, Objective: 67.77504633321372\n",
      "Iteration: 30, Objective: 67.11399730752576\n",
      "Iteration: 40, Objective: 65.24493779663882\n",
      "Iteration: 50, Objective: 62.470404512500274\n",
      "Iteration: 60, Objective: 59.64988544442983\n",
      "         Current function value: 59.497446\n",
      "         Iterations: 67\n",
      "         Function evaluations: 4720\n",
      "         Gradient evaluations: 80\n",
      "Iteration: 0, Objective: 425.33993131077744\n",
      "Iteration: 10, Objective: 197.60727334252448\n",
      "Iteration: 20, Objective: 111.56027447926242\n",
      "Iteration: 30, Objective: 92.30108856254583\n",
      "Iteration: 40, Objective: 85.50289031373512\n",
      "Iteration: 50, Objective: 80.50712182752322\n",
      "Iteration: 60, Objective: 75.00616853124768\n",
      "Iteration: 70, Objective: 68.50257823680548\n",
      "Iteration: 80, Objective: 61.53458519367523\n",
      "Iteration: 90, Objective: 43.217737660243984\n",
      "Iteration: 100, Objective: 42.04158138535875\n",
      "Iteration: 110, Objective: 40.25914701886483\n",
      "Iteration: 120, Objective: 39.0461869974423\n",
      "         Current function value: 38.877042\n",
      "         Iterations: 128\n",
      "         Function evaluations: 20954\n",
      "         Gradient evaluations: 179\n",
      "Iteration: 0, Objective: 54.51230398651186\n",
      "Iteration: 10, Objective: 44.89571775127503\n",
      "Iteration: 20, Objective: 41.327777269836574\n",
      "Iteration: 30, Objective: 40.65021886641447\n",
      "Iteration: 40, Objective: 40.262244962367106\n",
      "Iteration: 50, Objective: 39.91858686030557\n",
      "Iteration: 60, Objective: 38.923346593901606\n",
      "Iteration: 70, Objective: 36.51830862414078\n",
      "Iteration: 80, Objective: 34.816804183760155\n",
      "Iteration: 90, Objective: 34.556228162304244\n",
      "Iteration: 100, Objective: 34.23116802246662\n",
      "Iteration: 110, Objective: 34.067550766711975\n",
      "Iteration: 120, Objective: 34.033594068046455\n",
      "         Current function value: 34.026597\n",
      "         Iterations: 127\n",
      "         Function evaluations: 22242\n",
      "         Gradient evaluations: 190\n",
      "Executing tex_compare_kk_measures...\n",
      "Executing plot_returns...\n"
     ]
    },
    {
     "name": "stderr",
     "output_type": "stream",
     "text": [
      "/Users/pedrovallocci/Documents/PhD (local)/Research/Github/KnowledgeKRisk_10Ks/src/visualization/visualization.py:805: DeprecationWarning: DataFrameGroupBy.apply operated on the grouping columns. This behavior is deprecated, and in a future version of pandas the grouping columns will be excluded from the operation. Either pass `include_groups=False` to exclude the groupings or explicitly select the grouping columns after groupby to silence this warning.\n",
      "/Users/pedrovallocci/Documents/PhD (local)/Research/Github/KnowledgeKRisk_10Ks/src/visualization/visualization.py:822: DeprecationWarning: DataFrameGroupBy.apply operated on the grouping columns. This behavior is deprecated, and in a future version of pandas the grouping columns will be excluded from the operation. Either pass `include_groups=False` to exclude the groupings or explicitly select the grouping columns after groupby to silence this warning.\n"
     ]
    },
    {
     "name": "stdout",
     "output_type": "stream",
     "text": [
      "Executing preprocess_stoxda...\n",
      "Executing plot_moment...\n",
      "Executing plot_moment...\n"
     ]
    },
    {
     "name": "stderr",
     "output_type": "stream",
     "text": [
      "/Users/pedrovallocci/Documents/PhD (local)/Research/Github/KnowledgeKRisk_10Ks/src/visualization/visualization.py:739: DeprecationWarning: DataFrameGroupBy.apply operated on the grouping columns. This behavior is deprecated, and in a future version of pandas the grouping columns will be excluded from the operation. Either pass `include_groups=False` to exclude the groupings or explicitly select the grouping columns after groupby to silence this warning.\n"
     ]
    },
    {
     "name": "stdout",
     "output_type": "stream",
     "text": [
      "Executing plot_moment...\n",
      "Executing explore_betas...\n",
      "Running model embeddings_km10_ipcs with 10 quantiles and pfkki3me3mb portfolio\n",
      "Executing label_topic_map...\n",
      "Running Fama-MacBeth regressions: 5 factors\n"
     ]
    },
    {
     "name": "stderr",
     "output_type": "stream",
     "text": [
      "/Users/pedrovallocci/Documents/PhD (local)/Research/Github/KnowledgeKRisk_10Ks/src/risk_pricing/risk_pricing.py:59: DeprecationWarning: DataFrameGroupBy.apply operated on the grouping columns. This behavior is deprecated, and in a future version of pandas the grouping columns will be excluded from the operation. Either pass `include_groups=False` to exclude the groupings or explicitly select the grouping columns after groupby to silence this warning.\n",
      "/Users/pedrovallocci/Documents/PhD (local)/Research/Github/KnowledgeKRisk_10Ks/src/risk_pricing/risk_pricing.py:85: DeprecationWarning: DataFrameGroupBy.apply operated on the grouping columns. This behavior is deprecated, and in a future version of pandas the grouping columns will be excluded from the operation. Either pass `include_groups=False` to exclude the groupings or explicitly select the grouping columns after groupby to silence this warning.\n",
      "/Users/pedrovallocci/Documents/PhD (local)/Research/Github/KnowledgeKRisk_10Ks/src/risk_pricing/risk_pricing.py:85: DeprecationWarning: DataFrameGroupBy.apply operated on the grouping columns. This behavior is deprecated, and in a future version of pandas the grouping columns will be excluded from the operation. Either pass `include_groups=False` to exclude the groupings or explicitly select the grouping columns after groupby to silence this warning.\n",
      "/Users/pedrovallocci/Documents/PhD (local)/Research/Github/KnowledgeKRisk_10Ks/src/risk_pricing/risk_pricing.py:138: DeprecationWarning: DataFrameGroupBy.apply operated on the grouping columns. This behavior is deprecated, and in a future version of pandas the grouping columns will be excluded from the operation. Either pass `include_groups=False` to exclude the groupings or explicitly select the grouping columns after groupby to silence this warning.\n",
      "/Users/pedrovallocci/Documents/PhD (local)/Research/Github/KnowledgeKRisk_10Ks/src/risk_pricing/risk_pricing.py:156: DeprecationWarning: DataFrameGroupBy.apply operated on the grouping columns. This behavior is deprecated, and in a future version of pandas the grouping columns will be excluded from the operation. Either pass `include_groups=False` to exclude the groupings or explicitly select the grouping columns after groupby to silence this warning.\n",
      "/Users/pedrovallocci/Documents/PhD (local)/Research/Github/KnowledgeKRisk_10Ks/src/risk_pricing/risk_pricing.py:167: DeprecationWarning: DataFrameGroupBy.apply operated on the grouping columns. This behavior is deprecated, and in a future version of pandas the grouping columns will be excluded from the operation. Either pass `include_groups=False` to exclude the groupings or explicitly select the grouping columns after groupby to silence this warning.\n"
     ]
    },
    {
     "name": "stdout",
     "output_type": "stream",
     "text": [
      "Finished processing stoxwe\n",
      "New kernel\n",
      "Finished Fama-MacBeth\n",
      "Running Fama-MacBeth regressions: 3 factors\n"
     ]
    },
    {
     "name": "stderr",
     "output_type": "stream",
     "text": [
      "/Users/pedrovallocci/Documents/PhD (local)/Research/Github/KnowledgeKRisk_10Ks/src/risk_pricing/risk_pricing.py:59: DeprecationWarning: DataFrameGroupBy.apply operated on the grouping columns. This behavior is deprecated, and in a future version of pandas the grouping columns will be excluded from the operation. Either pass `include_groups=False` to exclude the groupings or explicitly select the grouping columns after groupby to silence this warning.\n",
      "/Users/pedrovallocci/Documents/PhD (local)/Research/Github/KnowledgeKRisk_10Ks/src/risk_pricing/risk_pricing.py:85: DeprecationWarning: DataFrameGroupBy.apply operated on the grouping columns. This behavior is deprecated, and in a future version of pandas the grouping columns will be excluded from the operation. Either pass `include_groups=False` to exclude the groupings or explicitly select the grouping columns after groupby to silence this warning.\n",
      "/Users/pedrovallocci/Documents/PhD (local)/Research/Github/KnowledgeKRisk_10Ks/src/risk_pricing/risk_pricing.py:85: DeprecationWarning: DataFrameGroupBy.apply operated on the grouping columns. This behavior is deprecated, and in a future version of pandas the grouping columns will be excluded from the operation. Either pass `include_groups=False` to exclude the groupings or explicitly select the grouping columns after groupby to silence this warning.\n",
      "/Users/pedrovallocci/Documents/PhD (local)/Research/Github/KnowledgeKRisk_10Ks/src/risk_pricing/risk_pricing.py:127: DeprecationWarning: DataFrameGroupBy.apply operated on the grouping columns. This behavior is deprecated, and in a future version of pandas the grouping columns will be excluded from the operation. Either pass `include_groups=False` to exclude the groupings or explicitly select the grouping columns after groupby to silence this warning.\n",
      "/Users/pedrovallocci/Documents/PhD (local)/Research/Github/KnowledgeKRisk_10Ks/src/risk_pricing/risk_pricing.py:156: DeprecationWarning: DataFrameGroupBy.apply operated on the grouping columns. This behavior is deprecated, and in a future version of pandas the grouping columns will be excluded from the operation. Either pass `include_groups=False` to exclude the groupings or explicitly select the grouping columns after groupby to silence this warning.\n",
      "/Users/pedrovallocci/Documents/PhD (local)/Research/Github/KnowledgeKRisk_10Ks/src/risk_pricing/risk_pricing.py:167: DeprecationWarning: DataFrameGroupBy.apply operated on the grouping columns. This behavior is deprecated, and in a future version of pandas the grouping columns will be excluded from the operation. Either pass `include_groups=False` to exclude the groupings or explicitly select the grouping columns after groupby to silence this warning.\n"
     ]
    },
    {
     "name": "stdout",
     "output_type": "stream",
     "text": [
      "Finished processing stoxwe\n",
      "New kernel\n",
      "Finished Fama-MacBeth\n",
      "New kernel\n",
      "Running Fama-MacBeth regressions: 1 factor\n",
      "Executing explore_topic_map...\n",
      "Executing tex_calculate_correlation_matrix...\n",
      "Executing tex_descriptive_statistics...\n",
      "Executing fig_mean_tiy...\n",
      "Executing tex_average_topic_loadings_by_high_tech...\n",
      "Executing tex_sample_topic_loadings...\n",
      "Executing df_skill_correlations...\n",
      "Executing df_patent_correlations...\n",
      "Executing fig_share_dominant_kk_by_ind...\n",
      "Executing fig_heatmap_topicvskkpt...\n",
      "Executing fig_heatmap_topicvsikpt...\n",
      "Executing fig_histogram_kk...\n",
      "Executing fig_histogram_kk_by_ind12...\n",
      "Finished!\n",
      "Executing explore_fmb...\n",
      "Special case for FamaMacBethResults\n",
      "Special case for FamaMacBethResults\n",
      "Special case for FamaMacBethResults\n",
      "Executing fig_h1b_vs_smb_kkhml...\n",
      "Executing tex_HKR_vs_mktrf...\n",
      "Now using pseudo-monthly returns\n",
      "Finished using pseudo-monthly returns!\n",
      "Executing tex_fmb_results_statistics...\n",
      "Iteration: 0, Objective: 1902563395530333.2\n",
      "         Current function value: -1538400471760348381184.000000\n",
      "         Iterations: 5\n",
      "         Function evaluations: 11482\n",
      "         Gradient evaluations: 62\n",
      "Iteration: 0, Objective: -6.403544054900925e+21\n",
      "         Current function value: -3292682421451101133748405576220066472027950647713977946577527370616108116531478528.000000\n",
      "         Iterations: 6\n",
      "         Function evaluations: 68277\n",
      "         Gradient evaluations: 369\n"
     ]
    },
    {
     "ename": "LinAlgError",
     "evalue": "Singular matrix",
     "output_type": "error",
     "traceback": [
      "\u001b[0;31m---------------------------------------------------------------------------\u001b[0m",
      "\u001b[0;31mLinAlgError\u001b[0m                               Traceback (most recent call last)",
      "Cell \u001b[0;32mIn[3], line 30\u001b[0m\n\u001b[1;32m     28\u001b[0m viz\u001b[38;5;241m.\u001b[39mexplore_topic_map(topic_map, figfolder)\n\u001b[1;32m     29\u001b[0m viz\u001b[38;5;241m.\u001b[39mexplore_fmb([fmb_1, fmb_3, fmb_5], figfolder)\n\u001b[0;32m---> 30\u001b[0m \u001b[43mviz\u001b[49m\u001b[38;5;241;43m.\u001b[39;49m\u001b[43mexplore_eret_we\u001b[49m\u001b[43m(\u001b[49m\u001b[43meret_we5\u001b[49m\u001b[43m,\u001b[49m\u001b[43m \u001b[49m\u001b[43meret_we_pct5\u001b[49m\u001b[43m,\u001b[49m\u001b[43m \u001b[49m\u001b[43mfigfolder\u001b[49m\u001b[43m)\u001b[49m\n\u001b[1;32m     31\u001b[0m viz\u001b[38;5;241m.\u001b[39mtex_compare_kk_measures(comparison_measures, figfolder)\n\u001b[1;32m     32\u001b[0m viz\u001b[38;5;241m.\u001b[39mplot_returns(stoxwe_add, figfolder)\n",
      "File \u001b[0;32m~/Documents/PhD (local)/Research/Github/KnowledgeKRisk_10Ks/src/visualization/visualization.py:187\u001b[0m, in \u001b[0;36mexplore_eret_we\u001b[0;34m(eret_we5, eret_we_pct5, figfolder, log_returns)\u001b[0m\n\u001b[1;32m    185\u001b[0m tex_HKR_vs_mktrf(eret_qwe_agg, figfolder)\n\u001b[1;32m    186\u001b[0m tex_fmb_results_statistics(eret_we_agg, figfolder)\n\u001b[0;32m--> 187\u001b[0m \u001b[43mtex_gmm_results\u001b[49m\u001b[43m(\u001b[49m\u001b[43meret_we_pct5\u001b[49m\u001b[43m,\u001b[49m\u001b[43m \u001b[49m\u001b[38;5;28;43;01mNone\u001b[39;49;00m\u001b[43m,\u001b[49m\u001b[43m \u001b[49m\u001b[43mfigfolder\u001b[49m\u001b[43m)\u001b[49m\n\u001b[1;32m    188\u001b[0m \u001b[38;5;28;01mreturn\u001b[39;00m \u001b[38;5;28;01mNone\u001b[39;00m\n",
      "File \u001b[0;32m~/Documents/PhD (local)/Research/Github/KnowledgeKRisk_10Ks/src/visualization/visualization.py:191\u001b[0m, in \u001b[0;36mtex_gmm_results\u001b[0;34m(eret_we3, eret_we5, figfolder, case)\u001b[0m\n\u001b[1;32m    190\u001b[0m \u001b[38;5;28;01mdef\u001b[39;00m \u001b[38;5;21mtex_gmm_results\u001b[39m(eret_we3, eret_we5, figfolder, case \u001b[38;5;241m=\u001b[39m \u001b[38;5;241m3\u001b[39m):\n\u001b[0;32m--> 191\u001b[0m     summary1 \u001b[38;5;241m=\u001b[39m \u001b[43mrp\u001b[49m\u001b[38;5;241;43m.\u001b[39;49m\u001b[43mgmm\u001b[49m\u001b[43m(\u001b[49m\u001b[43meret_we3\u001b[49m\u001b[43m,\u001b[49m\u001b[43m \u001b[49m\u001b[43mfactors\u001b[49m\u001b[43m \u001b[49m\u001b[38;5;241;43m=\u001b[39;49m\u001b[43m \u001b[49m\u001b[43m[\u001b[49m\u001b[38;5;124;43m'\u001b[39;49m\u001b[38;5;124;43mMkt.RF\u001b[39;49m\u001b[38;5;124;43m'\u001b[39;49m\u001b[43m,\u001b[49m\u001b[43m \u001b[49m\u001b[38;5;124;43m'\u001b[39;49m\u001b[38;5;124;43mHKR\u001b[39;49m\u001b[38;5;124;43m'\u001b[39;49m\u001b[43m]\u001b[49m\u001b[43m,\u001b[49m\u001b[43m \u001b[49m\u001b[43mformula\u001b[49m\u001b[43m \u001b[49m\u001b[38;5;241;43m=\u001b[39;49m\u001b[43m \u001b[49m\u001b[38;5;124;43m\"\u001b[39;49m\u001b[38;5;124;43mHKR + Mkt.RF\u001b[39;49m\u001b[38;5;124;43m\"\u001b[39;49m\u001b[43m)\u001b[49m\n\u001b[1;32m    192\u001b[0m     summary3 \u001b[38;5;241m=\u001b[39m rp\u001b[38;5;241m.\u001b[39mgmm(eret_we3, factors \u001b[38;5;241m=\u001b[39m [\u001b[38;5;124m'\u001b[39m\u001b[38;5;124mMkt.RF\u001b[39m\u001b[38;5;124m'\u001b[39m, \u001b[38;5;124m'\u001b[39m\u001b[38;5;124mSMB\u001b[39m\u001b[38;5;124m'\u001b[39m, \u001b[38;5;124m'\u001b[39m\u001b[38;5;124mHML\u001b[39m\u001b[38;5;124m'\u001b[39m, \u001b[38;5;124m'\u001b[39m\u001b[38;5;124mHKR\u001b[39m\u001b[38;5;124m'\u001b[39m], formula \u001b[38;5;241m=\u001b[39m \u001b[38;5;124m\"\u001b[39m\u001b[38;5;124mHKR + Mkt.RF + SMB + HML\u001b[39m\u001b[38;5;124m\"\u001b[39m)\n\u001b[1;32m    193\u001b[0m     \u001b[38;5;28;01mif\u001b[39;00m case \u001b[38;5;241m==\u001b[39m \u001b[38;5;241m5\u001b[39m:\n",
      "File \u001b[0;32m~/Documents/PhD (local)/Research/Github/KnowledgeKRisk_10Ks/src/risk_pricing/risk_pricing.py:446\u001b[0m, in \u001b[0;36mgmm\u001b[0;34m(eret_we, factors, formula, quadriweekly)\u001b[0m\n\u001b[1;32m    443\u001b[0m     pseudo_monthly \u001b[38;5;241m=\u001b[39m data\n\u001b[1;32m    445\u001b[0m mod \u001b[38;5;241m=\u001b[39m LinearFactorModelGMM\u001b[38;5;241m.\u001b[39mfrom_formula(formula, pseudo_monthly, portfolios\u001b[38;5;241m=\u001b[39mpseudo_monthly[portfolios])\n\u001b[0;32m--> 446\u001b[0m results \u001b[38;5;241m=\u001b[39m \u001b[43mmod\u001b[49m\u001b[38;5;241;43m.\u001b[39;49m\u001b[43mfit\u001b[49m\u001b[43m(\u001b[49m\u001b[43m)\u001b[49m\n\u001b[1;32m    447\u001b[0m \u001b[38;5;28;01mreturn\u001b[39;00m results\n",
      "File \u001b[0;32m~/Documents/PhD (local)/Research/Github/KnowledgeKRisk_10Ks/src/envkkr/lib/python3.9/site-packages/linearmodels/asset_pricing/model.py:1051\u001b[0m, in \u001b[0;36mLinearFactorModelGMM.fit\u001b[0;34m(self, center, use_cue, steps, disp, max_iter, cov_type, debiased, starting, opt_options, **cov_config)\u001b[0m\n\u001b[1;32m   1040\u001b[0m \u001b[38;5;28;01melse\u001b[39;00m:\n\u001b[1;32m   1041\u001b[0m     cov_est_inst \u001b[38;5;241m=\u001b[39m KernelCovariance(\n\u001b[1;32m   1042\u001b[0m         g,\n\u001b[1;32m   1043\u001b[0m         jacobian\u001b[38;5;241m=\u001b[39mjac,\n\u001b[0;32m   (...)\u001b[0m\n\u001b[1;32m   1048\u001b[0m         bandwidth\u001b[38;5;241m=\u001b[39mbandwidth,\n\u001b[1;32m   1049\u001b[0m     )\n\u001b[0;32m-> 1051\u001b[0m full_vcv \u001b[38;5;241m=\u001b[39m \u001b[43mcov_est_inst\u001b[49m\u001b[38;5;241;43m.\u001b[39;49m\u001b[43mcov\u001b[49m\n\u001b[1;32m   1052\u001b[0m sel \u001b[38;5;241m=\u001b[39m \u001b[38;5;28mslice\u001b[39m((n \u001b[38;5;241m*\u001b[39m k), (n \u001b[38;5;241m*\u001b[39m k \u001b[38;5;241m+\u001b[39m k \u001b[38;5;241m+\u001b[39m nrf))\n\u001b[1;32m   1053\u001b[0m rp \u001b[38;5;241m=\u001b[39m params[sel]\n",
      "File \u001b[0;32m~/Documents/PhD (local)/Research/Github/KnowledgeKRisk_10Ks/src/envkkr/lib/python3.9/site-packages/linearmodels/asset_pricing/covariance.py:191\u001b[0m, in \u001b[0;36mHeteroskedasticCovariance.cov\u001b[0;34m(self)\u001b[0m\n\u001b[1;32m    189\u001b[0m \u001b[38;5;28;01melse\u001b[39;00m:\n\u001b[1;32m    190\u001b[0m     j \u001b[38;5;241m=\u001b[39m \u001b[38;5;28mself\u001b[39m\u001b[38;5;241m.\u001b[39mjacobian\n\u001b[0;32m--> 191\u001b[0m     out \u001b[38;5;241m=\u001b[39m inv(j\u001b[38;5;241m.\u001b[39mT \u001b[38;5;241m@\u001b[39m \u001b[43minv\u001b[49m\u001b[43m(\u001b[49m\u001b[43ms\u001b[49m\u001b[43m)\u001b[49m \u001b[38;5;241m@\u001b[39m j)\n\u001b[1;32m    192\u001b[0m out \u001b[38;5;241m=\u001b[39m (scale \u001b[38;5;241m/\u001b[39m \u001b[38;5;241m2\u001b[39m) \u001b[38;5;241m*\u001b[39m (out \u001b[38;5;241m+\u001b[39m out\u001b[38;5;241m.\u001b[39mT)\n\u001b[1;32m    193\u001b[0m \u001b[38;5;28;01mreturn\u001b[39;00m out\n",
      "File \u001b[0;32m~/Documents/PhD (local)/Research/Github/KnowledgeKRisk_10Ks/src/envkkr/lib/python3.9/site-packages/numpy/linalg/linalg.py:561\u001b[0m, in \u001b[0;36minv\u001b[0;34m(a)\u001b[0m\n\u001b[1;32m    559\u001b[0m signature \u001b[38;5;241m=\u001b[39m \u001b[38;5;124m'\u001b[39m\u001b[38;5;124mD->D\u001b[39m\u001b[38;5;124m'\u001b[39m \u001b[38;5;28;01mif\u001b[39;00m isComplexType(t) \u001b[38;5;28;01melse\u001b[39;00m \u001b[38;5;124m'\u001b[39m\u001b[38;5;124md->d\u001b[39m\u001b[38;5;124m'\u001b[39m\n\u001b[1;32m    560\u001b[0m extobj \u001b[38;5;241m=\u001b[39m get_linalg_error_extobj(_raise_linalgerror_singular)\n\u001b[0;32m--> 561\u001b[0m ainv \u001b[38;5;241m=\u001b[39m \u001b[43m_umath_linalg\u001b[49m\u001b[38;5;241;43m.\u001b[39;49m\u001b[43minv\u001b[49m\u001b[43m(\u001b[49m\u001b[43ma\u001b[49m\u001b[43m,\u001b[49m\u001b[43m \u001b[49m\u001b[43msignature\u001b[49m\u001b[38;5;241;43m=\u001b[39;49m\u001b[43msignature\u001b[49m\u001b[43m,\u001b[49m\u001b[43m \u001b[49m\u001b[43mextobj\u001b[49m\u001b[38;5;241;43m=\u001b[39;49m\u001b[43mextobj\u001b[49m\u001b[43m)\u001b[49m\n\u001b[1;32m    562\u001b[0m \u001b[38;5;28;01mreturn\u001b[39;00m wrap(ainv\u001b[38;5;241m.\u001b[39mastype(result_t, copy\u001b[38;5;241m=\u001b[39m\u001b[38;5;28;01mFalse\u001b[39;00m))\n",
      "File \u001b[0;32m~/Documents/PhD (local)/Research/Github/KnowledgeKRisk_10Ks/src/envkkr/lib/python3.9/site-packages/numpy/linalg/linalg.py:112\u001b[0m, in \u001b[0;36m_raise_linalgerror_singular\u001b[0;34m(err, flag)\u001b[0m\n\u001b[1;32m    111\u001b[0m \u001b[38;5;28;01mdef\u001b[39;00m \u001b[38;5;21m_raise_linalgerror_singular\u001b[39m(err, flag):\n\u001b[0;32m--> 112\u001b[0m     \u001b[38;5;28;01mraise\u001b[39;00m LinAlgError(\u001b[38;5;124m\"\u001b[39m\u001b[38;5;124mSingular matrix\u001b[39m\u001b[38;5;124m\"\u001b[39m)\n",
      "\u001b[0;31mLinAlgError\u001b[0m: Singular matrix"
     ]
    },
    {
     "data": {
      "text/plain": [
       "<Figure size 640x480 with 0 Axes>"
      ]
     },
     "metadata": {},
     "output_type": "display_data"
    },
    {
     "data": {
      "text/plain": [
       "<Figure size 640x480 with 0 Axes>"
      ]
     },
     "metadata": {},
     "output_type": "display_data"
    },
    {
     "data": {
      "text/plain": [
       "<Figure size 640x480 with 0 Axes>"
      ]
     },
     "metadata": {},
     "output_type": "display_data"
    },
    {
     "data": {
      "text/plain": [
       "<Figure size 640x480 with 0 Axes>"
      ]
     },
     "metadata": {},
     "output_type": "display_data"
    },
    {
     "data": {
      "text/plain": [
       "<Figure size 640x480 with 0 Axes>"
      ]
     },
     "metadata": {},
     "output_type": "display_data"
    }
   ],
   "source": [
    "import risk_pricing as rp\n",
    "import importlib\n",
    "import embedding_tools as et\n",
    "import visualization as viz\n",
    "from embedding_tools import Embeddings\n",
    "from embedding_tools import EmbeddingsHKRModel\n",
    "importlib.reload(rp)\n",
    "importlib.reload(viz)\n",
    "quantiles = 10\n",
    "# embeddings = Embeddings()\n",
    "# EmbeddingsHKRModel().from_topic_similarity(embeddings, \"emb_kt\", \"key talent\", to_csv = True)\n",
    "# cases_list = [(\"embeddings_km10_ipcs\", \"pfkki3me3mb\", 3)]\n",
    "cases_list = [(\"embeddings_km10_ipcs\", \"pfkki3me3mb\", 3),\n",
    "              (\"embeddings_km10_ipcs\", \"pfkki3me3mb\", 10),\n",
    "              (\"dicfullmc10thr10defnob40noa0_8_hdp\", \"pfkk2me3mb\", 5),\n",
    "              (\"dicfullmc10thr10defnob40noa0_8_4t\", \"pfkk2me3mb\", 5),\n",
    "              (\"embeddings_km10_ipcs\", \"pfkk2me3mb\", 3),\n",
    "              (\"embeddings_km10_ipcs\", \"pfkk2me3mb\", 10), \n",
    "              (\"emb_patents\", \"pfkki3me3mb\", 3)\n",
    "             ]\n",
    "\n",
    "for modelname, pfname, quantiles in cases_list:\n",
    "    figfolder, add_innerkk_pf, cuts = viz.setup(quantiles, modelname, pfname)\n",
    "    amazon_nov01_short, cequity_mapper, ff3fw, ff5fw, ff3fm, ff5fm, topic_map_unlabeled, comparison_measures, stoxmo_orig, stoxda_orig, stoxwe_orig = \\\n",
    "        dl.load_dataframes(modelname, start_time, clean_again = False)\n",
    "    topic_map = viz.label_topic_map(topic_map_unlabeled, modelname, cuts = cuts)\n",
    "    fmb_5, fmb_3, fmb_1, df_betas5, _, df_betas1, eret_we5, _, stoxwe_add, eret_we_pct5, eret_we_pct3 = rp.famaMacBethMultiCase(pfname, add_innerkk_pf, cuts, cequity_mapper, ff3fw, ff5fw, stoxwe_orig, topic_map, log_returns = False)\n",
    "    viz.explore_topic_map(topic_map, figfolder)\n",
    "    viz.explore_fmb([fmb_1, fmb_3, fmb_5], figfolder)\n",
    "    viz.explore_eret_we(eret_we5, eret_we_pct5, figfolder)\n",
    "    viz.tex_compare_kk_measures(comparison_measures, figfolder)\n",
    "    viz.plot_returns(stoxwe_add, figfolder)\n",
    "    # # viz.amazon_graph(amazon_nov01_short, figfolder)\n",
    "    # # viz.filecounter(figfolder)\n",
    "    viz.explore_stoxda(stoxda_orig, cequity_mapper, topic_map, figfolder)\n",
    "    viz.explore_betas(df_betas5, quantiles, figfolder)"
   ]
  },
  {
   "cell_type": "code",
   "execution_count": null,
   "metadata": {},
   "outputs": [
    {
     "name": "stdout",
     "output_type": "stream",
     "text": [
      "Executing fig_h1b_vs_smb_kkhml...\n",
      "Executing tex_HKR_vs_mktrf...\n",
      "Now using pseudo-monthly returns\n",
      "Finished using pseudo-monthly returns!\n",
      "Executing tex_fmb_results_statistics...\n",
      "Iteration: 0, Objective: 253.86368947417273\n",
      "Iteration: 10, Objective: 100.40313599506032\n",
      "Iteration: 20, Objective: 88.58850933868358\n",
      "Iteration: 30, Objective: 83.69958530953906\n",
      "Iteration: 40, Objective: 79.34870189978307\n",
      "Iteration: 50, Objective: 74.6849017167029\n",
      "Iteration: 60, Objective: 64.97023304028227\n",
      "         Current function value: 64.537077\n",
      "         Iterations: 69\n",
      "         Function evaluations: 6974\n",
      "         Gradient evaluations: 118\n",
      "Iteration: 0, Objective: 64.67623883353177\n",
      "Iteration: 10, Objective: 60.598034204437816\n",
      "Iteration: 20, Objective: 59.998711898764334\n",
      "Iteration: 30, Objective: 59.584872780982096\n",
      "Iteration: 40, Objective: 59.38008098173363\n",
      "Iteration: 50, Objective: 59.19037213129217\n",
      "Iteration: 60, Objective: 58.67256759953228\n",
      "         Current function value: 58.672562\n",
      "         Iterations: 67\n",
      "         Function evaluations: 5793\n",
      "         Gradient evaluations: 98\n",
      "Iteration: 0, Objective: 306.75917776457715\n",
      "Iteration: 10, Objective: 107.9492346070022\n",
      "Iteration: 20, Objective: 82.36394225963605\n",
      "Iteration: 30, Objective: 75.03267774598855\n",
      "Iteration: 40, Objective: 70.96368566083525\n",
      "Iteration: 50, Objective: 68.90586953225915\n",
      "Iteration: 60, Objective: 64.79276564999098\n",
      "Iteration: 70, Objective: 51.78549771069221\n",
      "Iteration: 80, Objective: 44.036122771484514\n",
      "Iteration: 90, Objective: 41.23648250433039\n",
      "Iteration: 100, Objective: 40.09109496273028\n",
      "Iteration: 110, Objective: 38.57716777792438\n",
      "Iteration: 120, Objective: 38.28462804685706\n",
      "         Current function value: 38.284615\n",
      "         Iterations: 125\n",
      "         Function evaluations: 18849\n",
      "         Gradient evaluations: 161\n",
      "Iteration: 0, Objective: 42.9683553328501\n",
      "Iteration: 10, Objective: 36.01226977587733\n",
      "Iteration: 20, Objective: 35.49398767009785\n",
      "Iteration: 30, Objective: 35.22668390831046\n",
      "Iteration: 40, Objective: 35.12325831035154\n",
      "Iteration: 50, Objective: 35.020990334668284\n",
      "Iteration: 60, Objective: 34.912760989521786\n",
      "Iteration: 70, Objective: 34.755260597646675\n",
      "Iteration: 80, Objective: 34.547859637973964\n",
      "Iteration: 90, Objective: 34.40931304072936\n",
      "Iteration: 100, Objective: 34.358553486080226\n",
      "Iteration: 110, Objective: 34.33259095450502\n",
      "Iteration: 120, Objective: 34.3208223646372\n",
      "         Current function value: 34.320266\n",
      "         Iterations: 129\n",
      "         Function evaluations: 30912\n",
      "         Gradient evaluations: 264\n"
     ]
    },
    {
     "data": {
      "text/plain": [
       "<Figure size 640x480 with 0 Axes>"
      ]
     },
     "metadata": {},
     "output_type": "display_data"
    }
   ],
   "source": [
    "viz.explore_eret_we(eret_we5, figfolder)"
   ]
  }
 ],
 "metadata": {
  "kernelspec": {
   "display_name": "Python (envkkr)",
   "language": "python",
   "name": "envkkr"
  },
  "language_info": {
   "codemirror_mode": {
    "name": "ipython",
    "version": 3
   },
   "file_extension": ".py",
   "mimetype": "text/x-python",
   "name": "python",
   "nbconvert_exporter": "python",
   "pygments_lexer": "ipython3",
   "version": "3.9.13"
  }
 },
 "nbformat": 4,
 "nbformat_minor": 2
}
