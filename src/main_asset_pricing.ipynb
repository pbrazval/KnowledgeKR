{
 "cells": [
  {
   "cell_type": "code",
   "execution_count": 1,
   "metadata": {},
   "outputs": [
    {
     "name": "stdout",
     "output_type": "stream",
     "text": [
      "Current Working Directory: /Users/pedrovallocci/Documents/PhD (local)/Research/Github/KnowledgeKRisk_10Ks/src\n",
      "New Working Directory: /Users/pedrovallocci/Documents/PhD (local)/Research/Github/KnowledgeKRisk_10Ks/src\n"
     ]
    }
   ],
   "source": [
    "# Require Pandas version >= 2.2.2\n",
    "import pandas as pd\n",
    "assert pd.__version__ >= '2.2.2', 'Please update Pandas to version 2.2.2 or newer'\n",
    "import pandas as pd, os, pyreadr\n",
    "import warnings\n",
    "import time\n",
    "import numpy as  np\n",
    "import pandas as pd\n",
    "import pandas as pd\n",
    "import visualization as viz\n",
    "import data_loading as dl\n",
    "import risk_pricing as rp\n",
    "import statsmodels.api as sm\n",
    "import statsmodels.formula.api as smf\n",
    "import importlib\n",
    "importlib.reload(rp)\n",
    "importlib.reload(viz)\n",
    "importlib.reload(dl)\n",
    "warnings.filterwarnings(\"ignore\")\n",
    "source_folder_path = \"/Users/pedrovallocci/Documents/PhD (local)/Research/Github/KnowledgeKRisk_10Ks/src/\"\n",
    "modelname = \"embeddings_km10_ipcs\" # \"dicfullmc10thr10defnob40noa0_8_hdp\" # Don't forget to clean again when modelname changes\n",
    "start_time = time.time()\n",
    "# print the current working directory (for reference)\n",
    "print(\"Current Working Directory:\", os.getcwd())\n",
    "os.chdir(source_folder_path)\n",
    "print(\"New Working Directory:\", os.getcwd())"
   ]
  },
  {
   "cell_type": "code",
   "execution_count": 2,
   "metadata": {},
   "outputs": [],
   "source": [
    "# # Creating additional models\n",
    "\n",
    "# embeddings = Embeddings()\n",
    "# EmbeddingsHKRModel().from_topic_similarity(embeddings, \"emb_knocap\", \"knowledge capital\", to_csv = True)\n",
    "# EmbeddingsHKRModel().from_topic_similarity(embeddings, \"emb_patents\", \"patents\", to_csv = True)\n",
    "# EmbeddingsHKRModel().from_topic_similarity(embeddings, \"emb_intcap\", \"intangible capital\", to_csv = True)"
   ]
  },
  {
   "cell_type": "code",
   "execution_count": 3,
   "metadata": {},
   "outputs": [],
   "source": [
    "# Loading the data from load_dataframes:\n"
   ]
  },
  {
   "cell_type": "code",
   "execution_count": 9,
   "metadata": {},
   "outputs": [
    {
     "name": "stdout",
     "output_type": "stream",
     "text": [
      "Tempo de execução: 1707.2778959274292\n"
     ]
    },
    {
     "name": "stderr",
     "output_type": "stream",
     "text": [
      "/Users/pedrovallocci/Documents/PhD (local)/Research/Github/KnowledgeKRisk_10Ks/src/data_loading/data_loading.py:20: DeprecationWarning: DataFrameGroupBy.apply operated on the grouping columns. This behavior is deprecated, and in a future version of pandas the grouping columns will be excluded from the operation. Either pass `include_groups=False` to exclude the groupings or explicitly select the grouping columns after groupby to silence this warning.\n"
     ]
    },
    {
     "name": "stdout",
     "output_type": "stream",
     "text": [
      "Tempo de execução: 1710.2341809272766\n",
      "Tempo de execução: 1710.277302980423\n",
      "Tempo de execução: 1710.3115718364716\n",
      "Tempo de execução: 1710.7450568675995\n",
      "Tempo de execução: 1734.0096907615662\n"
     ]
    },
    {
     "name": "stderr",
     "output_type": "stream",
     "text": [
      "/Users/pedrovallocci/Documents/PhD (local)/Research/Github/KnowledgeKRisk_10Ks/src/risk_pricing/risk_pricing.py:398: DeprecationWarning: DataFrameGroupBy.apply operated on the grouping columns. This behavior is deprecated, and in a future version of pandas the grouping columns will be excluded from the operation. Either pass `include_groups=False` to exclude the groupings or explicitly select the grouping columns after groupby to silence this warning.\n",
      "/Users/pedrovallocci/Documents/PhD (local)/Research/Github/KnowledgeKRisk_10Ks/src/risk_pricing/risk_pricing.py:445: DeprecationWarning: DataFrameGroupBy.apply operated on the grouping columns. This behavior is deprecated, and in a future version of pandas the grouping columns will be excluded from the operation. Either pass `include_groups=False` to exclude the groupings or explicitly select the grouping columns after groupby to silence this warning.\n",
      "/Users/pedrovallocci/Documents/PhD (local)/Research/Github/KnowledgeKRisk_10Ks/src/risk_pricing/risk_pricing.py:477: DeprecationWarning: DataFrameGroupBy.apply operated on the grouping columns. This behavior is deprecated, and in a future version of pandas the grouping columns will be excluded from the operation. Either pass `include_groups=False` to exclude the groupings or explicitly select the grouping columns after groupby to silence this warning.\n",
      "/Users/pedrovallocci/Documents/PhD (local)/Research/Github/KnowledgeKRisk_10Ks/src/risk_pricing/risk_pricing.py:494: DeprecationWarning: DataFrameGroupBy.apply operated on the grouping columns. This behavior is deprecated, and in a future version of pandas the grouping columns will be excluded from the operation. Either pass `include_groups=False` to exclude the groupings or explicitly select the grouping columns after groupby to silence this warning.\n",
      "/Users/pedrovallocci/Documents/PhD (local)/Research/Github/KnowledgeKRisk_10Ks/src/risk_pricing/risk_pricing.py:505: DeprecationWarning: DataFrameGroupBy.apply operated on the grouping columns. This behavior is deprecated, and in a future version of pandas the grouping columns will be excluded from the operation. Either pass `include_groups=False` to exclude the groupings or explicitly select the grouping columns after groupby to silence this warning.\n",
      "/Users/pedrovallocci/Documents/PhD (local)/Research/Github/KnowledgeKRisk_10Ks/src/risk_pricing/risk_pricing.py:398: DeprecationWarning: DataFrameGroupBy.apply operated on the grouping columns. This behavior is deprecated, and in a future version of pandas the grouping columns will be excluded from the operation. Either pass `include_groups=False` to exclude the groupings or explicitly select the grouping columns after groupby to silence this warning.\n",
      "/Users/pedrovallocci/Documents/PhD (local)/Research/Github/KnowledgeKRisk_10Ks/src/risk_pricing/risk_pricing.py:445: DeprecationWarning: DataFrameGroupBy.apply operated on the grouping columns. This behavior is deprecated, and in a future version of pandas the grouping columns will be excluded from the operation. Either pass `include_groups=False` to exclude the groupings or explicitly select the grouping columns after groupby to silence this warning.\n",
      "/Users/pedrovallocci/Documents/PhD (local)/Research/Github/KnowledgeKRisk_10Ks/src/risk_pricing/risk_pricing.py:466: DeprecationWarning: DataFrameGroupBy.apply operated on the grouping columns. This behavior is deprecated, and in a future version of pandas the grouping columns will be excluded from the operation. Either pass `include_groups=False` to exclude the groupings or explicitly select the grouping columns after groupby to silence this warning.\n",
      "/Users/pedrovallocci/Documents/PhD (local)/Research/Github/KnowledgeKRisk_10Ks/src/risk_pricing/risk_pricing.py:494: DeprecationWarning: DataFrameGroupBy.apply operated on the grouping columns. This behavior is deprecated, and in a future version of pandas the grouping columns will be excluded from the operation. Either pass `include_groups=False` to exclude the groupings or explicitly select the grouping columns after groupby to silence this warning.\n",
      "/Users/pedrovallocci/Documents/PhD (local)/Research/Github/KnowledgeKRisk_10Ks/src/risk_pricing/risk_pricing.py:505: DeprecationWarning: DataFrameGroupBy.apply operated on the grouping columns. This behavior is deprecated, and in a future version of pandas the grouping columns will be excluded from the operation. Either pass `include_groups=False` to exclude the groupings or explicitly select the grouping columns after groupby to silence this warning.\n",
      "/Users/pedrovallocci/Documents/PhD (local)/Research/Github/KnowledgeKRisk_10Ks/src/risk_pricing/risk_pricing.py:398: DeprecationWarning: DataFrameGroupBy.apply operated on the grouping columns. This behavior is deprecated, and in a future version of pandas the grouping columns will be excluded from the operation. Either pass `include_groups=False` to exclude the groupings or explicitly select the grouping columns after groupby to silence this warning.\n",
      "/Users/pedrovallocci/Documents/PhD (local)/Research/Github/KnowledgeKRisk_10Ks/src/risk_pricing/risk_pricing.py:445: DeprecationWarning: DataFrameGroupBy.apply operated on the grouping columns. This behavior is deprecated, and in a future version of pandas the grouping columns will be excluded from the operation. Either pass `include_groups=False` to exclude the groupings or explicitly select the grouping columns after groupby to silence this warning.\n",
      "/Users/pedrovallocci/Documents/PhD (local)/Research/Github/KnowledgeKRisk_10Ks/src/risk_pricing/risk_pricing.py:466: DeprecationWarning: DataFrameGroupBy.apply operated on the grouping columns. This behavior is deprecated, and in a future version of pandas the grouping columns will be excluded from the operation. Either pass `include_groups=False` to exclude the groupings or explicitly select the grouping columns after groupby to silence this warning.\n",
      "/Users/pedrovallocci/Documents/PhD (local)/Research/Github/KnowledgeKRisk_10Ks/src/risk_pricing/risk_pricing.py:494: DeprecationWarning: DataFrameGroupBy.apply operated on the grouping columns. This behavior is deprecated, and in a future version of pandas the grouping columns will be excluded from the operation. Either pass `include_groups=False` to exclude the groupings or explicitly select the grouping columns after groupby to silence this warning.\n",
      "/Users/pedrovallocci/Documents/PhD (local)/Research/Github/KnowledgeKRisk_10Ks/src/risk_pricing/risk_pricing.py:505: DeprecationWarning: DataFrameGroupBy.apply operated on the grouping columns. This behavior is deprecated, and in a future version of pandas the grouping columns will be excluded from the operation. Either pass `include_groups=False` to exclude the groupings or explicitly select the grouping columns after groupby to silence this warning.\n"
     ]
    },
    {
     "name": "stdout",
     "output_type": "stream",
     "text": [
      "Executing fig_mean_tiy...\n",
      "Executing tex_average_topic_loadings_by_high_tech...\n",
      "Executing tex_sample_topic_loadings...\n",
      "Executing df_skill_correlations...\n",
      "Executing df_patent_correlations...\n",
      "Executing fig_share_dominant_kk_by_ind...\n",
      "Executing fig_heatmap_topicvskkpt...\n",
      "Executing fig_heatmap_topicvsikpt...\n",
      "Executing fig_histogram_kk...\n",
      "Executing fig_histogram_kk_by_ind12...\n",
      "Finished!\n",
      "Executing explore_fmb...\n",
      "Executing tex_summary...\n",
      "Executing fig_h1b_vs_smb_kkhml...\n",
      "Executing tex_HKR_vs_mktrf...\n",
      "Executing tex_summary_statistics...\n",
      "Now with Sharpe ratio\n",
      "Executing tex_compare_kk_measures...\n",
      "Executing plot_returns...\n"
     ]
    },
    {
     "name": "stderr",
     "output_type": "stream",
     "text": [
      "/Users/pedrovallocci/Documents/PhD (local)/Research/Github/KnowledgeKRisk_10Ks/src/visualization/visualization.py:588: DeprecationWarning: DataFrameGroupBy.apply operated on the grouping columns. This behavior is deprecated, and in a future version of pandas the grouping columns will be excluded from the operation. Either pass `include_groups=False` to exclude the groupings or explicitly select the grouping columns after groupby to silence this warning.\n",
      "/Users/pedrovallocci/Documents/PhD (local)/Research/Github/KnowledgeKRisk_10Ks/src/visualization/visualization.py:600: DeprecationWarning: DataFrameGroupBy.apply operated on the grouping columns. This behavior is deprecated, and in a future version of pandas the grouping columns will be excluded from the operation. Either pass `include_groups=False` to exclude the groupings or explicitly select the grouping columns after groupby to silence this warning.\n"
     ]
    },
    {
     "name": "stdout",
     "output_type": "stream",
     "text": [
      "Executing amazon_graph...\n",
      "Executing filecounter...\n",
      "Executing plot_moment...\n",
      "Executing plot_moment...\n"
     ]
    },
    {
     "data": {
      "text/plain": [
       "<Figure size 640x480 with 0 Axes>"
      ]
     },
     "metadata": {},
     "output_type": "display_data"
    },
    {
     "data": {
      "text/plain": [
       "<Figure size 640x480 with 0 Axes>"
      ]
     },
     "metadata": {},
     "output_type": "display_data"
    },
    {
     "data": {
      "text/plain": [
       "<Figure size 640x480 with 0 Axes>"
      ]
     },
     "metadata": {},
     "output_type": "display_data"
    },
    {
     "data": {
      "text/plain": [
       "<Figure size 640x480 with 0 Axes>"
      ]
     },
     "metadata": {},
     "output_type": "display_data"
    },
    {
     "data": {
      "text/plain": [
       "<Figure size 640x480 with 0 Axes>"
      ]
     },
     "metadata": {},
     "output_type": "display_data"
    },
    {
     "data": {
      "text/plain": [
       "<Figure size 640x480 with 0 Axes>"
      ]
     },
     "metadata": {},
     "output_type": "display_data"
    }
   ],
   "source": [
    "import risk_pricing as rp\n",
    "import importlib\n",
    "import embedding_tools as et\n",
    "from embedding_tools import Embeddings\n",
    "from embedding_tools import EmbeddingsHKRModel\n",
    "importlib.reload(rp)\n",
    "importlib.reload(viz)\n",
    "quantiles = 10\n",
    "# embeddings = Embeddings()\n",
    "# EmbeddingsHKRModel().from_topic_similarity(embeddings, \"emb_kt\", \"key talent\", to_csv = True)\n",
    "for modelname in [\"dicfullmc10thr10defnob40noa0_8_4t\"]:\n",
    "    for pfname in ['pfkk2me3mb']:\n",
    "        #for quantiles in [10,5,3]:\n",
    "        amazon_nov01_short, cequity_mapper, ff3fw, ff5fw, ff3fm, ff5fm, topic_map_unlabeled, comparison_measures, stoxmo_orig, stoxda_orig, stoxwe_orig = \\\n",
    "            dl.load_dataframes(modelname, start_time, clean_again = True)\n",
    "        cuts =[0, 0.8, 0.9, 0.95, 1] #np.linspace(0, 1, quantiles+1).tolist()\n",
    "        topic_map = viz.label_topic_map(topic_map_unlabeled, modelname, cuts = cuts)\n",
    "        fmb_5, indexed_df, eret_we, stoxwe_add = rp.famaMacBethFull(stoxwe_orig, cequity_mapper, topic_map, ff5fw, pfname, kki_cuts = cuts, window_size = 52*2, add_innerkk_pf = False)\n",
    "        fmb_3, _, _, _ = rp.famaMacBethFull(stoxwe_orig, cequity_mapper, topic_map, ff3fw, pfname, kki_cuts = cuts, window_size = 52*2, add_innerkk_pf = False)\n",
    "        fmb_1, _, _, _ = rp.famaMacBethFull(stoxwe_orig, cequity_mapper, topic_map, ff3fw, pfname, formula = \"eretw ~ MktRF + HKR\", kki_cuts = cuts, window_size = 52*2, add_innerkk_pf = False)\n",
    "        #import visualization as viz\n",
    "        base_path = \"/Users/pedrovallocci/Documents/PhD (local)/Research/Github/KnowledgeKRisk_10Ks/text/\"\n",
    "        dir_path = os.path.join(base_path, f\"{modelname}_{quantiles}tiles_{pfname}\")\n",
    "        os.makedirs(dir_path, exist_ok=True)\n",
    "        figfolder = os.path.join(dir_path, \"\")\n",
    "        generate_plots = True\n",
    "        ##\n",
    "        viz.explore_topic_map(topic_map, figfolder, generate_plots)\n",
    "        viz.explore_fmb([fmb_1, fmb_3, fmb_5], figfolder)\n",
    "        viz.explore_eret_we(eret_we, figfolder)\n",
    "        viz.tex_compare_kk_measures(comparison_measures, figfolder)\n",
    "        viz.plot_returns(stoxwe_add, figfolder)\n",
    "        viz.amazon_graph(amazon_nov01_short, figfolder)\n",
    "        viz.filecounter(figfolder)\n",
    "        viz.explore_stoxda(stoxda_orig, cequity_mapper, topic_map, figfolder)"
   ]
  },
  {
   "cell_type": "code",
   "execution_count": null,
   "metadata": {},
   "outputs": [
    {
     "data": {
      "text/plain": [
       "Index(['yw', 'PERMNO', 'retw', 'y', 'gvkey', 'cusip8', 'cik_x', 'year_x',\n",
       "       'crit_EXCHG', 'crit_PRC', 'crit_SHRCD', 'crit_ALL', 'max_topic',\n",
       "       'topic_kk', 'year_y', 'CIK', 'CUSIP8', 'LPERMNO', 'sic', 'cik_y',\n",
       "       'gvkey_y', 'conm', 'naics4', 'ind12', 'sic3', 'hi_tech', 'Skill',\n",
       "       'xi_yeartotal', 'xi_cumsum', 'K_int_Know', 'K_int', 'at', 'prcc_f',\n",
       "       'prcc_c', 'ppegt', 'csho', 'ceq', 'cusip', 'exchg', 'xir_cumsum',\n",
       "       'xir_total', 'ntile_kk', 'Mkt-RF', 'SMB', 'HML', 'RMW', 'CMA', 'RF',\n",
       "       'eretw', 'fiscalyear', 'mb', 'me', 'kk_share', 'pfkk3me3mb', 'pf2me3mb',\n",
       "       'pf5me5mb', 'pfkk2me3mb', 'pfkki3me3mb', 'me_group'],\n",
       "      dtype='object')"
      ]
     },
     "execution_count": 7,
     "metadata": {},
     "output_type": "execute_result"
    }
   ],
   "source": [
    "stoxwe_add.columns"
   ]
  },
  {
   "cell_type": "code",
   "execution_count": null,
   "metadata": {},
   "outputs": [
    {
     "data": {
      "text/html": [
       "<div>\n",
       "<style scoped>\n",
       "    .dataframe tbody tr th:only-of-type {\n",
       "        vertical-align: middle;\n",
       "    }\n",
       "\n",
       "    .dataframe tbody tr th {\n",
       "        vertical-align: top;\n",
       "    }\n",
       "\n",
       "    .dataframe thead th {\n",
       "        text-align: right;\n",
       "    }\n",
       "</style>\n",
       "<table border=\"1\" class=\"dataframe\">\n",
       "  <thead>\n",
       "    <tr style=\"text-align: right;\">\n",
       "      <th></th>\n",
       "      <th>yw</th>\n",
       "      <th>HKR_SB</th>\n",
       "    </tr>\n",
       "  </thead>\n",
       "  <tbody>\n",
       "    <tr>\n",
       "      <th>0</th>\n",
       "      <td>2006-07-03</td>\n",
       "      <td>-0.028851</td>\n",
       "    </tr>\n",
       "    <tr>\n",
       "      <th>1</th>\n",
       "      <td>2006-07-10</td>\n",
       "      <td>-0.039941</td>\n",
       "    </tr>\n",
       "    <tr>\n",
       "      <th>2</th>\n",
       "      <td>2006-07-17</td>\n",
       "      <td>-0.015079</td>\n",
       "    </tr>\n",
       "    <tr>\n",
       "      <th>3</th>\n",
       "      <td>2006-07-24</td>\n",
       "      <td>0.025082</td>\n",
       "    </tr>\n",
       "    <tr>\n",
       "      <th>4</th>\n",
       "      <td>2006-07-31</td>\n",
       "      <td>-0.019042</td>\n",
       "    </tr>\n",
       "    <tr>\n",
       "      <th>...</th>\n",
       "      <td>...</td>\n",
       "      <td>...</td>\n",
       "    </tr>\n",
       "    <tr>\n",
       "      <th>750</th>\n",
       "      <td>2020-12-07</td>\n",
       "      <td>0.014406</td>\n",
       "    </tr>\n",
       "    <tr>\n",
       "      <th>751</th>\n",
       "      <td>2020-12-14</td>\n",
       "      <td>-0.001068</td>\n",
       "    </tr>\n",
       "    <tr>\n",
       "      <th>752</th>\n",
       "      <td>2020-12-21</td>\n",
       "      <td>0.017294</td>\n",
       "    </tr>\n",
       "    <tr>\n",
       "      <th>753</th>\n",
       "      <td>2020-12-28</td>\n",
       "      <td>0.006375</td>\n",
       "    </tr>\n",
       "    <tr>\n",
       "      <th>754</th>\n",
       "      <td>2021-01-04</td>\n",
       "      <td>-0.001757</td>\n",
       "    </tr>\n",
       "  </tbody>\n",
       "</table>\n",
       "<p>755 rows × 2 columns</p>\n",
       "</div>"
      ],
      "text/plain": [
       "            yw    HKR_SB\n",
       "0   2006-07-03 -0.028851\n",
       "1   2006-07-10 -0.039941\n",
       "2   2006-07-17 -0.015079\n",
       "3   2006-07-24  0.025082\n",
       "4   2006-07-31 -0.019042\n",
       "..         ...       ...\n",
       "750 2020-12-07  0.014406\n",
       "751 2020-12-14 -0.001068\n",
       "752 2020-12-21  0.017294\n",
       "753 2020-12-28  0.006375\n",
       "754 2021-01-04 -0.001757\n",
       "\n",
       "[755 rows x 2 columns]"
      ]
     },
     "execution_count": 5,
     "metadata": {},
     "output_type": "execute_result"
    }
   ],
   "source": [
    "max_kknt = 7\n",
    "HKR_ret = (stoxwe_add\n",
    "            .loc[:, ['yw', 'ntile_kk', 'me_group', 'topic_kk', 'eretw', 'me']]\n",
    "            .dropna(subset=['topic_kk'])\n",
    "            .groupby(['yw', 'ntile_kk', 'me_group'])\n",
    "            .apply(lambda df: pd.Series({\n",
    "                'eret': (df['eretw'] * df['me']).sum() / df['me'].sum()}))\n",
    "            .reset_index()\n",
    "            .groupby(['yw', 'ntile_kk'])\n",
    "            .agg(eret_mean=('eret', 'mean'))\n",
    "            .reset_index()\n",
    "            .pivot_table(index='yw', columns='ntile_kk', values='eret_mean', aggfunc='mean')\n",
    "            .rename(columns=lambda x: f'kk{x}')\n",
    "            .assign(HKR_SB=lambda df: df[f'kk{max_kknt}'] - df['kk0'])\n",
    "            .reset_index()\n",
    "            .loc[:, ['yw', 'HKR_SB']])\n",
    "HKR_ret.columns.name = None\n",
    "HKR_ret \n",
    "# HKR_ret = (stoxwe_add.dropna(subset=['topic_kk'])\n",
    "#             .groupby(['yw', 'ntile_kk'])\n",
    "            # .apply(lambda df: pd.Series({\n",
    "            #     'eret': (df['eretw'] * df['me']).sum() / df['me'].sum()}))\n",
    "#             .reset_index()"
   ]
  },
  {
   "cell_type": "code",
   "execution_count": 14,
   "metadata": {},
   "outputs": [
    {
     "ename": "NameError",
     "evalue": "name 'statfunc' is not defined",
     "output_type": "error",
     "traceback": [
      "\u001b[0;31m---------------------------------------------------------------------------\u001b[0m",
      "\u001b[0;31mNameError\u001b[0m                                 Traceback (most recent call last)",
      "Cell \u001b[0;32mIn[14], line 14\u001b[0m\n\u001b[1;32m     12\u001b[0m stox \u001b[38;5;241m=\u001b[39m pd\u001b[38;5;241m.\u001b[39mmerge(stox, topic_map, left_on\u001b[38;5;241m=\u001b[39m[\u001b[38;5;124m'\u001b[39m\u001b[38;5;124mPERMNO\u001b[39m\u001b[38;5;124m'\u001b[39m, \u001b[38;5;124m'\u001b[39m\u001b[38;5;124my\u001b[39m\u001b[38;5;124m'\u001b[39m], right_on\u001b[38;5;241m=\u001b[39m[\u001b[38;5;124m'\u001b[39m\u001b[38;5;124mLPERMNO\u001b[39m\u001b[38;5;124m'\u001b[39m, \u001b[38;5;124m'\u001b[39m\u001b[38;5;124myear\u001b[39m\u001b[38;5;124m'\u001b[39m], how\u001b[38;5;241m=\u001b[39m\u001b[38;5;124m'\u001b[39m\u001b[38;5;124mleft\u001b[39m\u001b[38;5;124m'\u001b[39m)\n\u001b[1;32m     13\u001b[0m stox\u001b[38;5;241m.\u001b[39mset_index(\u001b[38;5;124m'\u001b[39m\u001b[38;5;124mdate\u001b[39m\u001b[38;5;124m'\u001b[39m, inplace\u001b[38;5;241m=\u001b[39m\u001b[38;5;28;01mTrue\u001b[39;00m)\n\u001b[0;32m---> 14\u001b[0m moment_df \u001b[38;5;241m=\u001b[39m stox\u001b[38;5;241m.\u001b[39mgroupby([\u001b[38;5;124m'\u001b[39m\u001b[38;5;124mPERMNO\u001b[39m\u001b[38;5;124m'\u001b[39m, hue_var])\u001b[38;5;241m.\u001b[39mresample(frequency)[\u001b[38;5;124m'\u001b[39m\u001b[38;5;124mRET\u001b[39m\u001b[38;5;124m'\u001b[39m]\u001b[38;5;241m.\u001b[39mapply(\u001b[43mstatfunc\u001b[49m)\n\u001b[1;32m     15\u001b[0m stox_by_kk \u001b[38;5;241m=\u001b[39m (moment_df\u001b[38;5;241m.\u001b[39mreset_index()\u001b[38;5;241m.\u001b[39mgroupby([hue_var, \u001b[38;5;124m'\u001b[39m\u001b[38;5;124mdate\u001b[39m\u001b[38;5;124m'\u001b[39m])\n\u001b[1;32m     16\u001b[0m                 \u001b[38;5;241m.\u001b[39magg(avg_kurt\u001b[38;5;241m=\u001b[39m(\u001b[38;5;124m'\u001b[39m\u001b[38;5;124mRET\u001b[39m\u001b[38;5;124m'\u001b[39m, \u001b[38;5;124m'\u001b[39m\u001b[38;5;124mmean\u001b[39m\u001b[38;5;124m'\u001b[39m))\n\u001b[1;32m     17\u001b[0m                 \u001b[38;5;241m.\u001b[39mreset_index())\n\u001b[1;32m     18\u001b[0m moment_df\u001b[38;5;241m=\u001b[39m moment_df\u001b[38;5;241m.\u001b[39mreset_index()\n",
      "\u001b[0;31mNameError\u001b[0m: name 'statfunc' is not defined"
     ]
    }
   ],
   "source": [
    "stoxda = stoxda_orig\n",
    "moment_name = \"kurtosis\"\n",
    "statfunc = pd.Series.kurt\n",
    "hue_var = 'ntile_kk'\n",
    "frequency = 'Y'\n",
    "\n",
    "# Format date and create 'y' and 'ym' columns\n",
    "stoxda['date'] = pd.to_datetime(stoxda['date'])\n",
    "stoxda['y'] = stoxda['date'].dt.year\n",
    "stoxda['ym'] = stoxda['y']*100 + stoxda['date'].dt.month\n",
    "stox = pd.merge(stoxda, cequity_mapper, left_on=['PERMNO', 'y'], right_on=['PERMNO', 'year'], how='left')\n",
    "stox = stox[stox['crit_ALL'] == 1]\n",
    "stox = pd.merge(stox, topic_map, left_on=['PERMNO', 'y'], right_on=['LPERMNO', 'year'], how='left')\n",
    "stox.set_index('date', inplace=True)\n",
    "moment_df = stox.groupby(['PERMNO', hue_var]).resample(frequency)['RET'].apply(statfunc)\n",
    "stox_by_kk = (moment_df.reset_index().groupby([hue_var, 'date'])\n",
    "                .agg(avg_kurt=('RET', 'mean'))\n",
    "                .reset_index())\n",
    "moment_df= moment_df.reset_index()\n",
    "large_palette = sns.color_palette('husl', 8)\n",
    "# Find the two lowest and two highest values of ntile_kk:\n",
    "ntile_kk_values = stox_by_kk[hue_var].unique()\n",
    "sorted_values = sorted(ntile_kk_values)\n",
    "\n",
    "lowest_two = sorted_values[:2]\n",
    "highest_two = sorted_values[-2:]\n",
    "keep = lowest_two + highest_two\n",
    "\n",
    "# Filter stox_by_kk to only include ntile_kk values equal to the two lowest and two highest values of ntile_kk\n",
    "if hue_var == 'ntile_kk':\n",
    "    stox_by_kk = stox_by_kk[stox_by_kk[hue_var].isin(keep)]\n",
    "if hue_var == 'max_topic':\n",
    "    # Filter only rows where max_topic is between 0 and 7 (inclusive):\n",
    "    stox_by_kk = stox_by_kk[stox_by_kk[hue_var].between(0, 7)]\n",
    "sns.lineplot(data=stox_by_kk, x='date', y='avg_kurt', hue=hue_var, palette=large_palette)\n",
    "plt.title(f\"{moment_name} over time by {hue_var}\")\n",
    "plt.xlabel(\"Year-Month\")\n",
    "plt.ylabel(f\"{moment_name}\")\n",
    "plt.legend(title='Group', fontsize='small')\n",
    "plt.xticks(rotation=45)\n",
    "plt.tight_layout()\n",
    "plt.savefig(f\"{figfolder}/{moment_name}_by_{hue_var}_{frequency}.jpg\", dpi=600)\n",
    "plt.clf()"
   ]
  },
  {
   "cell_type": "markdown",
   "metadata": {},
   "source": [
    "Variables created:\n",
    "\n",
    "- amazon_nov01_short:\n",
    "\n",
    "- cequity_mapper:\n",
    "\n",
    "- Fama-French factors: ff3fw, ff5fw, ff3fm, ff5fm\n",
    "\n",
    "- Topic_map_unlabeled\n",
    "\n",
    "- Stocks vectors: stoxmo_orig, stoxwe_orig\n",
    "\n",
    "- comparison_measures: a vector that calculates the average industry skill and firm patent intensity for each of the topics."
   ]
  }
 ],
 "metadata": {
  "kernelspec": {
   "display_name": "Python (envkkr)",
   "language": "python",
   "name": "envkkr"
  },
  "language_info": {
   "codemirror_mode": {
    "name": "ipython",
    "version": 3
   },
   "file_extension": ".py",
   "mimetype": "text/x-python",
   "name": "python",
   "nbconvert_exporter": "python",
   "pygments_lexer": "ipython3",
   "version": "3.9.13"
  }
 },
 "nbformat": 4,
 "nbformat_minor": 2
}
