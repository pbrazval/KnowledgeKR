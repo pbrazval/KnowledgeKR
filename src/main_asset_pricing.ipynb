{
 "cells": [
  {
   "cell_type": "code",
   "execution_count": 1,
   "metadata": {},
   "outputs": [
    {
     "name": "stdout",
     "output_type": "stream",
     "text": [
      "Current Working Directory: /Users/pedrovallocci/Documents/PhD (local)/Research/Github/KnowledgeKRisk_10Ks/src\n",
      "New Working Directory: /Users/pedrovallocci/Documents/PhD (local)/Research/Github/KnowledgeKRisk_10Ks/src\n"
     ]
    }
   ],
   "source": [
    "# Require Pandas version >= 2.2.2\n",
    "import pandas as pd\n",
    "assert pd.__version__ >= '2.2.2', 'Please update Pandas to version 2.2.2 or newer'\n",
    "import pandas as pd, os, pyreadr\n",
    "import warnings\n",
    "import time\n",
    "import numpy as  np\n",
    "import pandas as pd\n",
    "import pandas as pd\n",
    "import visualization as viz\n",
    "import data_loading as dl\n",
    "import risk_pricing as rp\n",
    "import statsmodels.api as sm\n",
    "import statsmodels.formula.api as smf\n",
    "import importlib\n",
    "importlib.reload(rp)\n",
    "importlib.reload(viz)\n",
    "importlib.reload(dl)\n",
    "warnings.filterwarnings(\"ignore\")\n",
    "source_folder_path = \"/Users/pedrovallocci/Documents/PhD (local)/Research/Github/KnowledgeKRisk_10Ks/src/\"\n",
    "modelname = \"embeddings_km10_ipcs\" # \"dicfullmc10thr10defnob40noa0_8_hdp\" # Don't forget to clean again when modelname changes\n",
    "pfn = \"pf36_name\"\n",
    "mo_window = 12*5\n",
    "start_time = time.time()\n",
    "# print the current working directory (for reference)\n",
    "print(\"Current Working Directory:\", os.getcwd())\n",
    "os.chdir(source_folder_path)\n",
    "print(\"New Working Directory:\", os.getcwd())"
   ]
  },
  {
   "cell_type": "code",
   "execution_count": 2,
   "metadata": {},
   "outputs": [],
   "source": [
    "# # Creating additional models\n",
    "# import embedding_tools as et\n",
    "# from embedding_tools import Embeddings\n",
    "# from embedding_tools import EmbeddingsHKRModel\n",
    "# embeddings = Embeddings()\n",
    "# EmbeddingsHKRModel().from_topic_similarity(embeddings, \"emb_knocap\", \"knowledge capital\", to_csv = True)\n",
    "# EmbeddingsHKRModel().from_topic_similarity(embeddings, \"emb_patents\", \"patents\", to_csv = True)\n",
    "# EmbeddingsHKRModel().from_topic_similarity(embeddings, \"emb_intcap\", \"intangible capital\", to_csv = True)"
   ]
  },
  {
   "cell_type": "code",
   "execution_count": 3,
   "metadata": {},
   "outputs": [
    {
     "name": "stdout",
     "output_type": "stream",
     "text": [
      "Tempo de execução depois de carregar os dados: 8.894287109375\n"
     ]
    }
   ],
   "source": [
    "# Loading the data from load_dataframes:\n",
    "amazon_nov01_short, cequity_mapper, ff3fw, ff5fw, ff3fm, ff5fm, topic_map_unlabeled, comparison_measures, stoxmo_orig, stoxda_orig, stoxwe_orig = \\\n",
    "    dl.load_dataframes(modelname, start_time, clean_again = False)\n"
   ]
  },
  {
   "cell_type": "code",
   "execution_count": 6,
   "metadata": {},
   "outputs": [],
   "source": [
    "import risk_pricing as rp\n",
    "import importlib\n",
    "importlib.reload(rp)\n",
    "importlib.reload(viz)\n",
    "quantiles = 8\n",
    "pfname = \"pfkk2me3mb\" #'pfkk3me3mb', 'pf2me3mb', 'pf5me5mb', 'pfkk2me3mb', 'pfkki3me3mb'\n",
    "cuts = np.linspace(0, 1, quantiles+1).tolist()\n",
    "topic_map = viz.label_topic_map(topic_map_unlabeled, modelname, cuts = cuts)\n",
    "fmb_5, indexed_df, eret_we, stoxwe_add = rp.famaMacBethFull(stoxwe_orig, cequity_mapper, topic_map, ff5fw, pfname, kki_cuts = cuts, window_size = 52*2, add_innerkk_pf = True)\n",
    "fmb_3, _, _, _ = rp.famaMacBethFull(stoxwe_orig, cequity_mapper, topic_map, ff3fw, pfname, kki_cuts = cuts, window_size = 52*2, add_innerkk_pf = True)\n",
    "fmb_1, _, _, _ = rp.famaMacBethFull(stoxwe_orig, cequity_mapper, topic_map, ff3fw, pfname, formula = \"eretw ~ MktRF + HKR\", kki_cuts = cuts, window_size = 52*2, add_innerkk_pf = True)\n",
    "import visualization as viz\n",
    "import importlib\n",
    "importlib.reload(viz)\n",
    "#import visualization as viz\n",
    "base_path = \"/Users/pedrovallocci/Documents/PhD (local)/Research/Github/KnowledgeKRisk_10Ks/text/\"\n",
    "dir_path = os.path.join(base_path, f\"{modelname}_{quantiles}tiles_{pfname}\")\n",
    "os.makedirs(dir_path, exist_ok=True)\n",
    "figfolder = os.path.join(dir_path, \"\")\n",
    "generate_plots = True\n",
    "##\n",
    "viz.explore_topic_map(topic_map, figfolder, generate_plots)\n",
    "viz.explore_fmb([fmb_1, fmb_3, fmb_5], figfolder)\n",
    "viz.explore_eret_we(eret_we, figfolder)\n",
    "viz.tex_compare_kk_measures(comparison_measures, figfolder)\n",
    "viz.plot_returns(stoxwe_add, figfolder)\n",
    "viz.amazon_graph(amazon_nov01_short, figfolder)\n",
    "viz.filecounter(figfolder)\n",
    "viz.explore_stoxda(stoxda_orig, cequity_mapper, topic_map, figfolder)"
   ]
  },
  {
   "cell_type": "code",
   "execution_count": 41,
   "metadata": {},
   "outputs": [
    {
     "data": {
      "text/html": [
       "<div>\n",
       "<style scoped>\n",
       "    .dataframe tbody tr th:only-of-type {\n",
       "        vertical-align: middle;\n",
       "    }\n",
       "\n",
       "    .dataframe tbody tr th {\n",
       "        vertical-align: top;\n",
       "    }\n",
       "\n",
       "    .dataframe thead th {\n",
       "        text-align: right;\n",
       "    }\n",
       "</style>\n",
       "<table border=\"1\" class=\"dataframe\">\n",
       "  <thead>\n",
       "    <tr style=\"text-align: right;\">\n",
       "      <th></th>\n",
       "      <th>yw</th>\n",
       "      <th>HKR_SB</th>\n",
       "    </tr>\n",
       "  </thead>\n",
       "  <tbody>\n",
       "    <tr>\n",
       "      <th>0</th>\n",
       "      <td>200627.0</td>\n",
       "      <td>-0.028851</td>\n",
       "    </tr>\n",
       "    <tr>\n",
       "      <th>1</th>\n",
       "      <td>200628.0</td>\n",
       "      <td>-0.039941</td>\n",
       "    </tr>\n",
       "    <tr>\n",
       "      <th>2</th>\n",
       "      <td>200629.0</td>\n",
       "      <td>-0.015079</td>\n",
       "    </tr>\n",
       "    <tr>\n",
       "      <th>3</th>\n",
       "      <td>200630.0</td>\n",
       "      <td>0.025082</td>\n",
       "    </tr>\n",
       "    <tr>\n",
       "      <th>4</th>\n",
       "      <td>200631.0</td>\n",
       "      <td>-0.019042</td>\n",
       "    </tr>\n",
       "    <tr>\n",
       "      <th>...</th>\n",
       "      <td>...</td>\n",
       "      <td>...</td>\n",
       "    </tr>\n",
       "    <tr>\n",
       "      <th>752</th>\n",
       "      <td>202049.0</td>\n",
       "      <td>0.014406</td>\n",
       "    </tr>\n",
       "    <tr>\n",
       "      <th>753</th>\n",
       "      <td>202050.0</td>\n",
       "      <td>-0.001068</td>\n",
       "    </tr>\n",
       "    <tr>\n",
       "      <th>754</th>\n",
       "      <td>202051.0</td>\n",
       "      <td>0.017294</td>\n",
       "    </tr>\n",
       "    <tr>\n",
       "      <th>755</th>\n",
       "      <td>202052.0</td>\n",
       "      <td>0.006375</td>\n",
       "    </tr>\n",
       "    <tr>\n",
       "      <th>756</th>\n",
       "      <td>202053.0</td>\n",
       "      <td>-0.001757</td>\n",
       "    </tr>\n",
       "  </tbody>\n",
       "</table>\n",
       "<p>757 rows × 2 columns</p>\n",
       "</div>"
      ],
      "text/plain": [
       "           yw    HKR_SB\n",
       "0    200627.0 -0.028851\n",
       "1    200628.0 -0.039941\n",
       "2    200629.0 -0.015079\n",
       "3    200630.0  0.025082\n",
       "4    200631.0 -0.019042\n",
       "..        ...       ...\n",
       "752  202049.0  0.014406\n",
       "753  202050.0 -0.001068\n",
       "754  202051.0  0.017294\n",
       "755  202052.0  0.006375\n",
       "756  202053.0 -0.001757\n",
       "\n",
       "[757 rows x 2 columns]"
      ]
     },
     "execution_count": 41,
     "metadata": {},
     "output_type": "execute_result"
    }
   ],
   "source": [
    "max_kknt = 7\n",
    "HKR_ret = (stoxwe_add\n",
    "            .loc[:, ['yw', 'ntile_kk', 'me_group', 'topic_kk', 'eretw', 'me']]\n",
    "            .dropna(subset=['topic_kk'])\n",
    "            .groupby(['yw', 'ntile_kk', 'me_group'])\n",
    "            .apply(lambda df: pd.Series({\n",
    "                'eret': (df['eretw'] * df['me']).sum() / df['me'].sum()}))\n",
    "            .reset_index()\n",
    "            .groupby(['yw', 'ntile_kk'])\n",
    "            .agg(eret_mean=('eret', 'mean'))\n",
    "            .reset_index()\n",
    "            .pivot_table(index='yw', columns='ntile_kk', values='eret_mean', aggfunc='mean')\n",
    "            .rename(columns=lambda x: f'kk{x}')\n",
    "            .assign(HKR_SB=lambda df: df[f'kk{max_kknt}'] - df['kk0'])\n",
    "            .reset_index()\n",
    "            .loc[:, ['yw', 'HKR_SB']])\n",
    "HKR_ret.columns.name = None\n",
    "HKR_ret \n",
    "# HKR_ret = (stoxwe_add.dropna(subset=['topic_kk'])\n",
    "#             .groupby(['yw', 'ntile_kk'])\n",
    "            # .apply(lambda df: pd.Series({\n",
    "            #     'eret': (df['eretw'] * df['me']).sum() / df['me'].sum()}))\n",
    "#             .reset_index()"
   ]
  },
  {
   "cell_type": "code",
   "execution_count": null,
   "metadata": {},
   "outputs": [
    {
     "data": {
      "text/plain": [
       "Index(['yw', 'PERMNO', 'retw', 'y', 'gvkey', 'cusip8', 'cik_x', 'year_x',\n",
       "       'crit_EXCHG', 'crit_PRC', 'crit_SHRCD', 'crit_ALL', 'max_topic',\n",
       "       'topic_kk', 'year_y', 'CIK', 'CUSIP8', 'LPERMNO', 'sic', 'cik_y',\n",
       "       'gvkey_y', 'conm', 'naics4', 'ind12', 'sic3', 'hi_tech', 'Skill',\n",
       "       'xi_yeartotal', 'xi_cumsum', 'K_int_Know', 'K_int', 'at', 'prcc_f',\n",
       "       'prcc_c', 'ppegt', 'csho', 'ceq', 'cusip', 'exchg', 'xir_cumsum',\n",
       "       'xir_total', 'ntile_kk', 'Mkt-RF', 'SMB', 'HML', 'RMW', 'CMA', 'RF',\n",
       "       'eretw', 'fiscalyear', 'mb', 'me', 'kk_share', 'pfkk3me3mb', 'pf2me3mb',\n",
       "       'pf5me5mb', 'pfkk2me3mb', 'pfkki3me3mb'],\n",
       "      dtype='object')"
      ]
     },
     "execution_count": 7,
     "metadata": {},
     "output_type": "execute_result"
    }
   ],
   "source": [
    "# dog = (stoxwe_add.dropna(subset=['topic_kk'])\n",
    "#              .groupby(['yw', 'ntile_kk', 'me_group'])\n",
    "#              .apply(lambda df: pd.Series({\n",
    "#                  'eret': (df['eretw'] * df['me']).sum() / df['me'].sum()})))\n",
    "stoxwe_add.columns\n",
    "# HKR_ret = (stoxwe_add.dropna(subset=['topic_kk'])\n",
    "#             .groupby(['yw', 'ntile_kk', 'me_group'])\n",
    "#             .apply(lambda df: pd.Series({\n",
    "#                 'eret': (df['eretw'] * df['me']).sum() / df['me'].sum()}))\n",
    "#             .reset_index()\n",
    "#             .pivot_table(index='yw', columns='ntile_kk', values='eret', aggfunc='mean')\n",
    "#             .rename(columns=lambda x: f'kk{x}')\n",
    "#             .assign(HKR=lambda df: df[f'kk{max_kknt}'] - df['kk0'])\n",
    "#             [['HKR']]\n",
    "#             .reset_index())"
   ]
  },
  {
   "cell_type": "markdown",
   "metadata": {},
   "source": [
    "Variables created:\n",
    "\n",
    "- amazon_nov01_short:\n",
    "\n",
    "- cequity_mapper:\n",
    "\n",
    "- Fama-French factors: ff3fw, ff5fw, ff3fm, ff5fm\n",
    "\n",
    "- Topic_map_unlabeled\n",
    "\n",
    "- Stocks vectors: stoxmo_orig, stoxwe_orig\n",
    "\n",
    "- comparison_measures: a vector that calculates the average industry skill and firm patent intensity for each of the topics."
   ]
  }
 ],
 "metadata": {
  "kernelspec": {
   "display_name": "Python (envkkr)",
   "language": "python",
   "name": "envkkr"
  },
  "language_info": {
   "codemirror_mode": {
    "name": "ipython",
    "version": 3
   },
   "file_extension": ".py",
   "mimetype": "text/x-python",
   "name": "python",
   "nbconvert_exporter": "python",
   "pygments_lexer": "ipython3",
   "version": "3.9.13"
  }
 },
 "nbformat": 4,
 "nbformat_minor": 2
}
