{
 "cells": [
  {
   "cell_type": "code",
   "execution_count": 1,
   "metadata": {},
   "outputs": [
    {
     "name": "stdout",
     "output_type": "stream",
     "text": [
      "Current Working Directory: /Users/pedrovallocci/Documents/PhD (local)/Research/Github/KnowledgeKRisk_10Ks/src\n",
      "New Working Directory: /Users/pedrovallocci/Documents/PhD (local)/Research/Github/KnowledgeKRisk_10Ks/src\n"
     ]
    }
   ],
   "source": [
    "# Require Pandas version >= 2.2.2\n",
    "import pandas as pd\n",
    "#pd.__version__\n",
    "assert pd.__version__ >= '2.2.2', 'Please update Pandas to version 2.2.2 or newer'\n",
    "import linearmodels\n",
    "import pandas as pd, os, pyreadr\n",
    "import warnings\n",
    "import time\n",
    "import numpy as  np\n",
    "import pandas as pd\n",
    "import random\n",
    "import pandas as pd\n",
    "import visualization as viz\n",
    "import data_loading as dl\n",
    "import risk_pricing as rp\n",
    "import statsmodels\n",
    "import statsmodels.api as sm\n",
    "import statsmodels.formula.api as smf\n",
    "import importlib\n",
    "importlib.reload(rp)\n",
    "importlib.reload(viz)\n",
    "importlib.reload(dl)\n",
    "#print(pd.__version__)\n",
    "#% PARAMETERS\n",
    "source_folder_path = \"/Users/pedrovallocci/Documents/PhD (local)/Research/Github/KnowledgeKRisk_10Ks/src/\"\n",
    "modelname = \"emb_intcap\" # \"dicfullmc10thr10defnob40noa0_8_hdp\" # Don't forget to clean again when modelname changes\n",
    "quantiles = 4\n",
    "generate_plots = True\n",
    "warnings.filterwarnings(\"ignore\")\n",
    "print_kurtosis = False\n",
    "pfn = \"pf36_name\"\n",
    "mo_window = 12*5\n",
    "start_time = time.time()\n",
    "# print the current working directory (for reference)\n",
    "print(\"Current Working Directory:\", os.getcwd())\n",
    "os.chdir(source_folder_path)\n",
    "print(\"New Working Directory:\", os.getcwd())\n",
    "# Creating the directory\n",
    "base_path = \"/Users/pedrovallocci/Documents/PhD (local)/Research/Github/KnowledgeKRisk_10Ks/text/\""
   ]
  },
  {
   "cell_type": "code",
   "execution_count": 2,
   "metadata": {},
   "outputs": [],
   "source": [
    "# # Creating additional models\n",
    "# import embedding_tools as et\n",
    "# from embedding_tools import Embeddings\n",
    "# from embedding_tools import EmbeddingsHKRModel\n",
    "# embeddings = Embeddings()\n",
    "# EmbeddingsHKRModel().from_topic_similarity(embeddings, \"emb_knocap\", \"knowledge capital\", to_csv = True)\n",
    "# EmbeddingsHKRModel().from_topic_similarity(embeddings, \"emb_patents\", \"patents\", to_csv = True)\n",
    "# EmbeddingsHKRModel().from_topic_similarity(embeddings, \"emb_intcap\", \"intangible capital\", to_csv = True)"
   ]
  },
  {
   "cell_type": "code",
   "execution_count": 3,
   "metadata": {},
   "outputs": [
    {
     "name": "stdout",
     "output_type": "stream",
     "text": [
      "Tempo de execução: 31.342093229293823\n",
      "Tempo de execução: 33.735857009887695\n",
      "Tempo de execução: 33.75385117530823\n",
      "Tempo de execução: 33.778911113739014\n",
      "Tempo de execução: 33.8965630531311\n",
      "Tempo de execução: 54.65277695655823\n"
     ]
    }
   ],
   "source": [
    "# Loading the data from load_dataframes:\n",
    "amazon_nov01_short, cequity_mapper, ff3fw, ff5fw, ff3fm, ff5fm, topic_map_unlabeled, comparison_measures, stoxmo_orig, stoxda_orig, stoxwe_orig = \\\n",
    "    dl.load_dataframes(modelname, start_time, clean_again = True)\n"
   ]
  },
  {
   "cell_type": "code",
   "execution_count": 4,
   "metadata": {},
   "outputs": [
    {
     "data": {
      "text/html": [
       "<table class=\"simpletable\">\n",
       "<caption>FamaMacBeth Estimation Summary</caption>\n",
       "<tr>\n",
       "  <th>Dep. Variable:</th>             <td>eretw</td>          <th>  R-squared:         </th>     <td>0.0034</td>  \n",
       "</tr>\n",
       "<tr>\n",
       "  <th>Estimator:</th>              <td>FamaMacBeth</td>       <th>  R-squared (Between):</th>    <td>0.8771</td>  \n",
       "</tr>\n",
       "<tr>\n",
       "  <th>No. Observations:</th>          <td>29430</td>          <th>  R-squared (Within):</th>     <td>0.0002</td>  \n",
       "</tr>\n",
       "<tr>\n",
       "  <th>Date:</th>                <td>Sun, Jun 23 2024</td>     <th>  R-squared (Overall):</th>    <td>0.0034</td>  \n",
       "</tr>\n",
       "<tr>\n",
       "  <th>Time:</th>                    <td>18:36:01</td>         <th>  Log-likelihood     </th>    <td>5.483e+04</td>\n",
       "</tr>\n",
       "<tr>\n",
       "  <th>Cov. Estimator:</th>   <td>Fama-MacBeth Kernel Cov</td> <th>                     </th>        <td></td>     \n",
       "</tr>\n",
       "<tr>\n",
       "  <th></th>                             <td></td>             <th>  F-statistic:       </th>     <td>16.604</td>  \n",
       "</tr>\n",
       "<tr>\n",
       "  <th>Entities:</th>                   <td>45</td>            <th>  P-value            </th>     <td>0.0000</td>  \n",
       "</tr>\n",
       "<tr>\n",
       "  <th>Avg Obs:</th>                  <td>654.00</td>          <th>  Distribution:      </th>   <td>F(6,29424)</td>\n",
       "</tr>\n",
       "<tr>\n",
       "  <th>Min Obs:</th>                  <td>654.00</td>          <th>                     </th>        <td></td>     \n",
       "</tr>\n",
       "<tr>\n",
       "  <th>Max Obs:</th>                  <td>654.00</td>          <th>  F-statistic (robust):</th>   <td>4.6520</td>  \n",
       "</tr>\n",
       "<tr>\n",
       "  <th></th>                             <td></td>             <th>  P-value            </th>     <td>0.0001</td>  \n",
       "</tr>\n",
       "<tr>\n",
       "  <th>Time periods:</th>               <td>654</td>           <th>  Distribution:      </th>   <td>F(6,29424)</td>\n",
       "</tr>\n",
       "<tr>\n",
       "  <th>Avg Obs:</th>                  <td>45.000</td>          <th>                     </th>        <td></td>     \n",
       "</tr>\n",
       "<tr>\n",
       "  <th>Min Obs:</th>                  <td>45.000</td>          <th>                     </th>        <td></td>     \n",
       "</tr>\n",
       "<tr>\n",
       "  <th>Max Obs:</th>                  <td>45.000</td>          <th>                     </th>        <td></td>     \n",
       "</tr>\n",
       "<tr>\n",
       "  <th></th>                             <td></td>             <th>                     </th>        <td></td>     \n",
       "</tr>\n",
       "</table>\n",
       "<table class=\"simpletable\">\n",
       "<caption>Parameter Estimates</caption>\n",
       "<tr>\n",
       "    <td></td>    <th>Parameter</th> <th>Std. Err.</th> <th>T-stat</th>  <th>P-value</th> <th>Lower CI</th>  <th>Upper CI</th>\n",
       "</tr>\n",
       "<tr>\n",
       "  <th>MktRF</th>  <td>0.0021</td>    <td>0.0010</td>   <td>2.0180</td>  <td>0.0436</td>  <td>6.082e-05</td>  <td>0.0042</td> \n",
       "</tr>\n",
       "<tr>\n",
       "  <th>SMB</th>   <td>3.419e-05</td>  <td>0.0005</td>   <td>0.0640</td>  <td>0.9490</td>   <td>-0.0010</td>   <td>0.0011</td> \n",
       "</tr>\n",
       "<tr>\n",
       "  <th>HML</th>    <td>-0.0021</td>   <td>0.0007</td>   <td>-2.8866</td> <td>0.0039</td>   <td>-0.0035</td>   <td>-0.0007</td>\n",
       "</tr>\n",
       "<tr>\n",
       "  <th>CMA</th>    <td>-0.0014</td>   <td>0.0004</td>   <td>-3.2899</td> <td>0.0010</td>   <td>-0.0023</td>   <td>-0.0006</td>\n",
       "</tr>\n",
       "<tr>\n",
       "  <th>RMW</th>    <td>0.0006</td>    <td>0.0005</td>   <td>1.2317</td>  <td>0.2181</td>   <td>-0.0003</td>   <td>0.0015</td> \n",
       "</tr>\n",
       "<tr>\n",
       "  <th>HKR</th>    <td>0.0008</td>    <td>0.0007</td>   <td>1.2112</td>  <td>0.2258</td>   <td>-0.0005</td>   <td>0.0021</td> \n",
       "</tr>\n",
       "</table>"
      ],
      "text/latex": [
       "\\begin{center}\n",
       "\\begin{tabular}{lclc}\n",
       "\\toprule\n",
       "\\textbf{Dep. Variable:}    &          eretw          & \\textbf{  R-squared:         }   &      0.0034      \\\\\n",
       "\\textbf{Estimator:}        &       FamaMacBeth       & \\textbf{  R-squared (Between):}  &      0.8771      \\\\\n",
       "\\textbf{No. Observations:} &          29430          & \\textbf{  R-squared (Within):}   &      0.0002      \\\\\n",
       "\\textbf{Date:}             &     Sun, Jun 23 2024    & \\textbf{  R-squared (Overall):}  &      0.0034      \\\\\n",
       "\\textbf{Time:}             &         18:36:01        & \\textbf{  Log-likelihood     }   &    5.483e+04     \\\\\n",
       "\\textbf{Cov. Estimator:}   & Fama-MacBeth Kernel Cov & \\textbf{                     }   &                  \\\\\n",
       "\\textbf{}                  &                         & \\textbf{  F-statistic:       }   &      16.604      \\\\\n",
       "\\textbf{Entities:}         &            45           & \\textbf{  P-value            }   &      0.0000      \\\\\n",
       "\\textbf{Avg Obs:}          &          654.00         & \\textbf{  Distribution:      }   &    F(6,29424)    \\\\\n",
       "\\textbf{Min Obs:}          &          654.00         & \\textbf{                     }   &                  \\\\\n",
       "\\textbf{Max Obs:}          &          654.00         & \\textbf{  F-statistic (robust):} &      4.6520      \\\\\n",
       "\\textbf{}                  &                         & \\textbf{  P-value            }   &      0.0001      \\\\\n",
       "\\textbf{Time periods:}     &           654           & \\textbf{  Distribution:      }   &    F(6,29424)    \\\\\n",
       "\\textbf{Avg Obs:}          &          45.000         & \\textbf{                     }   &                  \\\\\n",
       "\\textbf{Min Obs:}          &          45.000         & \\textbf{                     }   &                  \\\\\n",
       "\\textbf{Max Obs:}          &          45.000         & \\textbf{                     }   &                  \\\\\n",
       "\\textbf{}                  &                         & \\textbf{                     }   &                  \\\\\n",
       "\\bottomrule\n",
       "\\end{tabular}\n",
       "\\begin{tabular}{lcccccc}\n",
       "               & \\textbf{Parameter} & \\textbf{Std. Err.} & \\textbf{T-stat} & \\textbf{P-value} & \\textbf{Lower CI} & \\textbf{Upper CI}  \\\\\n",
       "\\midrule\n",
       "\\textbf{MktRF} &       0.0021       &       0.0010       &      2.0180     &      0.0436      &     6.082e-05     &       0.0042       \\\\\n",
       "\\textbf{SMB}   &     3.419e-05      &       0.0005       &      0.0640     &      0.9490      &      -0.0010      &       0.0011       \\\\\n",
       "\\textbf{HML}   &      -0.0021       &       0.0007       &     -2.8866     &      0.0039      &      -0.0035      &      -0.0007       \\\\\n",
       "\\textbf{CMA}   &      -0.0014       &       0.0004       &     -3.2899     &      0.0010      &      -0.0023      &      -0.0006       \\\\\n",
       "\\textbf{RMW}   &       0.0006       &       0.0005       &      1.2317     &      0.2181      &      -0.0003      &       0.0015       \\\\\n",
       "\\textbf{HKR}   &       0.0008       &       0.0007       &      1.2112     &      0.2258      &      -0.0005      &       0.0021       \\\\\n",
       "\\bottomrule\n",
       "\\end{tabular}\n",
       "%\\caption{FamaMacBeth Estimation Summary}\n",
       "\\end{center}"
      ],
      "text/plain": [
       "<class 'linearmodels.compat.statsmodels.Summary'>\n",
       "\"\"\"\n",
       "                            FamaMacBeth Estimation Summary                           \n",
       "=====================================================================================\n",
       "Dep. Variable:                       eretw   R-squared:                        0.0034\n",
       "Estimator:                     FamaMacBeth   R-squared (Between):              0.8771\n",
       "No. Observations:                    29430   R-squared (Within):               0.0002\n",
       "Date:                     Sun, Jun 23 2024   R-squared (Overall):              0.0034\n",
       "Time:                             18:36:01   Log-likelihood                 5.483e+04\n",
       "Cov. Estimator:    Fama-MacBeth Kernel Cov                                           \n",
       "                                             F-statistic:                      16.604\n",
       "Entities:                               45   P-value                           0.0000\n",
       "Avg Obs:                            654.00   Distribution:                 F(6,29424)\n",
       "Min Obs:                            654.00                                           \n",
       "Max Obs:                            654.00   F-statistic (robust):             4.6520\n",
       "                                             P-value                           0.0001\n",
       "Time periods:                          654   Distribution:                 F(6,29424)\n",
       "Avg Obs:                            45.000                                           \n",
       "Min Obs:                            45.000                                           \n",
       "Max Obs:                            45.000                                           \n",
       "                                                                                     \n",
       "                             Parameter Estimates                              \n",
       "==============================================================================\n",
       "            Parameter  Std. Err.     T-stat    P-value    Lower CI    Upper CI\n",
       "------------------------------------------------------------------------------\n",
       "MktRF          0.0021     0.0010     2.0180     0.0436   6.082e-05      0.0042\n",
       "SMB         3.419e-05     0.0005     0.0640     0.9490     -0.0010      0.0011\n",
       "HML           -0.0021     0.0007    -2.8866     0.0039     -0.0035     -0.0007\n",
       "CMA           -0.0014     0.0004    -3.2899     0.0010     -0.0023     -0.0006\n",
       "RMW            0.0006     0.0005     1.2317     0.2181     -0.0003      0.0015\n",
       "HKR            0.0008     0.0007     1.2112     0.2258     -0.0005      0.0021\n",
       "==============================================================================\n",
       "\"\"\""
      ]
     },
     "execution_count": 4,
     "metadata": {},
     "output_type": "execute_result"
    }
   ],
   "source": [
    "import risk_pricing as rp\n",
    "import importlib\n",
    "importlib.reload(rp)\n",
    "importlib.reload(viz)\n",
    "quantiles = 5\n",
    "pfname = \"pfkki3me3mb\" #'pfkk3me3mb', 'pf2me3mb', 'pf5me5mb', 'pfkk2me3mb', 'pfkki3me3mb'\n",
    "cuts = np.linspace(0, 1, quantiles+1).tolist()\n",
    "topic_map = viz.label_topic_map(topic_map_unlabeled, modelname, cuts = cuts)\n",
    "fmb_3, indexed_df, eret_we, stoxwe_add = rp.famaMacBethFull(stoxwe_orig, cequity_mapper, topic_map, ff3fw, pfname, kki_cuts = cuts, window_size = 52*2, add_innerkk_pf = True)\n",
    "fmb_5, indexed_df, eret_we, stoxwe_add = rp.famaMacBethFull(stoxwe_orig, cequity_mapper, topic_map, ff5fw, pfname, kki_cuts = cuts, window_size = 52*2, add_innerkk_pf = True)\n",
    "fmb_1, indexed_df, eret_we, stoxwe_add = rp.famaMacBethFull(stoxwe_orig, cequity_mapper, topic_map, ff3fw, pfname, formula = \"eretw ~ MktRF + HKR\", kki_cuts = cuts, window_size = 52*2, add_innerkk_pf = True)\n",
    "fmb_5.summary"
   ]
  },
  {
   "cell_type": "markdown",
   "metadata": {},
   "source": [
    "Variables created:\n",
    "\n",
    "- amazon_nov01_short:\n",
    "\n",
    "- cequity_mapper:\n",
    "\n",
    "- Fama-French factors: ff3fw, ff5fw, ff3fm, ff5fm\n",
    "\n",
    "- Topic_map_unlabeled\n",
    "\n",
    "- Stocks vectors: stoxmo_orig, stoxwe_orig\n",
    "\n",
    "- comparison_measures: a vector that calculates the average industry skill and firm patent intensity for each of the topics."
   ]
  },
  {
   "cell_type": "code",
   "execution_count": 5,
   "metadata": {},
   "outputs": [
    {
     "name": "stdout",
     "output_type": "stream",
     "text": [
      "Executing fig_mean_tiy...\n",
      "Executing tex_average_topic_loadings_by_high_tech...\n",
      "Executing tex_sample_topic_loadings...\n",
      "Executing df_skill_correlations...\n",
      "Executing df_patent_correlations...\n",
      "Executing fig_share_dominant_kk_by_ind...\n",
      "Executing fig_heatmap_topicvskkpt...\n",
      "Executing fig_heatmap_topicvsikpt...\n",
      "Executing fig_histogram_kk...\n",
      "Executing fig_histogram_kk_by_ind12...\n",
      "Finished!\n",
      "Executing explore_fmb...\n",
      "Executing tex_summary...\n",
      "Executing fig_h1b_vs_smb_kkhml...\n",
      "Executing tex_HKR_vs_mktrf...\n",
      "Executing tex_compare_kk_measures...\n",
      "Executing plot_returns...\n",
      "Executing amazon_graph...\n",
      "Executing filecounter...\n",
      "Executing plot_moment...\n",
      "Executing plot_moment...\n"
     ]
    },
    {
     "data": {
      "text/plain": [
       "<Figure size 640x480 with 0 Axes>"
      ]
     },
     "metadata": {},
     "output_type": "display_data"
    },
    {
     "data": {
      "text/plain": [
       "<Figure size 640x480 with 0 Axes>"
      ]
     },
     "metadata": {},
     "output_type": "display_data"
    },
    {
     "data": {
      "text/plain": [
       "<Figure size 640x480 with 0 Axes>"
      ]
     },
     "metadata": {},
     "output_type": "display_data"
    },
    {
     "data": {
      "text/plain": [
       "<Figure size 640x480 with 0 Axes>"
      ]
     },
     "metadata": {},
     "output_type": "display_data"
    },
    {
     "data": {
      "text/plain": [
       "<Figure size 640x480 with 0 Axes>"
      ]
     },
     "metadata": {},
     "output_type": "display_data"
    },
    {
     "data": {
      "text/plain": [
       "<Figure size 640x480 with 0 Axes>"
      ]
     },
     "metadata": {},
     "output_type": "display_data"
    }
   ],
   "source": [
    "import visualization as viz\n",
    "import importlib\n",
    "importlib.reload(viz)\n",
    "#import visualization as viz\n",
    "dir_path = os.path.join(base_path, modelname)\n",
    "os.makedirs(dir_path, exist_ok=True)\n",
    "figfolder = os.path.join(dir_path, \"\")\n",
    "##\n",
    "viz.explore_topic_map(topic_map, figfolder, generate_plots)\n",
    "viz.explore_fmb([fmb_1, fmb_3, fmb_5], figfolder)\n",
    "viz.explore_eret_we(eret_we, figfolder)\n",
    "viz.tex_compare_kk_measures(comparison_measures, figfolder)\n",
    "viz.plot_returns(stoxwe_add, figfolder)\n",
    "viz.amazon_graph(amazon_nov01_short, figfolder)\n",
    "viz.filecounter(figfolder)\n",
    "viz.explore_stoxda(stoxda_orig, cequity_mapper, topic_map, figfolder)\n"
   ]
  }
 ],
 "metadata": {
  "kernelspec": {
   "display_name": "Python (envkkr)",
   "language": "python",
   "name": "envkkr"
  },
  "language_info": {
   "codemirror_mode": {
    "name": "ipython",
    "version": 3
   },
   "file_extension": ".py",
   "mimetype": "text/x-python",
   "name": "python",
   "nbconvert_exporter": "python",
   "pygments_lexer": "ipython3",
   "version": "3.9.13"
  }
 },
 "nbformat": 4,
 "nbformat_minor": 2
}
